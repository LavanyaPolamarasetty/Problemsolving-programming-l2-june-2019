{
 "cells": [
  {
   "cell_type": "markdown",
   "metadata": {},
   "source": [
    "# Day Objectives\n",
    "- File Handling\n",
    "    - Basic File data processing\n",
    "        -Accessing and Modifying File\n",
    "    - Character Count\n",
    "    - line count\n",
    "    - file size\n",
    "    - word count\n",
    "    - unique word count"
   ]
  },
  {
   "cell_type": "code",
   "execution_count": 15,
   "metadata": {},
   "outputs": [
    {
     "name": "stdout",
     "output_type": "stream",
     "text": [
      "lavanya hjfkdsnmf dnfjdsnf ndjfn\n",
      "kjdfkdjskf kdfjdksn\n"
     ]
    }
   ],
   "source": [
    "# Read a File -File should exist(Read mode)\n",
    "# Write to a file - Existing(append) or new file (Write Mode)\n",
    "def readfile(filepath):\n",
    "    with open(filepath,'r') as f:\n",
    "        #print(type(f))\n",
    "        filedata=f.read()\n",
    "    return filedata\n",
    "\n",
    "filepath='Files/data.txt'\n",
    "print(readfile(filepath))\n"
   ]
  },
  {
   "cell_type": "code",
   "execution_count": 1,
   "metadata": {},
   "outputs": [
    {
     "name": "stdout",
     "output_type": "stream",
     "text": [
      "1.puppy: 7615379  \n",
      "\n",
      "2.mer: 87594635\n",
      "\n",
      "3.lavs: 451679658\n",
      "\n",
      "4.mercy: 3247657868\n",
      "\n",
      "5.mercy: 321476\n",
      "\n",
      "6.mercy: 321656\n",
      "27\n"
     ]
    }
   ],
   "source": [
    "# function to char count\n",
    "def countchar(fname):\n",
    "    c=0\n",
    "    f=open(fname,'r')\n",
    "    for line in f:\n",
    "        #print(line)\n",
    "        for i in line:\n",
    "            if i.isalpha():\n",
    "                c+=1\n",
    "    print(c)\n",
    "            \n",
    "fname='Files/contacts.txt'\n",
    "countchar(fname)"
   ]
  },
  {
   "cell_type": "code",
   "execution_count": 1,
   "metadata": {},
   "outputs": [
    {
     "name": "stdout",
     "output_type": "stream",
     "text": [
      "11\n"
     ]
    }
   ],
   "source": [
    "# function to count word\n",
    "def countword(fname):\n",
    "    c=0\n",
    "    f=open(fname,'r')\n",
    "    for line in f:\n",
    "        for i in line.split(sep=\" \"):\n",
    "            #print(i)\n",
    "            c+=1\n",
    "    print(c)\n",
    "            \n",
    "fname='Files/data.txt'\n",
    "countword(fname)"
   ]
  },
  {
   "cell_type": "code",
   "execution_count": 2,
   "metadata": {},
   "outputs": [
    {
     "data": {
      "text/plain": [
       "7"
      ]
     },
     "execution_count": 2,
     "metadata": {},
     "output_type": "execute_result"
    }
   ],
   "source": [
    "import re\n",
    "\n",
    "def wordcountfile(filepath):\n",
    "    pattern='[ \\n]'\n",
    "    with open(filepath,'r') as fl:\n",
    "        file=fl.read()\n",
    "        count=len(re.split(pattern,file))\n",
    "        #print(file)\n",
    "    return count\n",
    "\n",
    "filepath='Files/data.txt'\n",
    "wordcountfile(filepath)"
   ]
  },
  {
   "cell_type": "code",
   "execution_count": 4,
   "metadata": {},
   "outputs": [
    {
     "name": "stdout",
     "output_type": "stream",
     "text": [
      "\n",
      " 6\n"
     ]
    }
   ],
   "source": [
    "\n",
    "# function to line count\n",
    "def countline(fname):\n",
    "    c=0\n",
    "    f=open(fname,'r')\n",
    "    for line in f:\n",
    "        #for i in line.split(sep=\"\\n\"):\n",
    "            #print(i,end='')\n",
    "            c+=1\n",
    "    print(\"\\n\",c)\n",
    "            \n",
    "fname='Files/contacts.txt'\n",
    "countline(fname)"
   ]
  },
  {
   "cell_type": "code",
   "execution_count": 5,
   "metadata": {},
   "outputs": [
    {
     "name": "stdout",
     "output_type": "stream",
     "text": [
      "\n",
      " 6\n"
     ]
    }
   ],
   "source": [
    "\n",
    "# function to line count\n",
    "def countline(fname):\n",
    "    c=0\n",
    "    f=open(fname,'r')\n",
    "    for line in f:\n",
    "            c+=1\n",
    "    print(\"\\n\",c)\n",
    "            \n",
    "fname='Files/contacts.txt'\n",
    "countline(fname)"
   ]
  },
  {
   "cell_type": "code",
   "execution_count": 7,
   "metadata": {},
   "outputs": [
    {
     "name": "stdout",
     "output_type": "stream",
     "text": [
      "3\n"
     ]
    }
   ],
   "source": [
    "# function to unique word count\n",
    "#process2\n",
    "def uniquecountword(fname):\n",
    "    c=0\n",
    "    d=[]\n",
    "    f=open(fname,'r')\n",
    "    for line in f:\n",
    "        for i in line.split(sep=\" \"):\n",
    "                d.append(i)\n",
    "    print(len(set(d)))\n",
    "            \n",
    "fname='Files/data.txt'\n",
    "uniquecountword(fname)"
   ]
  },
  {
   "cell_type": "code",
   "execution_count": 34,
   "metadata": {},
   "outputs": [
    {
     "name": "stdout",
     "output_type": "stream",
     "text": [
      "5\n"
     ]
    },
    {
     "data": {
      "text/plain": [
       "[2, 3, 4, 5, 6]"
      ]
     },
     "execution_count": 34,
     "metadata": {},
     "output_type": "execute_result"
    }
   ],
   "source": [
    "# process2:\n",
    "def uniquedata(l):\n",
    "    unique=[]\n",
    "    for ele in l:\n",
    "        if ele not in unique:\n",
    "            unique.append(ele)\n",
    "    print(len(unique))\n",
    "    return unique\n",
    "l=[2,3,4,5,3,6,5]\n",
    "uniquedata(l)\n",
    "#count=len(res)\n",
    "#print(count)"
   ]
  },
  {
   "cell_type": "code",
   "execution_count": 8,
   "metadata": {},
   "outputs": [],
   "source": [
    "def countword(fname):\n",
    "    f=open(fname,'a')\n",
    "    #for i in range(10):\n",
    "    f.write(\"hgfh\"+'\\n')\n",
    "        \n",
    "    f.close()\n",
    "            \n",
    "fname='Files/data.txt'\n",
    "countword(fname)"
   ]
  },
  {
   "cell_type": "code",
   "execution_count": 53,
   "metadata": {},
   "outputs": [
    {
     "name": "stdout",
     "output_type": "stream",
     "text": [
      "l\n",
      "a\n",
      "v\n",
      "a\n",
      "n\n",
      "y\n",
      "a\n"
     ]
    }
   ],
   "source": [
    "# function to char count number\n",
    "def countcharnum(fname):\n",
    "    c=0\n",
    "    d=[]\n",
    "    e=[]\n",
    "    f=open(fname,'r')\n",
    "    for line in f:\n",
    "        for i in line:\n",
    "            if i.isalpha():\n",
    "                if \n",
    "                print(i)\n",
    "            \n",
    "fname='Files/data.txt'\n",
    "countcharnum(fname)"
   ]
  },
  {
   "cell_type": "code",
   "execution_count": 56,
   "metadata": {},
   "outputs": [
    {
     "data": {
      "text/plain": [
       "[6, 6, 5, 4, 3, 2]"
      ]
     },
     "execution_count": 56,
     "metadata": {},
     "output_type": "execute_result"
    }
   ],
   "source": [
    "l=[2,3,4,5,6,6]\n",
    "l[::-1]"
   ]
  },
  {
   "cell_type": "code",
   "execution_count": 61,
   "metadata": {},
   "outputs": [
    {
     "data": {
      "text/plain": [
       "'dsfhkhf'"
      ]
     },
     "execution_count": 61,
     "metadata": {},
     "output_type": "execute_result"
    }
   ],
   "source": [
    "s=\"dsfhkhf\"\n",
    "s"
   ]
  },
  {
   "cell_type": "code",
   "execution_count": 66,
   "metadata": {},
   "outputs": [
    {
     "ename": "TypeError",
     "evalue": "'str' object cannot be interpreted as an integer",
     "output_type": "error",
     "traceback": [
      "\u001b[1;31m---------------------------------------------------------------------------\u001b[0m",
      "\u001b[1;31mTypeError\u001b[0m                                 Traceback (most recent call last)",
      "\u001b[1;32m<ipython-input-66-da5da2f2aae2>\u001b[0m in \u001b[0;36m<module>\u001b[1;34m\u001b[0m\n\u001b[1;32m----> 1\u001b[1;33m \u001b[1;32mfor\u001b[0m \u001b[0mi\u001b[0m \u001b[1;32min\u001b[0m \u001b[0mrange\u001b[0m\u001b[1;33m(\u001b[0m\u001b[0ms\u001b[0m\u001b[1;33m[\u001b[0m\u001b[1;33m:\u001b[0m\u001b[1;33m:\u001b[0m\u001b[1;33m-\u001b[0m\u001b[1;36m1\u001b[0m\u001b[1;33m]\u001b[0m\u001b[1;33m)\u001b[0m\u001b[1;33m:\u001b[0m\u001b[1;33m\u001b[0m\u001b[1;33m\u001b[0m\u001b[0m\n\u001b[0m\u001b[0;32m      2\u001b[0m     \u001b[0mprint\u001b[0m\u001b[1;33m(\u001b[0m\u001b[0mi\u001b[0m\u001b[1;33m)\u001b[0m\u001b[1;33m\u001b[0m\u001b[1;33m\u001b[0m\u001b[0m\n",
      "\u001b[1;31mTypeError\u001b[0m: 'str' object cannot be interpreted as an integer"
     ]
    }
   ],
   "source": [
    "for i in range(s[::-1]):\n",
    "    print(i)"
   ]
  },
  {
   "cell_type": "code",
   "execution_count": 18,
   "metadata": {},
   "outputs": [
    {
     "name": "stdout",
     "output_type": "stream",
     "text": [
      "abc123\n",
      "1\n",
      "bcd234"
     ]
    }
   ],
   "source": [
    "s=input()\n",
    "k=int(input())\n",
    "digit=0\n",
    "for i in s:\n",
    "    if i.isalpha():\n",
    "        if \n",
    "            div=k%26\n",
    "            r=div+ord(i)\n",
    "            if r<122:\n",
    "                print(chr(r),end='')\n",
    "                \n",
    "            else:\n",
    "                print(chr(r-122),end='')\n",
    "    if i.isdigit():\n",
    "        i=int(i)\n",
    "        if i<9:\n",
    "            print(i+k,end='')\n",
    "        else:\n",
    "            print(i%k,end='')"
   ]
  },
  {
   "cell_type": "code",
   "execution_count": 20,
   "metadata": {},
   "outputs": [
    {
     "name": "stdout",
     "output_type": "stream",
     "text": [
      "5\n",
      "edhuhukthy\n"
     ]
    },
    {
     "data": {
      "text/plain": [
       "'edhuhukthy'"
      ]
     },
     "execution_count": 20,
     "metadata": {},
     "output_type": "execute_result"
    }
   ],
   "source": [
    "size=int(input())\n",
    "s=input()\n",
    "s"
   ]
  },
  {
   "cell_type": "code",
   "execution_count": 24,
   "metadata": {},
   "outputs": [
    {
     "name": "stdout",
     "output_type": "stream",
     "text": [
      "1  4 5 6\n"
     ]
    },
    {
     "data": {
      "text/plain": [
       "['1', '4', '5', '6']"
      ]
     },
     "execution_count": 24,
     "metadata": {},
     "output_type": "execute_result"
    }
   ],
   "source": [
    "s=input().split()\n",
    "s"
   ]
  },
  {
   "cell_type": "code",
   "execution_count": 10,
   "metadata": {},
   "outputs": [
    {
     "data": {
      "text/plain": [
       "[2, 5, 6, 5, 6, 8, 3]"
      ]
     },
     "execution_count": 10,
     "metadata": {},
     "output_type": "execute_result"
    }
   ],
   "source": [
    "li=[2,5, 6, 5, 6, 8, 3]\n",
    "li"
   ]
  },
  {
   "cell_type": "code",
   "execution_count": null,
   "metadata": {},
   "outputs": [],
   "source": []
  },
  {
   "cell_type": "code",
   "execution_count": 28,
   "metadata": {},
   "outputs": [
    {
     "name": "stdout",
     "output_type": "stream",
     "text": [
      "{2: 1, 5: 2, 6: 2, 8: 1, 3: 1}\n"
     ]
    }
   ],
   "source": [
    "d={}\n",
    "for i in li:\n",
    "    if i in d:\n",
    "        d[i]+=1\n",
    "    else:\n",
    "        d[i]=1\n",
    "print(d)\n",
    "    "
   ]
  },
  {
   "cell_type": "code",
   "execution_count": 12,
   "metadata": {},
   "outputs": [
    {
     "name": "stdout",
     "output_type": "stream",
     "text": [
      "{2: 1, 3: 1, 5: 2, 6: 2, 8: 1}\n"
     ]
    }
   ],
   "source": [
    "d={}\n",
    "for i in set(li):\n",
    "    d[i]=li.count(i)\n",
    "print(d)"
   ]
  },
  {
   "cell_type": "code",
   "execution_count": 13,
   "metadata": {},
   "outputs": [
    {
     "name": "stdout",
     "output_type": "stream",
     "text": [
      "4\n",
      "1 \n",
      "\n",
      "5\n",
      "1 \n",
      "\n",
      "7\n",
      "2 \n",
      "\n",
      "0\n",
      "NOT\n",
      "5\n",
      "1 \n",
      "\n"
     ]
    }
   ],
   "source": [
    "s=[1,2,2,3,4,5,6,7,7]\n",
    "\n",
    "for i in range(5): \n",
    "    num=int(input())\n",
    "    c=0\n",
    "    if num in s:\n",
    "        for  i in s:\n",
    "            if num==i:\n",
    "                c+=1\n",
    "        print(c,'\\n')\n",
    "    else:\n",
    "        print(\"NOT\")\n",
    "        \n",
    "            \n",
    "            \n",
    "        \n",
    "        \n",
    "        \n",
    "    "
   ]
  },
  {
   "cell_type": "code",
   "execution_count": 14,
   "metadata": {},
   "outputs": [
    {
     "name": "stdout",
     "output_type": "stream",
     "text": [
      "a\n",
      "3\n",
      "l\n",
      "1\n",
      "v\n",
      "1\n",
      "u\n",
      "NOT\n",
      "t\n",
      "NOT\n"
     ]
    }
   ],
   "source": [
    "s=\"lavanya\"\n",
    "\n",
    "for i in range(5):\n",
    "    num=input()\n",
    "    c=0\n",
    "    if num in s:\n",
    "        print(s.count(num))\n",
    "    else:\n",
    "        print(\"NOT\")"
   ]
  },
  {
   "cell_type": "code",
   "execution_count": 51,
   "metadata": {},
   "outputs": [
    {
     "name": "stdout",
     "output_type": "stream",
     "text": [
      "2\n",
      "4\n",
      "1 2 3 4\n"
     ]
    },
    {
     "ename": "ValueError",
     "evalue": "invalid literal for int() with base 10: '1 2 3 4'",
     "output_type": "error",
     "traceback": [
      "\u001b[1;31m---------------------------------------------------------------------------\u001b[0m",
      "\u001b[1;31mValueError\u001b[0m                                Traceback (most recent call last)",
      "\u001b[1;32m<ipython-input-51-e99a84a5d98e>\u001b[0m in \u001b[0;36m<module>\u001b[1;34m\u001b[0m\n\u001b[0;32m     11\u001b[0m \u001b[0ms\u001b[0m\u001b[1;33m=\u001b[0m\u001b[0mlist\u001b[0m\u001b[1;33m(\u001b[0m\u001b[0mmap\u001b[0m\u001b[1;33m(\u001b[0m\u001b[0mint\u001b[0m\u001b[1;33m,\u001b[0m\u001b[0minput\u001b[0m\u001b[1;33m(\u001b[0m\u001b[1;33m)\u001b[0m\u001b[1;33m.\u001b[0m\u001b[0msplit\u001b[0m\u001b[1;33m(\u001b[0m\u001b[1;33m)\u001b[0m\u001b[1;33m)\u001b[0m\u001b[1;33m)\u001b[0m\u001b[1;33m\u001b[0m\u001b[1;33m\u001b[0m\u001b[0m\n\u001b[0;32m     12\u001b[0m \u001b[1;31m#s=s[:size]\u001b[0m\u001b[1;33m\u001b[0m\u001b[1;33m\u001b[0m\u001b[1;33m\u001b[0m\u001b[0m\n\u001b[1;32m---> 13\u001b[1;33m \u001b[0mtest\u001b[0m\u001b[1;33m=\u001b[0m\u001b[0mint\u001b[0m\u001b[1;33m(\u001b[0m\u001b[0minput\u001b[0m\u001b[1;33m(\u001b[0m\u001b[1;33m)\u001b[0m\u001b[1;33m)\u001b[0m\u001b[1;33m\u001b[0m\u001b[1;33m\u001b[0m\u001b[0m\n\u001b[0m\u001b[0;32m     14\u001b[0m \u001b[0md\u001b[0m\u001b[1;33m=\u001b[0m\u001b[0melement\u001b[0m\u001b[1;33m(\u001b[0m\u001b[0ms\u001b[0m\u001b[1;33m)\u001b[0m\u001b[1;33m\u001b[0m\u001b[1;33m\u001b[0m\u001b[0m\n\u001b[0;32m     15\u001b[0m \u001b[1;32mfor\u001b[0m \u001b[0mi\u001b[0m \u001b[1;32min\u001b[0m \u001b[0mrange\u001b[0m\u001b[1;33m(\u001b[0m\u001b[0mtest\u001b[0m\u001b[1;33m)\u001b[0m\u001b[1;33m:\u001b[0m\u001b[1;33m\u001b[0m\u001b[1;33m\u001b[0m\u001b[0m\n",
      "\u001b[1;31mValueError\u001b[0m: invalid literal for int() with base 10: '1 2 3 4'"
     ]
    }
   ],
   "source": [
    "def element(s):\n",
    "    d={}\n",
    "    for i in s:\n",
    "        if i in d:\n",
    "            print(i)\n",
    "            d[i]+=1\n",
    "        else:\n",
    "            d[i]=1\n",
    "    return d        \n",
    "size=int(input())\n",
    "s=list(map(int,input().split()))\n",
    "#s=s[:size]\n",
    "test=int(input())\n",
    "d=element(s)\n",
    "for i in range(test):\n",
    "    num=int(input())\n",
    "    if num in d:\n",
    "        print(d[num])\n",
    "    else:\n",
    "        print(\"NOT PRESENT\")\n"
   ]
  },
  {
   "cell_type": "markdown",
   "metadata": {},
   "source": []
  },
  {
   "cell_type": "code",
   "execution_count": 16,
   "metadata": {},
   "outputs": [
    {
     "ename": "IndexError",
     "evalue": "list assignment index out of range",
     "output_type": "error",
     "traceback": [
      "\u001b[1;31m---------------------------------------------------------------------------\u001b[0m",
      "\u001b[1;31mIndexError\u001b[0m                                Traceback (most recent call last)",
      "\u001b[1;32m<ipython-input-16-a50936b52466>\u001b[0m in \u001b[0;36m<module>\u001b[1;34m\u001b[0m\n\u001b[0;32m     15\u001b[0m \u001b[1;33m\u001b[0m\u001b[0m\n\u001b[0;32m     16\u001b[0m \u001b[0mfile\u001b[0m\u001b[1;33m=\u001b[0m\u001b[1;34m'Files/data.txt'\u001b[0m\u001b[1;33m\u001b[0m\u001b[1;33m\u001b[0m\u001b[0m\n\u001b[1;32m---> 17\u001b[1;33m \u001b[0mfrequentwordcount\u001b[0m\u001b[1;33m(\u001b[0m\u001b[0mfile\u001b[0m\u001b[1;33m)\u001b[0m\u001b[1;33m\u001b[0m\u001b[1;33m\u001b[0m\u001b[0m\n\u001b[0m",
      "\u001b[1;32m<ipython-input-16-a50936b52466>\u001b[0m in \u001b[0;36mfrequentwordcount\u001b[1;34m(file)\u001b[0m\n\u001b[0;32m      8\u001b[0m                     \u001b[0md\u001b[0m\u001b[1;33m[\u001b[0m\u001b[0mi\u001b[0m\u001b[1;33m]\u001b[0m\u001b[1;33m+=\u001b[0m\u001b[1;36m1\u001b[0m\u001b[1;33m\u001b[0m\u001b[1;33m\u001b[0m\u001b[0m\n\u001b[0;32m      9\u001b[0m                 \u001b[1;32melse\u001b[0m\u001b[1;33m:\u001b[0m\u001b[1;33m\u001b[0m\u001b[1;33m\u001b[0m\u001b[0m\n\u001b[1;32m---> 10\u001b[1;33m                     \u001b[0md\u001b[0m\u001b[1;33m[\u001b[0m\u001b[0mi\u001b[0m\u001b[1;33m]\u001b[0m\u001b[1;33m=\u001b[0m\u001b[1;36m1\u001b[0m\u001b[1;33m\u001b[0m\u001b[1;33m\u001b[0m\u001b[0m\n\u001b[0m\u001b[0;32m     11\u001b[0m                 \u001b[0mprint\u001b[0m\u001b[1;33m(\u001b[0m\u001b[0md\u001b[0m\u001b[1;33m)\u001b[0m\u001b[1;33m\u001b[0m\u001b[1;33m\u001b[0m\u001b[0m\n\u001b[0;32m     12\u001b[0m \u001b[1;33m\u001b[0m\u001b[0m\n",
      "\u001b[1;31mIndexError\u001b[0m: list assignment index out of range"
     ]
    }
   ],
   "source": [
    "#function to find frequent repeated unique word count\n",
    "def frequentwordcount(file):\n",
    "    d=[]\n",
    "    with open(file,'r') as fl:\n",
    "        for line in fl:\n",
    "            for i in range(len(line)-1):\n",
    "                if line[i]  in d:\n",
    "                    d[i]+=1\n",
    "                else:\n",
    "                    d[i]=1\n",
    "                print(d)\n",
    "            \n",
    "            print(line,end='')\n",
    "            \n",
    "\n",
    "file='Files/data.txt'\n",
    "frequentwordcount(file)"
   ]
  },
  {
   "cell_type": "code",
   "execution_count": 58,
   "metadata": {},
   "outputs": [
    {
     "name": "stdout",
     "output_type": "stream",
     "text": [
      "name {4}\n"
     ]
    },
    {
     "ename": "AttributeError",
     "evalue": "'set' object has no attribute 'append'",
     "output_type": "error",
     "traceback": [
      "\u001b[1;31m---------------------------------------------------------------------------\u001b[0m",
      "\u001b[1;31mAttributeError\u001b[0m                            Traceback (most recent call last)",
      "\u001b[1;32m<ipython-input-58-d7add437dfb1>\u001b[0m in \u001b[0;36m<module>\u001b[1;34m\u001b[0m\n\u001b[0;32m     15\u001b[0m \u001b[1;33m\u001b[0m\u001b[0m\n\u001b[0;32m     16\u001b[0m \u001b[0mfname\u001b[0m\u001b[1;33m=\u001b[0m\u001b[1;34m'Files/data.txt'\u001b[0m\u001b[1;33m\u001b[0m\u001b[1;33m\u001b[0m\u001b[0m\n\u001b[1;32m---> 17\u001b[1;33m \u001b[0muniquecountword\u001b[0m\u001b[1;33m(\u001b[0m\u001b[0mfname\u001b[0m\u001b[1;33m)\u001b[0m\u001b[1;33m\u001b[0m\u001b[1;33m\u001b[0m\u001b[0m\n\u001b[0m",
      "\u001b[1;32m<ipython-input-58-d7add437dfb1>\u001b[0m in \u001b[0;36muniquecountword\u001b[1;34m(fname)\u001b[0m\n\u001b[0;32m      8\u001b[0m     \u001b[1;32mfor\u001b[0m \u001b[0mi\u001b[0m \u001b[1;32min\u001b[0m \u001b[0mfh\u001b[0m\u001b[1;33m.\u001b[0m\u001b[0msplit\u001b[0m\u001b[1;33m(\u001b[0m\u001b[0msep\u001b[0m\u001b[1;33m=\u001b[0m\u001b[1;34m\" \"\u001b[0m\u001b[1;33m)\u001b[0m\u001b[1;33m:\u001b[0m\u001b[1;33m\u001b[0m\u001b[1;33m\u001b[0m\u001b[0m\n\u001b[0;32m      9\u001b[0m         \u001b[0mword\u001b[0m\u001b[1;33m=\u001b[0m\u001b[0mfh\u001b[0m\u001b[1;33m.\u001b[0m\u001b[0mcount\u001b[0m\u001b[1;33m(\u001b[0m\u001b[0mi\u001b[0m\u001b[1;33m)\u001b[0m\u001b[1;33m\u001b[0m\u001b[1;33m\u001b[0m\u001b[0m\n\u001b[1;32m---> 10\u001b[1;33m         \u001b[0mn\u001b[0m\u001b[1;33m.\u001b[0m\u001b[0mappend\u001b[0m\u001b[1;33m(\u001b[0m\u001b[0mword\u001b[0m\u001b[1;33m)\u001b[0m\u001b[1;33m\u001b[0m\u001b[1;33m\u001b[0m\u001b[0m\n\u001b[0m\u001b[0;32m     11\u001b[0m         \u001b[0mn\u001b[0m\u001b[1;33m=\u001b[0m\u001b[0mset\u001b[0m\u001b[1;33m(\u001b[0m\u001b[0mn\u001b[0m\u001b[1;33m)\u001b[0m\u001b[1;33m\u001b[0m\u001b[1;33m\u001b[0m\u001b[0m\n\u001b[0;32m     12\u001b[0m         \u001b[0mprint\u001b[0m\u001b[1;33m(\u001b[0m\u001b[0mi\u001b[0m\u001b[1;33m,\u001b[0m\u001b[0mn\u001b[0m\u001b[1;33m)\u001b[0m\u001b[1;33m\u001b[0m\u001b[1;33m\u001b[0m\u001b[0m\n",
      "\u001b[1;31mAttributeError\u001b[0m: 'set' object has no attribute 'append'"
     ]
    }
   ],
   "source": [
    "def uniquecountword(fname):\n",
    "    c=0\n",
    "    n=[]\n",
    "    f=open(fname,'r')\n",
    "    fh=f.read()\n",
    "    #print(fh)\n",
    "    #print(fh)\n",
    "    for i in fh.split(sep=\" \"):\n",
    "        word=fh.count(i)\n",
    "        n.append(word)\n",
    "        print(i,n)\n",
    "\n",
    "\n",
    "\n",
    "fname='Files/data.txt'\n",
    "uniquecountword(fname)"
   ]
  },
  {
   "cell_type": "code",
   "execution_count": 19,
   "metadata": {},
   "outputs": [
    {
     "name": "stdout",
     "output_type": "stream",
     "text": [
      "name 3\n",
      "mer 3\n",
      "merhgfh 1\n"
     ]
    }
   ],
   "source": [
    "def uniquecountword(fname):\n",
    "    c=0\n",
    "    n=[]\n",
    "    f=open(fname,'r')\n",
    "    fh=f.read()\n",
    "    for i in fh.split():\n",
    "        #print(i)\n",
    "        if i not in n:\n",
    "            n.append(i)\n",
    "            word=fh.count(i)\n",
    "            print(i,':'',word)\n",
    "fname=\"Files/data.txt\"\n",
    "uniquecountword(fname)\n"
   ]
  },
  {
   "cell_type": "code",
   "execution_count": 26,
   "metadata": {},
   "outputs": [
    {
     "data": {
      "text/plain": [
       "46"
      ]
     },
     "execution_count": 26,
     "metadata": {},
     "output_type": "execute_result"
    }
   ],
   "source": [
    "import os\n",
    "filesize=os.path.getsize(fname)\n",
    "\n",
    "fname=\"Files/data.txt\"\n",
    "#uniquecountword(fname)\n",
    "filesize\n"
   ]
  },
  {
   "cell_type": "code",
   "execution_count": null,
   "metadata": {},
   "outputs": [],
   "source": []
  }
 ],
 "metadata": {
  "kernelspec": {
   "display_name": "Python 3",
   "language": "python",
   "name": "python3"
  },
  "language_info": {
   "codemirror_mode": {
    "name": "ipython",
    "version": 3
   },
   "file_extension": ".py",
   "mimetype": "text/x-python",
   "name": "python",
   "nbconvert_exporter": "python",
   "pygments_lexer": "ipython3",
   "version": "3.7.3"
  }
 },
 "nbformat": 4,
 "nbformat_minor": 2
}
