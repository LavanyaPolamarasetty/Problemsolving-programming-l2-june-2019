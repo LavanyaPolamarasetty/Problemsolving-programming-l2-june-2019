{
 "cells": [
  {
   "cell_type": "code",
   "execution_count": 1,
   "metadata": {
    "scrolled": true
   },
   "outputs": [
    {
     "name": "stdout",
     "output_type": "stream",
     "text": [
      "1\n",
      "6\n",
      "AFREEN\n",
      "CGSCCO\n"
     ]
    }
   ],
   "source": [
    "# Magical Word\n",
    "\n",
    "def prime_fact(start,end):\n",
    "    factors=[]\n",
    "    for i in range(start,end,1):\n",
    "        c=0\n",
    "        for j in range(1,i,1):\n",
    "            if i%j==0:\n",
    "                c=c+1\n",
    "        if c==1:\n",
    "            factors=factors+[i]\n",
    "    return factors\n",
    "   \n",
    "def nearest(fact,value):\n",
    "    f=fact[0]\n",
    "    for i in range(0,len(fact),1):\n",
    "        dif1=abs(value-f)\n",
    "        dif2=abs(value-fact[i])\n",
    "        if dif1<=dif2:\n",
    "            f=f\n",
    "        else:\n",
    "            f=fact[i]\n",
    "    return f\n",
    "\n",
    "def encoded(fact,s):\n",
    "    str=\"\"\n",
    "    for i in range(0,len(s),1):\n",
    "        v=nearest(fact,ord(s[i]))\n",
    "        str=str+chr(v)\n",
    "    print(str)\n",
    "\n",
    "t=int(input())\n",
    "for i in range(0,t,1):\n",
    "    l=int(input())\n",
    "    s=input()\n",
    "    fact=prime_fact(65,90)+prime_fact(97,122)\n",
    "    encoded(fact,s)\n",
    "\n"
   ]
  },
  {
   "cell_type": "code",
   "execution_count": 8,
   "metadata": {},
   "outputs": [
    {
     "data": {
      "text/plain": [
       "108"
      ]
     },
     "execution_count": 8,
     "metadata": {},
     "output_type": "execute_result"
    }
   ],
   "source": [
    "ord(\"l\")"
   ]
  },
  {
   "cell_type": "code",
   "execution_count": 13,
   "metadata": {},
   "outputs": [
    {
     "data": {
      "text/plain": [
       "'k'"
      ]
     },
     "execution_count": 13,
     "metadata": {},
     "output_type": "execute_result"
    }
   ],
   "source": [
    "chr(107)"
   ]
  },
  {
   "cell_type": "code",
   "execution_count": 12,
   "metadata": {},
   "outputs": [
    {
     "name": "stdout",
     "output_type": "stream",
     "text": [
      "lavanya\n",
      "[67, 71, 73, 79, 83, 89, 97, 101, 103, 107, 109, 113]\n",
      "107\n",
      "97\n",
      "113\n",
      "97\n",
      "109\n",
      "113\n",
      "97\n",
      "kaqamqa\n"
     ]
    }
   ],
   "source": [
    "def nearest(fact,value):\n",
    "    f=fact[0]\n",
    "    for i in range(0,len(fact),1):\n",
    "        dif1=abs(value-f)\n",
    "        dif2=abs(value-fact[i])\n",
    "        if dif1<=dif2:\n",
    "            f=f\n",
    "        else:\n",
    "            f=fact[i]\n",
    "    print(f)\n",
    "    return f\n",
    "\n",
    "\n",
    "\n",
    "\n",
    "def prime_fact(start,end):\n",
    "    factors=[]\n",
    "    for i in range(start,end,1):\n",
    "        c=0\n",
    "        for j in range(1,i,1):\n",
    "            if i%j==0:\n",
    "                c=c+1\n",
    "        if c==1:\n",
    "            factors=factors+[i]\n",
    "    return factors\n",
    "def encoded(fact,s):\n",
    "    str=\"\"\n",
    "    for i in range(0,len(s),1):\n",
    "        v=nearest(fact,ord(s[i]))\n",
    "        str=str+chr(v)\n",
    "    print(str)\n",
    "\n",
    "s=input()\n",
    "fact=prime_fact(65,90)+prime_fact(97,122)\n",
    "print(fact)\n",
    "encoded(fact,s)"
   ]
  },
  {
   "cell_type": "code",
   "execution_count": 2,
   "metadata": {},
   "outputs": [
    {
     "name": "stdout",
     "output_type": "stream",
     "text": [
      "X.O\n",
      "XO.\n",
      "X..\n",
      "X won.\n"
     ]
    }
   ],
   "source": [
    "# Tic- Toc - Toe\n",
    "choice=[]\n",
    "lr=[]\n",
    "s1=input()\n",
    "s2=input()\n",
    "s3=input()\n",
    "choice.append(s1)\n",
    "choice.append(s2)\n",
    "choice.append(s3)\n",
    "for i in range(len(choice)):\n",
    "    for j in choice[i]:\n",
    "        lr.append(j)\n",
    "if set(lr)=={\".\"}:\n",
    "    print(\"X's turn.\")\n",
    "else:\n",
    "    if lr[0]==lr[1] and lr[0]==lr[2]:\n",
    "        print(lr[0],\"won.\")\n",
    "    if lr[0]==lr[3] and lr[0]==lr[6]:\n",
    "        print(lr[0],\"won.\")\n",
    "    if lr[0]==lr[4] and lr[0]==lr[8]:\n",
    "        print(lr[0],\"won.\")\n",
    "    if lr[6]==lr[7] and lr[6]==lr[8]:\n",
    "        print(lr[6],\"won.\")\n",
    "    if lr[2]==lr[5] and lr[2]==lr[8]:\n",
    "        print(lr[2],\"won.\")\n",
    "    if lr[3]==lr[4] and lr[3]==lr[5]:\n",
    "        print(lr[3],\"won.\")\n",
    "    if lr[2]==lr[4] and lr[2]==lr[6]:\n",
    "        print(lr[2],\"won.\")\n"
   ]
  },
  {
   "cell_type": "code",
   "execution_count": 3,
   "metadata": {},
   "outputs": [
    {
     "name": "stdout",
     "output_type": "stream",
     "text": [
      "6\n",
      "Note 34\n",
      "Note 25\n",
      "Coin 90\n",
      "Coin 56\n",
      "Note 3\n",
      "Coin 2\n",
      "Coins :\n",
      "90\n",
      "56\n",
      "2\n",
      "Notes :\n",
      "34\n",
      "25\n",
      "3\n"
     ]
    }
   ],
   "source": [
    "# Notes & Coins\n",
    "\n",
    "t=int(input())\n",
    "note=[]\n",
    "coin=[]\n",
    "for i in range(t):\n",
    "    m=input().split()\n",
    "    if m[0]==\"Coin\":\n",
    "        coin.append(m[1])\n",
    "    elif m[0]==\"Note\":\n",
    "        note.append(m[1])\n",
    "print(\"Coins :\")\n",
    "for j in coin:\n",
    "    print(j)\n",
    "print(\"Notes :\")\n",
    "for u in note:\n",
    "    print(u)"
   ]
  },
  {
   "cell_type": "code",
   "execution_count": 4,
   "metadata": {},
   "outputs": [
    {
     "name": "stdout",
     "output_type": "stream",
     "text": [
      "6\n",
      "1 3 2 4 6 5\n",
      "YES\n"
     ]
    }
   ],
   "source": [
    "# Min-Max\n",
    "t=int(input())\n",
    "n=list(map(int,input().split()))\n",
    "mini=min(n)\n",
    "maxi=max(n)\n",
    "flag=1\n",
    "for i in range(1,maxi+1):\n",
    "    if i not in n:\n",
    "        flag=0\n",
    "if flag==1:\n",
    "    print(\"YES\")\n",
    "else:\n",
    "    print(\"NO\")\n"
   ]
  },
  {
   "cell_type": "code",
   "execution_count": null,
   "metadata": {},
   "outputs": [],
   "source": [
    "[]"
   ]
  }
 ],
 "metadata": {
  "kernelspec": {
   "display_name": "Python 3",
   "language": "python",
   "name": "python3"
  },
  "language_info": {
   "codemirror_mode": {
    "name": "ipython",
    "version": 3
   },
   "file_extension": ".py",
   "mimetype": "text/x-python",
   "name": "python",
   "nbconvert_exporter": "python",
   "pygments_lexer": "ipython3",
   "version": "3.7.3"
  }
 },
 "nbformat": 4,
 "nbformat_minor": 2
}
