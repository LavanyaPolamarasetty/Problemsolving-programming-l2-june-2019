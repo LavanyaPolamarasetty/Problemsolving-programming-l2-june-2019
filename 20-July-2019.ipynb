{
 "cells": [
  {
   "cell_type": "code",
   "execution_count": 18,
   "metadata": {},
   "outputs": [
    {
     "data": {
      "text/plain": [
       "'45'"
      ]
     },
     "execution_count": 18,
     "metadata": {},
     "output_type": "execute_result"
    }
   ],
   "source": [
    "x='2345'\n",
    "k=2\n",
    "y=(x[k:])\n",
    "y\n",
    "\n"
   ]
  },
  {
   "cell_type": "markdown",
   "metadata": {},
   "source": [
    "# Digit Problem"
   ]
  },
  {
   "cell_type": "code",
   "execution_count": 20,
   "metadata": {},
   "outputs": [
    {
     "name": "stdout",
     "output_type": "stream",
     "text": [
      "Help on built-in function replace:\n",
      "\n",
      "replace(old, new, count=-1, /) method of builtins.str instance\n",
      "    Return a copy with all occurrences of substring old replaced by new.\n",
      "    \n",
      "      count\n",
      "        Maximum number of occurrences to replace.\n",
      "        -1 (the default value) means replace all occurrences.\n",
      "    \n",
      "    If the optional argument count is given, only the first count occurrences are\n",
      "    replaced.\n",
      "\n"
     ]
    }
   ],
   "source": [
    "help(\"\".replace)"
   ]
  },
  {
   "cell_type": "code",
   "execution_count": 27,
   "metadata": {},
   "outputs": [
    {
     "name": "stdout",
     "output_type": "stream",
     "text": [
      "9945\n"
     ]
    }
   ],
   "source": [
    "print(x.replace(x[:k],\"99\"))"
   ]
  },
  {
   "cell_type": "code",
   "execution_count": 39,
   "metadata": {},
   "outputs": [
    {
     "name": "stdout",
     "output_type": "stream",
     "text": [
      "9999\n",
      "999932736841900368\n"
     ]
    }
   ],
   "source": [
    "k=4\n",
    "x='169232736841900368'\n",
    "s=''\n",
    "s+='9'*k\n",
    "print(s)\n",
    "print(x.replace(x[:k],s))"
   ]
  },
  {
   "cell_type": "code",
   "execution_count": null,
   "metadata": {},
   "outputs": [],
   "source": [
    "999992736841900368"
   ]
  },
  {
   "cell_type": "code",
   "execution_count": 43,
   "metadata": {},
   "outputs": [
    {
     "data": {
      "text/plain": [
       "'qwer99999'"
      ]
     },
     "execution_count": 43,
     "metadata": {},
     "output_type": "execute_result"
    }
   ],
   "source": [
    "p=\"qwer\"\n",
    "p+='9'*5\n",
    "p\n"
   ]
  },
  {
   "cell_type": "code",
   "execution_count": 45,
   "metadata": {},
   "outputs": [
    {
     "data": {
      "text/plain": [
       "0"
      ]
     },
     "execution_count": 45,
     "metadata": {},
     "output_type": "execute_result"
    }
   ],
   "source": [
    "'46579'[:4].count('9')"
   ]
  },
  {
   "cell_type": "code",
   "execution_count": 62,
   "metadata": {},
   "outputs": [
    {
     "name": "stdout",
     "output_type": "stream",
     "text": [
      "728999085623821716 4\n",
      "6\n",
      "999999085623821716\n"
     ]
    }
   ],
   "source": [
    "num=input().split()\n",
    "k=int(num[1])\n",
    "x=num[0]\n",
    "s=''\n",
    "c=k+(x[:k].count('9'))\n",
    "\n",
    "if x[k:c].count(\"9\"):\n",
    "    c+=x[k:c].count(\"9\")\n",
    "    y=x[k:c].count(\"9\")\n",
    "if x[k:c].count(\"9\"):\n",
    "    c+=x[k:c].count(\"9\")-y   \n",
    "\n",
    "print(c)\n",
    "s+='9'*(c)\n",
    "\n",
    "print(x.replace(x[:c],s))"
   ]
  },
  {
   "cell_type": "code",
   "execution_count": 58,
   "metadata": {},
   "outputs": [
    {
     "data": {
      "text/plain": [
       "999999985623821716"
      ]
     },
     "execution_count": 58,
     "metadata": {},
     "output_type": "execute_result"
    }
   ],
   "source": [
    "999992736841900368\n",
    "\n",
    "\n",
    "999999985623821716"
   ]
  },
  {
   "cell_type": "code",
   "execution_count": 65,
   "metadata": {},
   "outputs": [
    {
     "name": "stdout",
     "output_type": "stream",
     "text": [
      "w\n",
      "e\n",
      "r\n",
      "t\n",
      "f\n",
      "g\n",
      "2\n",
      "f\n",
      "3\n",
      "3\n",
      "g\n",
      "h\n",
      "f\n",
      "3\n",
      "4\n",
      "4\n",
      "j\n",
      "h\n",
      "f\n",
      "3\n",
      "5\n",
      "4\n",
      "6\n"
     ]
    }
   ],
   "source": [
    "s=\"wertfg2f33ghf344jhf3546\"\n",
    "p=''\n",
    "for i in range(len(s)):\n",
    "    if s[i].isdigit():\n",
    "        p+=s[i]\n",
    "        if s[i+1].isdigit():\n",
    "            p+=s[i]\n",
    "            "
   ]
  },
  {
   "cell_type": "code",
   "execution_count": null,
   "metadata": {},
   "outputs": [],
   "source": []
  }
 ],
 "metadata": {
  "kernelspec": {
   "display_name": "Python 3",
   "language": "python",
   "name": "python3"
  },
  "language_info": {
   "codemirror_mode": {
    "name": "ipython",
    "version": 3
   },
   "file_extension": ".py",
   "mimetype": "text/x-python",
   "name": "python",
   "nbconvert_exporter": "python",
   "pygments_lexer": "ipython3",
   "version": "3.7.3"
  }
 },
 "nbformat": 4,
 "nbformat_minor": 2
}
