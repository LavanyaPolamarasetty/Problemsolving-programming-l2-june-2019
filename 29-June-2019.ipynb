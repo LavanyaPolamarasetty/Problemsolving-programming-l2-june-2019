{
 "cells": [
  {
   "cell_type": "code",
   "execution_count": 26,
   "metadata": {},
   "outputs": [],
   "source": [
    "# function to generate key for encryption\n",
    "\n",
    "keypath='Files/marksList.txt'\n",
    "def genkey(keypath):\n",
    "    with open(keypath,'w')as f:\n",
    "        for i in range(10):\n",
    "            if i<6:\n",
    "                f.write(str(i)+' '+str(i+4)+'\\n')\n",
    "            else:\n",
    "                f.write(str(i)+' '+str(i-6)+'\\n')\n",
    "    return\n",
    "genkey(keypath)"
   ]
  },
  {
   "cell_type": "code",
   "execution_count": 22,
   "metadata": {},
   "outputs": [
    {
     "data": {
      "text/plain": [
       "{'0': '4',\n",
       " '1': '5',\n",
       " '2': '6',\n",
       " '3': '7',\n",
       " '4': '8',\n",
       " '5': '9',\n",
       " '6': '12',\n",
       " '7': '13',\n",
       " '8': '14',\n",
       " '9': '15'}"
      ]
     },
     "execution_count": 22,
     "metadata": {},
     "output_type": "execute_result"
    }
   ],
   "source": [
    "def dictionaryfile(keyfile):\n",
    "    key={}\n",
    "    with open(keyfile,'r') as f:\n",
    "        for line in f:\n",
    "            line=line.split()\n",
    "            key[line[0]]=line[1]\n",
    "    return key\n",
    "keyfile=\"Files/marksList.txt\"\n",
    "dictionaryfile(keyfile)   "
   ]
  },
  {
   "cell_type": "code",
   "execution_count": 28,
   "metadata": {},
   "outputs": [],
   "source": [
    "# function to encrypt a data file \n",
    "\n",
    "def dictionaryfile(keyfile):\n",
    "    key={}\n",
    "    with open(keyfile,'r') as f:\n",
    "        for line in f:\n",
    "            line=line.split()\n",
    "            key[line[0]]=line[1]\n",
    "    return key\n",
    "keyfile=\"Files/marksList.txt\"\n",
    "dictionaryfile(keyfile)        \n",
    "\n",
    "def encryptmarksdata(datafile,keyfile):\n",
    "    # construct a dictonary for key data\n",
    "        key= dictionaryfile(keyfile)\n",
    "        with open(datafile,'r') as f:\n",
    "            filedata = f.read().split('\\n')\n",
    "        with open('Files/encryptedMarks.txt','w') as f:\n",
    "            for mark in filedata:\n",
    "                line=''\n",
    "                for n in mark:\n",
    "                    line+=key[n]\n",
    "                f.write(line+'\\n')\n",
    "        return\n",
    "datafile='Files/marks.txt'\n",
    "encryptmarksdata(datafile,keyfile)"
   ]
  },
  {
   "cell_type": "code",
   "execution_count": 38,
   "metadata": {},
   "outputs": [
    {
     "name": "stdout",
     "output_type": "stream",
     "text": [
      "0.013966599999548635\n"
     ]
    }
   ],
   "source": [
    "def decryptmarksdata(encryptedfile,keyfile):\n",
    "    # construct a dictonary for key data\n",
    "        key= dictionaryfile(keyfile)\n",
    "        #key =key.item()\n",
    "        newkey={} \n",
    "        for key,val in key.items():\n",
    "            newkey[val]=key\n",
    "        #print(newkey)\n",
    "        with open(encryptedfile,'r') as f:\n",
    "            encrypteddata = f.read().split('\\n')\n",
    "            #print(encrypteddata)\n",
    "        with open('Files/decryptedMarks.txt','w') as f:\n",
    "            for mark in encrypteddata:\n",
    "                #print(mark)\n",
    "                line=''\n",
    "                for n in mark:\n",
    "                    #print(key[n])\n",
    "                    line +=newkey[n]\n",
    "                f.write(line+'\\n')\n",
    "        return\n",
    "encryptedfile='Files/encryptedMarks.txt'\n",
    "keyfile='Files/marksList.txt'\n",
    "import timeit\n",
    "st=timeit.default_timer()\n",
    "decryptmarksdata(encryptedfile,keyfile)\n",
    "print(timeit.default_timer()-st)"
   ]
  },
  {
   "cell_type": "code",
   "execution_count": 32,
   "metadata": {},
   "outputs": [
    {
     "data": {
      "text/plain": [
       "{'0', '1', '2', '3', '4', '5', '6', '7', '8', '9'}"
      ]
     },
     "execution_count": 32,
     "metadata": {},
     "output_type": "execute_result"
    }
   ],
   "source": [
    "#Comprehensions:\n",
    "keyfile='Files/marksList.txt'\n",
    "key=dictionaryfile(keyfile)\n",
    "evenkeys={item for item in key}\n",
    "evenkeys"
   ]
  },
  {
   "cell_type": "markdown",
   "metadata": {},
   "source": []
  }
 ],
 "metadata": {
  "kernelspec": {
   "display_name": "Python 3",
   "language": "python",
   "name": "python3"
  },
  "language_info": {
   "codemirror_mode": {
    "name": "ipython",
    "version": 3
   },
   "file_extension": ".py",
   "mimetype": "text/x-python",
   "name": "python",
   "nbconvert_exporter": "python",
   "pygments_lexer": "ipython3",
   "version": "3.7.3"
  }
 },
 "nbformat": 4,
 "nbformat_minor": 2
}
