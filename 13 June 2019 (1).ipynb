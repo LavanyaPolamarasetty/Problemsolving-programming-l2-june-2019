{
 "cells": [
  {
   "cell_type": "code",
   "execution_count": 4,
   "metadata": {},
   "outputs": [
    {
     "name": "stdout",
     "output_type": "stream",
     "text": [
      "10 9 8 7 6 5 4 3 2 "
     ]
    }
   ],
   "source": [
    "# fun to print reverse of given range in the \n",
    "def reverseRange(start,end):\n",
    "    for v in range(end,start,-1):\n",
    "        print(v,end=' ')\n",
    "    return\n",
    "reverseRange(1,10)"
   ]
  },
  {
   "cell_type": "code",
   "execution_count": 9,
   "metadata": {},
   "outputs": [
    {
     "name": "stdout",
     "output_type": "stream",
     "text": [
      "9 7 5 3 1 "
     ]
    }
   ],
   "source": [
    "# print the odd num in reverse order\n",
    "def reversetheoddnum(start,end):\n",
    "    for i in range(end,start-1,-1):\n",
    "        if i%2==1:\n",
    "            print(i,end=\" \")\n",
    "    return \n",
    "reversetheoddnum(1,10)"
   ]
  },
  {
   "cell_type": "code",
   "execution_count": 11,
   "metadata": {},
   "outputs": [
    {
     "data": {
      "text/plain": [
       "15"
      ]
     },
     "execution_count": 11,
     "metadata": {},
     "output_type": "execute_result"
    }
   ],
   "source": [
    "#fun to cal sum of nums in range\n",
    "def sumofrange(start,end):\n",
    "    s=0\n",
    "    for i in range(start,end+1):\n",
    "        s+=i\n",
    "    return s\n",
    "sumofrange(1,5)"
   ]
  },
  {
   "cell_type": "code",
   "execution_count": 13,
   "metadata": {},
   "outputs": [
    {
     "data": {
      "text/plain": [
       "3"
      ]
     },
     "execution_count": 13,
     "metadata": {},
     "output_type": "execute_result"
    }
   ],
   "source": [
    "# cal the avg of range of numbers\n",
    "def avgofrange(start,end):\n",
    "    s=0\n",
    "    c=0\n",
    "    for i in range(start,end+1):\n",
    "        s+=i\n",
    "        c+=1\n",
    "    return s//c\n",
    "avgofrange(1,5)"
   ]
  },
  {
   "cell_type": "code",
   "execution_count": 19,
   "metadata": {},
   "outputs": [
    {
     "data": {
      "text/plain": [
       "6"
      ]
     },
     "execution_count": 19,
     "metadata": {},
     "output_type": "execute_result"
    }
   ],
   "source": [
    "# cal the avg of range of numbers Same as above\n",
    "def avgrange(s,e):\n",
    "    return sum(range(s,e))//(e-s)+1\n",
    "avgrange(1,10)"
   ]
  },
  {
   "cell_type": "code",
   "execution_count": 24,
   "metadata": {},
   "outputs": [
    {
     "name": "stdout",
     "output_type": "stream",
     "text": [
      "2000 2004 2008 2012 2016 2020 "
     ]
    }
   ],
   "source": [
    "#fn to print all leap years in a given timr period \n",
    "# 2000 2020 -> 2000 2004 2008 2012 2016 2020\n",
    "\n",
    "def isLeapyear(year):\n",
    "    if year%400==0 or (year%100!=0 and year%4==0):\n",
    "        return True\n",
    "    return False\n",
    "def generateLeapYear(s,e):\n",
    "    for i in range(s,e+1):\n",
    "        if isLeapyear(i):\n",
    "            print(i,end=\" \")\n",
    "generateLeapYear(2000,2020)"
   ]
  },
  {
   "cell_type": "code",
   "execution_count": 43,
   "metadata": {},
   "outputs": [
    {
     "data": {
      "text/plain": [
       "1095"
      ]
     },
     "execution_count": 43,
     "metadata": {},
     "output_type": "execute_result"
    }
   ],
   "source": [
    "#cal num of days in a time period using leap year logic\n",
    "def numofdays(s,e):\n",
    "    days=0\n",
    "    for i in range(s,e+1):\n",
    "        if isLeapyear(i):\n",
    "            days+=366\n",
    "        else:\n",
    "            days+=365\n",
    "    return days\n",
    "numofdays(2017,2019)"
   ]
  },
  {
   "cell_type": "code",
   "execution_count": 59,
   "metadata": {},
   "outputs": [
    {
     "data": {
      "text/plain": [
       "48"
      ]
     },
     "execution_count": 59,
     "metadata": {},
     "output_type": "execute_result"
    }
   ],
   "source": [
    "# fun to cal num of hrs for a given period in range\n",
    "#11,1975,3,1999\n",
    "#2,2016,6,2019\n",
    "def numOfHrs(day):\n",
    "    return day*24\n",
    "numOfHrs(2)"
   ]
  },
  {
   "cell_type": "code",
   "execution_count": 56,
   "metadata": {},
   "outputs": [
    {
     "data": {
      "text/plain": [
       "48"
      ]
     },
     "execution_count": 56,
     "metadata": {},
     "output_type": "execute_result"
    }
   ],
   "source": [
    "def numOfDaysMonth(month):\n",
    "   if(month<=7 and month%2!=0) or month>=8 and month%2==0:\n",
    "       return 31\n",
    "   else:\n",
    "       return 30\n",
    "def numofhr(day):\n",
    "   return day*24\n",
    "numofhr(2)"
   ]
  },
  {
   "cell_type": "code",
   "execution_count": 1,
   "metadata": {},
   "outputs": [
    {
     "ename": "NameError",
     "evalue": "name 'numofdaysintimeperiod' is not defined",
     "output_type": "error",
     "traceback": [
      "\u001b[1;31m---------------------------------------------------------------------------\u001b[0m",
      "\u001b[1;31mNameError\u001b[0m                                 Traceback (most recent call last)",
      "\u001b[1;32m<ipython-input-1-8ce13cf17c66>\u001b[0m in \u001b[0;36m<module>\u001b[1;34m\u001b[0m\n\u001b[0;32m     33\u001b[0m \u001b[1;33m\u001b[0m\u001b[0m\n\u001b[0;32m     34\u001b[0m \u001b[1;33m\u001b[0m\u001b[0m\n\u001b[1;32m---> 35\u001b[1;33m \u001b[0mnoOfhoursBetweenYears\u001b[0m\u001b[1;33m(\u001b[0m\u001b[1;36m2\u001b[0m\u001b[1;33m,\u001b[0m\u001b[1;36m2016\u001b[0m\u001b[1;33m,\u001b[0m\u001b[1;36m6\u001b[0m\u001b[1;33m,\u001b[0m\u001b[1;36m2019\u001b[0m\u001b[1;33m)\u001b[0m\u001b[1;33m\u001b[0m\u001b[1;33m\u001b[0m\u001b[0m\n\u001b[0m",
      "\u001b[1;32m<ipython-input-1-8ce13cf17c66>\u001b[0m in \u001b[0;36mnoOfhoursBetweenYears\u001b[1;34m(start_month, start_year, end_month, end_year)\u001b[0m\n\u001b[0;32m     12\u001b[0m        \u001b[1;32mreturn\u001b[0m \u001b[0mnumOfHrs\u001b[0m\u001b[1;33m(\u001b[0m\u001b[0mdays\u001b[0m\u001b[1;33m)\u001b[0m\u001b[1;33m\u001b[0m\u001b[1;33m\u001b[0m\u001b[0m\n\u001b[0;32m     13\u001b[0m    \u001b[1;32melse\u001b[0m\u001b[1;33m:\u001b[0m\u001b[1;33m\u001b[0m\u001b[1;33m\u001b[0m\u001b[0m\n\u001b[1;32m---> 14\u001b[1;33m        \u001b[0mdays\u001b[0m\u001b[1;33m+=\u001b[0m\u001b[0mnumofdaysintimeperiod\u001b[0m\u001b[1;33m(\u001b[0m\u001b[0mstart_year\u001b[0m\u001b[1;33m+\u001b[0m\u001b[1;36m1\u001b[0m\u001b[1;33m,\u001b[0m\u001b[0mend_year\u001b[0m\u001b[1;33m-\u001b[0m\u001b[1;36m1\u001b[0m\u001b[1;33m)\u001b[0m\u001b[1;33m\u001b[0m\u001b[1;33m\u001b[0m\u001b[0m\n\u001b[0m\u001b[0;32m     15\u001b[0m        \u001b[1;32mfor\u001b[0m \u001b[0mmonth\u001b[0m \u001b[1;32min\u001b[0m \u001b[0mrange\u001b[0m\u001b[1;33m(\u001b[0m\u001b[0mstart_month\u001b[0m\u001b[1;33m,\u001b[0m\u001b[1;36m13\u001b[0m\u001b[1;33m)\u001b[0m\u001b[1;33m:\u001b[0m\u001b[1;33m\u001b[0m\u001b[1;33m\u001b[0m\u001b[0m\n\u001b[0;32m     16\u001b[0m            \u001b[1;32mif\u001b[0m \u001b[0mmonth\u001b[0m\u001b[1;33m==\u001b[0m\u001b[1;36m2\u001b[0m\u001b[1;33m:\u001b[0m\u001b[1;33m\u001b[0m\u001b[1;33m\u001b[0m\u001b[0m\n",
      "\u001b[1;31mNameError\u001b[0m: name 'numofdaysintimeperiod' is not defined"
     ]
    }
   ],
   "source": [
    "def noOfhoursBetweenYears(start_month,start_year,end_month,end_year):\n",
    "    days=0\n",
    "    if start_year==end_year:\n",
    "        for month in range(start_month,end_month+1):\n",
    "            if month==2:\n",
    "                if isLeapyear(start_year):\n",
    "                    days+=29\n",
    "                else:\n",
    "                    days+=28\n",
    "            else:\n",
    "                days+=numOfDaysMonth(month)\n",
    "        return numOfHrs(days)\n",
    "    else:\n",
    "       days+=numofdaysintimeperiod(start_year+1,end_year-1)\n",
    "       for month in range(start_month,13):\n",
    "           if month==2:\n",
    "               if isLeapyear(start_year):\n",
    "                   days+=29\n",
    "               else:\n",
    "                   days+=28\n",
    "           else:\n",
    "               days+=numOfDaysMonth(month)\n",
    "       for month in range(1,end_month+1):\n",
    "           if month==2:\n",
    "               if isLeapyear(end_year):\n",
    "                   days+=29\n",
    "               else:\n",
    "                   days+=28\n",
    "           else:\n",
    "               days+=numOfDaysMonth(month)\n",
    "\n",
    "       return numOfHrs(days)\n",
    "\n",
    "\n",
    "noOfhoursBetweenYears(2,2016,6,2019)"
   ]
  },
  {
   "cell_type": "markdown",
   "metadata": {},
   "source": [
    "# Optional practies \n",
    "  \n",
    "  - [X] fn to generate n odd armstrong numbers\n",
    "    - i/p-- 4\n",
    "    - o/p-- 1, 3, 5, 7.\n",
    "  - [ ] fn to cal avg of all factorials in a given range\n",
    "    - i/p-- 2-4\n",
    "    - o/p-- (2!+3!+4!)/3 \n",
    "  - [ ] fn to generate multiplication table for a number in a given range\n",
    "    - i/p-- 2-4\n",
    "    - o/p-- 2 table 3 table 4 table"
   ]
  },
  {
   "cell_type": "code",
   "execution_count": 50,
   "metadata": {},
   "outputs": [
    {
     "name": "stdout",
     "output_type": "stream",
     "text": [
      "1 3 5 7 9 153 371 407 92727 1741725 "
     ]
    }
   ],
   "source": [
    "#N odd Armstrong numbers\n",
    "def isarmstrong(num):\n",
    "    a=0\n",
    "    #digitcount=int(len(str(num)))\n",
    "    for i in str(num):\n",
    "        a+=int(i)**int(len(str(num)))\n",
    "    if num==a:\n",
    "        return True\n",
    "    return False\n",
    "\n",
    "def oddN_Armstrongs(n):\n",
    "    i=1\n",
    "    c=0\n",
    "    while c!=n:\n",
    "        if isarmstrong(i) and i%2==1:\n",
    "            c+=1\n",
    "            print(i,end=\" \")\n",
    "        i+=1\n",
    "oddN_Armstrongs(10)"
   ]
  },
  {
   "cell_type": "code",
   "execution_count": null,
   "metadata": {},
   "outputs": [],
   "source": []
  }
 ],
 "metadata": {
  "kernelspec": {
   "display_name": "Python 3",
   "language": "python",
   "name": "python3"
  },
  "language_info": {
   "codemirror_mode": {
    "name": "ipython",
    "version": 3
   },
   "file_extension": ".py",
   "mimetype": "text/x-python",
   "name": "python",
   "nbconvert_exporter": "python",
   "pygments_lexer": "ipython3",
   "version": "3.7.3"
  }
 },
 "nbformat": 4,
 "nbformat_minor": 2
}
