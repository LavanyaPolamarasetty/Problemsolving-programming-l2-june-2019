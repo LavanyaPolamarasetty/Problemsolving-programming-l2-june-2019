{
 "cells": [
  {
   "cell_type": "code",
   "execution_count": null,
   "metadata": {},
   "outputs": [],
   "source": [
    "dir(str)"
   ]
  },
  {
   "cell_type": "code",
   "execution_count": null,
   "metadata": {},
   "outputs": [],
   "source": [
    "def product(n):\n",
    "    m=0\n",
    "    for i in range(1,n):\n",
    "        m=m*i\n",
    "    print(m)\n",
    "    \n",
    "a=int(input())\n",
    "N=[]\n",
    "N=input().split()\n",
    "\n",
    "#product(N)\n",
    "N"
   ]
  },
  {
   "cell_type": "code",
   "execution_count": null,
   "metadata": {},
   "outputs": [],
   "source": [
    "n=int(input())\n",
    "for i in range(n):\n",
    "    p=list(input().split())\n",
    "    c=0\n",
    "    s1=p[0]\n",
    "    s2=p[1]\n",
    "    if len(s1)==len(s2):\n",
    "        for i in range(0,len(s1)):\n",
    "            for j in range(0,len(s2)):\n",
    "                if s2[i]==s1[j]:\n",
    "                    c+=1\n",
    "        if c==len(s1):\n",
    "            print(\"yes\")\n",
    "        else:\n",
    "            print(\"no\")"
   ]
  },
  {
   "cell_type": "code",
   "execution_count": null,
   "metadata": {},
   "outputs": [],
   "source": [
    "n=int(input())\n",
    "for i in range(n):\n",
    "    p=[]\n",
    "    p=input().split(' ')\n",
    "    if sorted(p[0])==sorted(p[1]):\n",
    "        print(\"YES\")\n",
    "    else:\n",
    "        print(\"NO\")\n",
    "    "
   ]
  },
  {
   "cell_type": "code",
   "execution_count": 2,
   "metadata": {},
   "outputs": [
    {
     "name": "stdout",
     "output_type": "stream",
     "text": [
      "1\n",
      "2 25 8 35\n",
      "6\n",
      "10\n"
     ]
    }
   ],
   "source": [
    "## First line will be given by N number of works\n",
    "#Next N line will be given SH,SM,EH and EM  each separated by space(SH=starting hr, SM=starting min, EH=ending hr, EM=ending min)\n",
    "n=int(input())\n",
    "for i in range(n):\n",
    "    s=list(input().split(' '))\n",
    "    sh=int(s[0])\n",
    "    sm=int(s[1])\n",
    "    eh=int(s[2])\n",
    "    em=int(s[3])\n",
    "    #h1=24-sh\n",
    "    m1=60-sm\n",
    "    #h2=24-eh\n",
    "    m2=em\n",
    "    h=eh-sh-1\n",
    "    m=m1+m21\n",
    "    if m1+m2>=60:\n",
    "        h+=1\n",
    "        p=m-60\n",
    "    print(h)\n",
    "    print(p)\n",
    "    "
   ]
  },
  {
   "cell_type": "code",
   "execution_count": null,
   "metadata": {},
   "outputs": [],
   "source": [
    "#1 44 2 14\n",
    "#0 30\n",
    "#2 42 8 23"
   ]
  },
  {
   "cell_type": "code",
   "execution_count": null,
   "metadata": {},
   "outputs": [],
   "source": [
    "h2-h1-1,44-14\n",
    "5 21"
   ]
  }
 ],
 "metadata": {
  "kernelspec": {
   "display_name": "Python 3",
   "language": "python",
   "name": "python3"
  },
  "language_info": {
   "codemirror_mode": {
    "name": "ipython",
    "version": 3
   },
   "file_extension": ".py",
   "mimetype": "text/x-python",
   "name": "python",
   "nbconvert_exporter": "python",
   "pygments_lexer": "ipython3",
   "version": "3.7.3"
  }
 },
 "nbformat": 4,
 "nbformat_minor": 2
}
