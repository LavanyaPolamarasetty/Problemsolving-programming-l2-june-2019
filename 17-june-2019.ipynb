{
 "cells": [
  {
   "cell_type": "code",
   "execution_count": 1,
   "metadata": {},
   "outputs": [
    {
     "name": "stdout",
     "output_type": "stream",
     "text": [
      "3\n",
      "23 45 67\n",
      "23\n",
      "45\n"
     ]
    }
   ],
   "source": [
    "i=int(input())\n",
    "p=input().split()\n",
    "n1=int(p[0])\n",
    "n2=int(p[1])\n",
    "print(n1)\n",
    "print(n2)"
   ]
  },
  {
   "cell_type": "code",
   "execution_count": 3,
   "metadata": {},
   "outputs": [
    {
     "name": "stdout",
     "output_type": "stream",
     "text": [
      "3\n",
      "24 56\n",
      "not fact\n",
      "2 4\n",
      "not fact\n",
      "2 45\n",
      "not fact\n"
     ]
    }
   ],
   "source": [
    "n=int(input())\n",
    "for t in range(n):\n",
    "    s=input().split()\n",
    "    a=int(s[0])\n",
    "    b=int(s[1])\n",
    "    if a%b==0:\n",
    "        print(\"fact\")\n",
    "    else:\n",
    "        print(\"not fact\")"
   ]
  },
  {
   "cell_type": "code",
   "execution_count": 5,
   "metadata": {},
   "outputs": [
    {
     "name": "stdout",
     "output_type": "stream",
     "text": [
      "1\n",
      "23 45\n",
      "23\n",
      "23 66\n",
      "66\n"
     ]
    }
   ],
   "source": [
    "p=int(input())\n",
    "for i in range(p+1):\n",
    "    s=input().split()\n",
    "    s[i]=int(s[i])\n",
    "    print(s[i])"
   ]
  },
  {
   "cell_type": "code",
   "execution_count": 6,
   "metadata": {},
   "outputs": [
    {
     "name": "stdout",
     "output_type": "stream",
     "text": [
      "sfsDSGV#%%\n",
      "0 3 4\n"
     ]
    }
   ],
   "source": [
    "u=input()\n",
    "s=[]\n",
    "c=0\n",
    "dc=0\n",
    "up=0\n",
    "l=0\n",
    "for i in u:\n",
    "    if i.isalpha():\n",
    "        if i.isupper():\n",
    "            up+=1\n",
    "        elif i.islower():\n",
    "            l+=1\n",
    "    elif i.isdigit():\n",
    "            dc+=1\n",
    "print(dc,l,up)"
   ]
  },
  {
   "cell_type": "code",
   "execution_count": null,
   "metadata": {},
   "outputs": [],
   "source": []
  }
 ],
 "metadata": {
  "kernelspec": {
   "display_name": "Python 3",
   "language": "python",
   "name": "python3"
  },
  "language_info": {
   "codemirror_mode": {
    "name": "ipython",
    "version": 3
   },
   "file_extension": ".py",
   "mimetype": "text/x-python",
   "name": "python",
   "nbconvert_exporter": "python",
   "pygments_lexer": "ipython3",
   "version": "3.7.3"
  }
 },
 "nbformat": 4,
 "nbformat_minor": 2
}
