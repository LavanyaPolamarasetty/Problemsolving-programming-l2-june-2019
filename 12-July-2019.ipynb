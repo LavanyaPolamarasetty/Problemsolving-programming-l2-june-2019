{
 "cells": [
  {
   "cell_type": "code",
   "execution_count": 5,
   "metadata": {},
   "outputs": [
    {
     "name": "stdout",
     "output_type": "stream",
     "text": [
      "2\n",
      "6\n"
     ]
    }
   ],
   "source": [
    "#Problem1:\n",
    "\n",
    "n=int(input())\n",
    "sum=1\n",
    "for i in range(1,n):\n",
    "    sum+=i*5\n",
    "print(sum)"
   ]
  },
  {
   "cell_type": "code",
   "execution_count": 10,
   "metadata": {},
   "outputs": [
    {
     "name": "stdout",
     "output_type": "stream",
     "text": [
      "1\n",
      "all all love\n",
      "Invalid\n"
     ]
    }
   ],
   "source": [
    "# Problem 2:\n",
    "n=int(input())\n",
    "for i in range(n):\n",
    "    s=input().split()\n",
    "    if len(s)==1:\n",
    "        print(\"valid\")\n",
    "    else:\n",
    "        status=True\n",
    "        for i in range(len(s)-1):\n",
    "            if s[i][-1]!=s[i+1][0]:\n",
    "                status=False\n",
    "        for i in s:\n",
    "            if s.count(i)>1:\n",
    "                status=False\n",
    "        if status:\n",
    "            print(\"valid\")\n",
    "        else:\n",
    "            print(\"Invalid\")"
   ]
  },
  {
   "cell_type": "code",
   "execution_count": 1,
   "metadata": {},
   "outputs": [
    {
     "name": "stdout",
     "output_type": "stream",
     "text": [
      "3\n",
      "3 2\n",
      "5 2\n",
      "1 2\n",
      "3\n"
     ]
    }
   ],
   "source": [
    "# Aman & Mr.Sharma\n",
    "days=int(input())\n",
    "c=0\n",
    "for i in range(days):\n",
    "    s=list(map(int,input().split()))\n",
    "    m=s[1]*100\n",
    "    d=2*(22/7)*s[0]\n",
    "    if m>d:\n",
    "        c+=1\n",
    "print(c)\n"
   ]
  },
  {
   "cell_type": "code",
   "execution_count": 2,
   "metadata": {},
   "outputs": [
    {
     "name": "stdout",
     "output_type": "stream",
     "text": [
      "12X345-67\n",
      "invalid\n"
     ]
    }
   ],
   "source": [
    "# Ali and Helping innocent people\n",
    "s=input()\n",
    "c=8\n",
    "for i in range(0,len(s)-1,1):\n",
    "    if s[i].isdigit()==True and s[i+1].isdigit()==True:\n",
    "        if (int(s[i])+int(s[i+1]))%2!=0:\n",
    "            print(\"invalid\")\n",
    "            c=0\n",
    "            break\n",
    "    elif (s[i].isalpha()==True) :\n",
    "        if s[i] in \"AEIOUY\":\n",
    "            c=0\n",
    "            print(\"invalid\")\n",
    "            break\n",
    "if(c!=0):\n",
    "    print(\"valid\")"
   ]
  },
  {
   "cell_type": "code",
   "execution_count": null,
   "metadata": {},
   "outputs": [],
   "source": []
  }
 ],
 "metadata": {
  "kernelspec": {
   "display_name": "Python 3",
   "language": "python",
   "name": "python3"
  },
  "language_info": {
   "codemirror_mode": {
    "name": "ipython",
    "version": 3
   },
   "file_extension": ".py",
   "mimetype": "text/x-python",
   "name": "python",
   "nbconvert_exporter": "python",
   "pygments_lexer": "ipython3",
   "version": "3.7.3"
  }
 },
 "nbformat": 4,
 "nbformat_minor": 2
}
