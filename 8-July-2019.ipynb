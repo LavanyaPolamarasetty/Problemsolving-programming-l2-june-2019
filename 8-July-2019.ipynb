{
 "cells": [
  {
   "cell_type": "code",
   "execution_count": 11,
   "metadata": {},
   "outputs": [
    {
     "name": "stdout",
     "output_type": "stream",
     "text": [
      "enter lb1\n",
      "enter ub10\n",
      "6\n"
     ]
    }
   ],
   "source": [
    "# Function to print all numbers divisible by 6 and not a factor of 100 in a given range(lb, ub) inclusive\n",
    "\n",
    "def func(lb,ub):\n",
    "    for i in range(lb,ub+1):\n",
    "        if 100%i!=0 and i%6==0:\n",
    "            print(i)\n",
    "       \n",
    "lb=int(input(\"enter lb\"))\n",
    "ub=int(input(\"enter ub\"))\n",
    "func(lb,ub)"
   ]
  },
  {
   "cell_type": "code",
   "execution_count": 20,
   "metadata": {},
   "outputs": [
    {
     "name": "stdout",
     "output_type": "stream",
     "text": [
      "enter lb1\n",
      "enter ub10\n",
      "[8, 64, 216, 512, 1000]\n",
      "1800\n",
      "360.0\n"
     ]
    }
   ],
   "source": [
    "# Function to find the average of cubes of all even numbers in a given range(lb, ub) inclusive\n",
    "\n",
    "def avgcubesevens(lb,ub):\n",
    "    l=[]\n",
    "    count=0\n",
    "    for i in range(lb,ub+1):\n",
    "        if i%2==0:\n",
    "            l.append(i**3)\n",
    "            count+=1\n",
    "    print(l)\n",
    "    print(sum(l))\n",
    "    print(sum(l)/count)\n",
    "            \n",
    "            \n",
    "\n",
    "    \n",
    "lb=int(input(\"enter lb\"))\n",
    "ub=int(input(\"enter ub\"))\n",
    "avgcubesevens(lb,ub)"
   ]
  },
  {
   "cell_type": "code",
   "execution_count": 24,
   "metadata": {},
   "outputs": [
    {
     "name": "stdout",
     "output_type": "stream",
     "text": [
      "10\n"
     ]
    },
    {
     "data": {
      "text/plain": [
       "[1, 2, 5]"
      ]
     },
     "execution_count": 24,
     "metadata": {},
     "output_type": "execute_result"
    }
   ],
   "source": [
    "# Function to generate the list of factors for a given number\n",
    "def facts(num):\n",
    "    l=[]\n",
    "    for i in range(1,num):\n",
    "        if num%i==0:\n",
    "            l.append(i)\n",
    "    return l\n",
    "num=int(input())            \n",
    "facts(num)"
   ]
  },
  {
   "cell_type": "code",
   "execution_count": 60,
   "metadata": {},
   "outputs": [
    {
     "name": "stdout",
     "output_type": "stream",
     "text": [
      "6\n",
      "720\n"
     ]
    }
   ],
   "source": [
    "# Function to calculate the factorial of a given number\n",
    "\n",
    "\n",
    "def factorial(num):\n",
    "    f=1\n",
    "    for i in range(1,num+1):\n",
    "        f=f*i\n",
    "    print(f)\n",
    "\n",
    "num=int(input())\n",
    "factorial(num)"
   ]
  },
  {
   "cell_type": "code",
   "execution_count": 43,
   "metadata": {},
   "outputs": [
    {
     "name": "stdout",
     "output_type": "stream",
     "text": [
      "7\n",
      "7 is prime\n"
     ]
    },
    {
     "data": {
      "text/plain": [
       "1"
      ]
     },
     "execution_count": 43,
     "metadata": {},
     "output_type": "execute_result"
    }
   ],
   "source": [
    "# Function to check if a given number is Prime\n",
    "\n",
    "def isPrime(num):\n",
    "    c=0\n",
    "    res=0\n",
    "    for i in range(1,num):\n",
    "        if num%i==0:\n",
    "            c+=1\n",
    "    if c<2:\n",
    "        res=1\n",
    "        print(num,\"is prime\")\n",
    "    else:\n",
    "        res=0\n",
    "        print(num,\"is not  a prime\")\n",
    "    return res\n",
    "num=int(input())\n",
    "isPrime(num)"
   ]
  },
  {
   "cell_type": "code",
   "execution_count": 57,
   "metadata": {},
   "outputs": [
    {
     "name": "stdout",
     "output_type": "stream",
     "text": [
      "enter num10\n",
      "2 is prime\n",
      "3 is prime\n",
      "4 is not  a prime\n",
      "5 is prime\n",
      "6 is not  a prime\n",
      "7 is prime\n",
      "8 is not  a prime\n",
      "9 is not  a prime\n",
      "17\n",
      "4\n",
      "4.25\n"
     ]
    }
   ],
   "source": [
    "# Function to calculate the average first N Prime numbers\n",
    "\n",
    "def AvgNprime(num):\n",
    "    sum=0\n",
    "    c=0\n",
    "    for i in range(2,num):\n",
    "        if isPrime(i)==1:\n",
    "            sum+=i\n",
    "            c+=1\n",
    "    print(sum)\n",
    "    print(c)\n",
    "    print(sum/c)\n",
    "num=int(input(\"enter num\"))\n",
    "AvgNprime(num)"
   ]
  },
  {
   "cell_type": "code",
   "execution_count": 59,
   "metadata": {},
   "outputs": [
    {
     "name": "stdout",
     "output_type": "stream",
     "text": [
      "enter  lb num1\n",
      "enter  ub num100\n",
      "perfect 6\n",
      "6\n",
      "perfect 28\n",
      "28\n"
     ]
    }
   ],
   "source": [
    "# Function to generate all Perfect numbers in a given range\n",
    "def perfect(num):\n",
    "    sum=0\n",
    "    for i in range(1,num):\n",
    "        if num%i==0:\n",
    "            sum+=i\n",
    "    if sum==num:\n",
    "        print(\"perfect\",num)\n",
    "        return 1\n",
    "    else:\n",
    "        return 0\n",
    "    return\n",
    "\n",
    "def perfectnums(lb,ub):\n",
    "    for i in range(lb,ub+1):\n",
    "        if perfect(i)==1:\n",
    "            print(i)\n",
    "\n",
    "    \n",
    "lb=int(input(\"enter  lb num\"))\n",
    "ub=int(input(\"enter  ub num\"))\n",
    "perfectnums(lb,ub)"
   ]
  },
  {
   "cell_type": "code",
   "execution_count": 129,
   "metadata": {},
   "outputs": [
    {
     "name": "stdout",
     "output_type": "stream",
     "text": [
      "enter  lb num1\n",
      "enter  ub num10\n",
      "1 --> 1\n",
      "2 --> 2\n",
      "3 --> 6\n",
      "4 --> 24\n",
      "5 --> 120\n",
      "6 --> 720\n",
      "7 --> 5040\n",
      "8 --> 40320\n",
      "9 --> 362880\n",
      "10 --> 3628800\n",
      "403791.3\n"
     ]
    }
   ],
   "source": [
    "# Function to calculate the average of all factorials in a given range\n",
    "\n",
    "def factorial(num):\n",
    "    f=1\n",
    "    for i in range(1,num+1):\n",
    "        f=f*i\n",
    "    return f\n",
    "\n",
    "def allFactorials(lb,ub):\n",
    "    l=[]\n",
    "    for i in range(lb,ub+1):\n",
    "        print(i,\"-->\",factorial(i))\n",
    "        l.append(factorial(i))\n",
    "    print(sum(l)/len(l))\n",
    "\n",
    "    \n",
    "    \n",
    "lb=int(input(\"enter  lb num\"))\n",
    "ub=int(input(\"enter  ub num\"))\n",
    "allFactorials(lb,ub)"
   ]
  },
  {
   "cell_type": "code",
   "execution_count": 127,
   "metadata": {},
   "outputs": [
    {
     "name": "stdout",
     "output_type": "stream",
     "text": [
      "enter a number123\n",
      "[27, 8, 1]\n",
      "36\n",
      "Not Armstrong\n"
     ]
    }
   ],
   "source": [
    "# Function to generate N odd Armstrong numbers\n",
    "\n",
    "def Armstrongnums(num):\n",
    "    n=num\n",
    "    s=str(num)\n",
    "    l=[]\n",
    "    for i in range(len(s)):\n",
    "            l.append((num%10)**len(s))\n",
    "            num=num//10\n",
    "    print(l)\n",
    "    print(sum(l))\n",
    "    if sum(l)==n:\n",
    "        if n%2==1:\n",
    "            print(\"Armstrong Number\",n)\n",
    "            \n",
    "    else:\n",
    "        print(\"Not Armstrong\")\n",
    "\n",
    "num=int(input(\"enter a number\"))\n",
    "Armstrongnums(num)"
   ]
  },
  {
   "cell_type": "code",
   "execution_count": 103,
   "metadata": {},
   "outputs": [
    {
     "name": "stdout",
     "output_type": "stream",
     "text": [
      "enter num10\n",
      "lb1\n",
      "ub10\n",
      "10 x 1 = 10\n",
      "10 x 2 = 20\n",
      "10 x 3 = 30\n",
      "10 x 4 = 40\n",
      "10 x 5 = 50\n",
      "10 x 6 = 60\n",
      "10 x 7 = 70\n",
      "10 x 8 = 80\n",
      "10 x 9 = 90\n",
      "10 x 10 = 100\n"
     ]
    }
   ],
   "source": [
    "# Function to generate Multiplication table for a number in a given range\n",
    "#    10 in the range(100, 102) inclusive\n",
    "#    10 x 100 = 1000\n",
    "#    10 x 101 = 1010\n",
    "#    10 x 102 = 1020\n",
    "\n",
    "def table(tablenum,lb,ub):\n",
    "    for i in range(lb,ub+1):\n",
    "        print(tablenum,\"x\",i,\"=\",tablenum*i)\n",
    "\n",
    "\n",
    "tablenum=int(input(\"enter num\"))\n",
    "lb=int(input(\"lb\"))\n",
    "ub=int(input(\"ub\"))\n",
    "table(tablenum,lb,ub)"
   ]
  },
  {
   "cell_type": "code",
   "execution_count": 130,
   "metadata": {},
   "outputs": [
    {
     "name": "stdout",
     "output_type": "stream",
     "text": [
      "afsgSGFHS$#$GH\n",
      "AFSGsgfhs$#$gh"
     ]
    }
   ],
   "source": [
    "# You are given a string and your task is to swap cases. In other words, convert all lowercase letters to uppercase letters\n",
    "# and vice versa. (The String may contain special characters).\n",
    "def swapString(s):\n",
    "    s2=\"\"\n",
    "    for i in range(len(s)):\n",
    "        if s[i].islower():\n",
    "            print(s[i].upper(),end='')\n",
    "        elif s[i].isupper():\n",
    "            print(s[i].lower(),end='')\n",
    "        else:\n",
    "            print(s[i],end='')\n",
    "    return \n",
    "            \n",
    "            \n",
    "    \n",
    "s=input()\n",
    "swapString(s)\n"
   ]
  },
  {
   "cell_type": "code",
   "execution_count": 126,
   "metadata": {},
   "outputs": [
    {
     "name": "stdout",
     "output_type": "stream",
     "text": [
      "dhfjJHSdhfj\n"
     ]
    },
    {
     "data": {
      "text/plain": [
       "'DHFJjhsDHFJ'"
      ]
     },
     "execution_count": 126,
     "metadata": {},
     "output_type": "execute_result"
    }
   ],
   "source": [
    "s=input()\n",
    "s.swapcase()"
   ]
  },
  {
   "cell_type": "code",
   "execution_count": 15,
   "metadata": {},
   "outputs": [
    {
     "name": "stdout",
     "output_type": "stream",
     "text": [
      "21\n",
      "Weird\n"
     ]
    }
   ],
   "source": [
    "# Given an integer, ’n’ , perform the following conditional actions:\n",
    "# If ‘n’  is odd, print Weird\n",
    "# If  ‘n’ is even and in the inclusive range of 2 to 5, print Not Weird\n",
    "# If  ‘n’ is even and in the inclusive range of 6 to 20 , print Weird\n",
    "# If  ‘n’ is even and greater than 20, print Not Weird\n",
    "\n",
    "def Goodnum(num):\n",
    "    if num%2!=0:\n",
    "        print(\"Weird\")\n",
    "    else:\n",
    "        for i in range(2,5):\n",
    "            if num==i:\n",
    "                print(\"Not Weird\")\n",
    "        for i in range(6,21):\n",
    "            if num==i:\n",
    "                print(\"Weird\")\n",
    "        if num>20:\n",
    "            print(\"Not Weird\")\n",
    "        \n",
    "num= int(input())           \n",
    "Goodnum(num)        \n",
    "        \n"
   ]
  },
  {
   "cell_type": "code",
   "execution_count": null,
   "metadata": {},
   "outputs": [],
   "source": [
    "# Given the participants ‘n’ score sheet for your University Sports Day, you are required to find the runner-up score.\n",
    "#You are given scores. Store them in a list and find the score of the runner-up. (there can be multiple winners - if theirscores match). \n"
   ]
  },
  {
   "cell_type": "code",
   "execution_count": null,
   "metadata": {},
   "outputs": [],
   "source": []
  }
 ],
 "metadata": {
  "kernelspec": {
   "display_name": "Python 3",
   "language": "python",
   "name": "python3"
  },
  "language_info": {
   "codemirror_mode": {
    "name": "ipython",
    "version": 3
   },
   "file_extension": ".py",
   "mimetype": "text/x-python",
   "name": "python",
   "nbconvert_exporter": "python",
   "pygments_lexer": "ipython3",
   "version": "3.7.3"
  }
 },
 "nbformat": 4,
 "nbformat_minor": 2
}
