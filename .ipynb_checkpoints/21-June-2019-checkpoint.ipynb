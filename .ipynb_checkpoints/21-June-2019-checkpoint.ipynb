{
 "cells": [
  {
   "cell_type": "code",
   "execution_count": 47,
   "metadata": {},
   "outputs": [
    {
     "name": "stdout",
     "output_type": "stream",
     "text": [
      "tejuuuuuu\n",
      "37156\n",
      "Contact tejuuuuuu added\n"
     ]
    }
   ],
   "source": [
    "# function to write contacts in a file\n",
    "contacts ={}\n",
    "def addcontact(name,phone):\n",
    "    #verify that the contact doesnot already exist\n",
    "    if name not in contacts:\n",
    "        contacts[name]=phone\n",
    "        print(\"Contact %s added\" % name)\n",
    "    else:\n",
    "        print(\"contact %s already exists\" % name)\n",
    "    return\n",
    "\n",
    "#addcontact(\"Mercy\",\"9505305452\")\n",
    "#addcontact(\"puppy\",\"9010000000\")\n",
    "\n",
    "def writecontacts(finame,name,phone):\n",
    "        f=open(finame,'a')\n",
    "        addcontact(name,phone)\n",
    "        for key,value in contacts.items():\n",
    "            f.write( '%s:%s\\n' % (key,value) )  \n",
    "        \n",
    "    \n",
    "finame='Files/contacts.txt'\n",
    "name=input()\n",
    "phone=int(input())\n",
    "writecontacts(finame,name,phone)"
   ]
  },
  {
   "cell_type": "code",
   "execution_count": 26,
   "metadata": {},
   "outputs": [
    {
     "name": "stdout",
     "output_type": "stream",
     "text": [
      "Contact teju added\n"
     ]
    }
   ],
   "source": [
    "addcontact(\"teju\",90909090)"
   ]
  },
  {
   "cell_type": "code",
   "execution_count": 3,
   "metadata": {},
   "outputs": [
    {
     "data": {
      "text/plain": [
       "{'mercy': 9505305452}"
      ]
     },
     "execution_count": 3,
     "metadata": {},
     "output_type": "execute_result"
    }
   ],
   "source": [
    "contacts"
   ]
  },
  {
   "cell_type": "code",
   "execution_count": null,
   "metadata": {},
   "outputs": [],
   "source": []
  },
  {
   "cell_type": "code",
   "execution_count": 21,
   "metadata": {},
   "outputs": [
    {
     "name": "stdout",
     "output_type": "stream",
     "text": [
      "mercy\n"
     ]
    },
    {
     "ename": "AttributeError",
     "evalue": "'dict' object has no attribute 'searchcontact'",
     "output_type": "error",
     "traceback": [
      "\u001b[1;31m---------------------------------------------------------------------------\u001b[0m",
      "\u001b[1;31mAttributeError\u001b[0m                            Traceback (most recent call last)",
      "\u001b[1;32m<ipython-input-21-11ff51b4fff4>\u001b[0m in \u001b[0;36m<module>\u001b[1;34m\u001b[0m\n\u001b[0;32m      9\u001b[0m \u001b[0mname\u001b[0m\u001b[1;33m=\u001b[0m\u001b[0minput\u001b[0m\u001b[1;33m(\u001b[0m\u001b[1;33m)\u001b[0m\u001b[1;33m\u001b[0m\u001b[1;33m\u001b[0m\u001b[0m\n\u001b[0;32m     10\u001b[0m \u001b[1;31m#phone=int(input())\u001b[0m\u001b[1;33m\u001b[0m\u001b[1;33m\u001b[0m\u001b[1;33m\u001b[0m\u001b[0m\n\u001b[1;32m---> 11\u001b[1;33m \u001b[0msearchcontactsfile\u001b[0m\u001b[1;33m(\u001b[0m\u001b[0mfiname\u001b[0m\u001b[1;33m,\u001b[0m\u001b[0mname\u001b[0m\u001b[1;33m)\u001b[0m\u001b[1;33m\u001b[0m\u001b[1;33m\u001b[0m\u001b[0m\n\u001b[0m",
      "\u001b[1;32m<ipython-input-21-11ff51b4fff4>\u001b[0m in \u001b[0;36msearchcontactsfile\u001b[1;34m(finame, name)\u001b[0m\n\u001b[0;32m      3\u001b[0m \u001b[1;32mdef\u001b[0m \u001b[0msearchcontactsfile\u001b[0m\u001b[1;33m(\u001b[0m\u001b[0mfiname\u001b[0m\u001b[1;33m,\u001b[0m\u001b[0mname\u001b[0m\u001b[1;33m)\u001b[0m\u001b[1;33m:\u001b[0m\u001b[1;33m\u001b[0m\u001b[1;33m\u001b[0m\u001b[0m\n\u001b[0;32m      4\u001b[0m     \u001b[0mf\u001b[0m\u001b[1;33m=\u001b[0m\u001b[0mopen\u001b[0m\u001b[1;33m(\u001b[0m\u001b[0mfiname\u001b[0m\u001b[1;33m,\u001b[0m\u001b[1;34m'r'\u001b[0m\u001b[1;33m)\u001b[0m\u001b[1;33m\u001b[0m\u001b[1;33m\u001b[0m\u001b[0m\n\u001b[1;32m----> 5\u001b[1;33m     \u001b[0mcontacts\u001b[0m\u001b[1;33m.\u001b[0m\u001b[0msearchcontact\u001b[0m\u001b[1;33m(\u001b[0m\u001b[0mname\u001b[0m\u001b[1;33m)\u001b[0m\u001b[1;33m\u001b[0m\u001b[1;33m\u001b[0m\u001b[0m\n\u001b[0m\u001b[0;32m      6\u001b[0m \u001b[1;33m\u001b[0m\u001b[0m\n\u001b[0;32m      7\u001b[0m \u001b[1;33m\u001b[0m\u001b[0m\n",
      "\u001b[1;31mAttributeError\u001b[0m: 'dict' object has no attribute 'searchcontact'"
     ]
    }
   ],
   "source": [
    "# function to search contact in a file\n",
    "from  Packages import contancts\n",
    "def searchcontactsfile(finame,name):\n",
    "    f=open(finame,'r')\n",
    "    contacts.searchcontact(name)\n",
    "\n",
    "    \n",
    "finame='Files/contacts.txt'\n",
    "name=input()\n",
    "#phone=int(input())\n",
    "searchcontactsfile(finame,name)"
   ]
  },
  {
   "cell_type": "code",
   "execution_count": 17,
   "metadata": {},
   "outputs": [
    {
     "name": "stdout",
     "output_type": "stream",
     "text": [
      "mercy\n",
      "mercy : 9505305452\n"
     ]
    }
   ],
   "source": [
    "def searchcontact(name):\n",
    "    if name in contacts:\n",
    "        print(name,\":\",contacts[name])\n",
    "    else:\n",
    "        print(\"%s does not exist\" % name)\n",
    "    return\n",
    "\n",
    "def searchcontactsfile(finame,name):\n",
    "    f=open(finame,'r')\n",
    "    searchcontact(name)\n",
    "\n",
    "finame='Files/contacts.txt'\n",
    "name=input()\n",
    "#phone=int(input())\n",
    "searchcontactsfile(finame,name)"
   ]
  },
  {
   "cell_type": "code",
   "execution_count": 24,
   "metadata": {},
   "outputs": [
    {
     "name": "stdout",
     "output_type": "stream",
     "text": [
      "mercy\n",
      "98876752\n",
      "{'mercy': 98876752}\n"
     ]
    }
   ],
   "source": [
    "# function to modify contacts in a file\n",
    "def modifycontacts(name,phone):\n",
    "    contacts[name]=phone\n",
    "    print(contacts)\n",
    "    \n",
    "def modifycontactfile(finame,name,phone):\n",
    "    f=open(finame,'w')\n",
    "    modifycontacts(name,phone)\n",
    "    \n",
    "\n",
    "\n",
    "finame='Files/contacts.txt'\n",
    "name=input()\n",
    "phone=int(input())\n",
    "modifycontactfile(finame,name,phone)"
   ]
  },
  {
   "cell_type": "code",
   "execution_count": null,
   "metadata": {},
   "outputs": [],
   "source": []
  }
 ],
 "metadata": {
  "kernelspec": {
   "display_name": "Python 3",
   "language": "python",
   "name": "python3"
  },
  "language_info": {
   "codemirror_mode": {
    "name": "ipython",
    "version": 3
   },
   "file_extension": ".py",
   "mimetype": "text/x-python",
   "name": "python",
   "nbconvert_exporter": "python",
   "pygments_lexer": "ipython3",
   "version": "3.7.3"
  }
 },
 "nbformat": 4,
 "nbformat_minor": 2
}
