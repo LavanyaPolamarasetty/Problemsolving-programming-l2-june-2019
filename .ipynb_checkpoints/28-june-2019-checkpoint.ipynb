{
 "cells": [
  {
   "cell_type": "markdown",
   "metadata": {},
   "source": [
    "# Day Objectives:\n",
    "    * map\n",
    "    * Lambda\n",
    "    * Filter\n",
    "    * Use "
   ]
  },
  {
   "cell_type": "markdown",
   "metadata": {},
   "source": [
    "### MAP\n",
    "     Mapping - Entity with function\n",
    "     f : x^2 \n",
    "     [1,10]\n",
    "     f(x)  --> \n",
    "     f(1)-->13\n",
    "     f(2)-->25\n",
    "     .\n",
    "     .\n",
    "     .\n",
    "     .\n",
    "     .\n",
    "     y= f(x)\n",
    "     \n",
    "     \n",
    "     map(function, Iterable)"
   ]
  },
  {
   "cell_type": "code",
   "execution_count": 18,
   "metadata": {},
   "outputs": [
    {
     "data": {
      "text/plain": [
       "7"
      ]
     },
     "execution_count": 18,
     "metadata": {},
     "output_type": "execute_result"
    }
   ],
   "source": [
    "5^2"
   ]
  },
  {
   "cell_type": "code",
   "execution_count": 23,
   "metadata": {},
   "outputs": [
    {
     "data": {
      "text/plain": [
       "8"
      ]
     },
     "execution_count": 23,
     "metadata": {},
     "output_type": "execute_result"
    }
   ],
   "source": [
    "def powerN(a,n):\n",
    "    #return a**n\n",
    "    r=1\n",
    "    for i in range(n):\n",
    "        r *= a\n",
    "    return r\n",
    "powerN(2,0) \n",
    "powerN(2,10)\n",
    "\n",
    "def recursivePowerN(a,n):\n",
    "    if n==0:\n",
    "        return 1\n",
    "    else:\n",
    "        return a*recursivePowerN(a,n-1)\n",
    "    return\n",
    "recursivePowerN(2,0)\n",
    "recursivePowerN(2,3)"
   ]
  },
  {
   "cell_type": "code",
   "execution_count": 35,
   "metadata": {},
   "outputs": [
    {
     "name": "stdout",
     "output_type": "stream",
     "text": [
      "{64, 1, 8, 216, 27, 125}\n"
     ]
    }
   ],
   "source": [
    "def cube(n):  #-------->Passing function as a parameter\n",
    "    return n**3 \n",
    "l=[1,2,3,4,5,6]\n",
    "print(set(map(cube,l))) #--------> give only a set of values ,dont give int, int is not iterable"
   ]
  },
  {
   "cell_type": "code",
   "execution_count": 36,
   "metadata": {},
   "outputs": [
    {
     "data": {
      "text/plain": [
       "[1, 2, 3, 4, 5, 6]"
      ]
     },
     "execution_count": 36,
     "metadata": {},
     "output_type": "execute_result"
    }
   ],
   "source": [
    "list(map(int,['1','2','3','4','5','6'])) #----> it converts  str in integers"
   ]
  },
  {
   "cell_type": "code",
   "execution_count": 38,
   "metadata": {},
   "outputs": [
    {
     "data": {
      "text/plain": [
       "['1', '2', '3', '4', '5', '6']"
      ]
     },
     "execution_count": 38,
     "metadata": {},
     "output_type": "execute_result"
    }
   ],
   "source": [
    "list(map(str,[1,2,3,4,5,6])) #------> it converts integers into str"
   ]
  },
  {
   "cell_type": "code",
   "execution_count": 41,
   "metadata": {},
   "outputs": [
    {
     "data": {
      "text/plain": [
       "[1.0, 2.0, 3.0, 4.0, 5.0, 6.0]"
      ]
     },
     "execution_count": 41,
     "metadata": {},
     "output_type": "execute_result"
    }
   ],
   "source": [
    "list(map(float,l)) "
   ]
  },
  {
   "cell_type": "code",
   "execution_count": 42,
   "metadata": {},
   "outputs": [
    {
     "data": {
      "text/plain": [
       "(1.0, 2.0, 3.0, 4.0, 5.0, 6.0)"
      ]
     },
     "execution_count": 42,
     "metadata": {},
     "output_type": "execute_result"
    }
   ],
   "source": [
    "tuple(map(float,l))"
   ]
  },
  {
   "cell_type": "markdown",
   "metadata": {},
   "source": [
    "## Filter\n",
    "    * It works on boolen values\n",
    "    * used to check boolen values\n",
    "    * Filter is "
   ]
  },
  {
   "cell_type": "code",
   "execution_count": 57,
   "metadata": {},
   "outputs": [
    {
     "data": {
      "text/plain": [
       "[1, 2, 3, 'r', 's', 3]"
      ]
     },
     "execution_count": 57,
     "metadata": {},
     "output_type": "execute_result"
    }
   ],
   "source": [
    "li=[1,2,3,'r','s',3]\n",
    "\n",
    "def isDigit(c):\n",
    "    c=str(c)\n",
    "    if c.isdigit():\n",
    "        return -1  #m------> -1 gives True so all elements in a list get filtered and printed\n",
    "    return True\n",
    "isDigit(\"a\")\n",
    "list(filter(isDigit,li))"
   ]
  },
  {
   "cell_type": "code",
   "execution_count": 58,
   "metadata": {},
   "outputs": [
    {
     "data": {
      "text/plain": [
       "['r', 's']"
      ]
     },
     "execution_count": 58,
     "metadata": {},
     "output_type": "execute_result"
    }
   ],
   "source": [
    "li=[1,2,3,'r','s',3]\n",
    "\n",
    "def isDigit(c):\n",
    "    c=str(c)\n",
    "    if c.isdigit():\n",
    "        return 0  #---> get only char in a list bcoz it returns False if condision saticified\n",
    "    return True\n",
    "isDigit(\"a\")\n",
    "list(filter(isDigit,li))"
   ]
  },
  {
   "cell_type": "code",
   "execution_count": 59,
   "metadata": {},
   "outputs": [
    {
     "data": {
      "text/plain": [
       "[1, 2, 3, 3]"
      ]
     },
     "execution_count": 59,
     "metadata": {},
     "output_type": "execute_result"
    }
   ],
   "source": [
    "li=[1,2,3,'r','s',3]\n",
    "\n",
    "def isDigit(c):\n",
    "    c=str(c)\n",
    "    if c.isdigit():\n",
    "        return True  #-> get only digits bcoz if condition saticified \n",
    "    return 0\n",
    "isDigit(\"a\")\n",
    "list(filter(isDigit,li))"
   ]
  },
  {
   "cell_type": "code",
   "execution_count": 91,
   "metadata": {},
   "outputs": [
    {
     "name": "stdout",
     "output_type": "stream",
     "text": [
      "[503, 509, 521, 523, 541, 547, 557, 563, 569, 571, 577, 587, 593, 599]\n"
     ]
    }
   ],
   "source": [
    "# Identify all primes in a range\n",
    "def primenumber(n):\n",
    "    if n<2:\n",
    "        return False\n",
    "    for i in range(2,n//2+1):\n",
    "        if n%i==0:\n",
    "            return False\n",
    "    return True\n",
    "lb,ub=500, 600\n",
    "primelist=list(filter(primenumber,range(lb,ub)))\n",
    "print(primelist)"
   ]
  },
  {
   "cell_type": "code",
   "execution_count": 95,
   "metadata": {},
   "outputs": [
    {
     "name": "stdout",
     "output_type": "stream",
     "text": [
      "[503, 509, 521, 523, 541, 547, 557, 563, 569, 571, 577, 587, 593, 599]\n"
     ]
    }
   ],
   "source": [
    "primelist=[i for i in range (lb,ub+1) if primenumber(i)]\n",
    "print(primelist)"
   ]
  },
  {
   "cell_type": "code",
   "execution_count": 100,
   "metadata": {},
   "outputs": [
    {
     "data": {
      "text/plain": [
       "[1, 8, 27, 64, 125, 216]"
      ]
     },
     "execution_count": 100,
     "metadata": {},
     "output_type": "execute_result"
    }
   ],
   "source": [
    "# Map fails because it does't apply for checking conditions\n",
    "# we use these MAP functions only for a fixed mathametic operations not for functions\n",
    "\n",
    "numbers=[int(i) for i in l] #----> here list is fixed \n",
    "[cube(i) for i in numbers]  #----> cubes of  a given list "
   ]
  },
  {
   "cell_type": "markdown",
   "metadata": {},
   "source": [
    "# Lambda\n",
    "    * Anonymous Functions ( functions that don't have name)\n",
    "    * Can be embedded into iterables,list comprehension,Maps, Filters\n",
    "    * Using lambda we are doing both mathametical fixed operations and "
   ]
  },
  {
   "cell_type": "code",
   "execution_count": null,
   "metadata": {},
   "outputs": [],
   "source": []
  },
  {
   "cell_type": "code",
   "execution_count": 123,
   "metadata": {},
   "outputs": [
    {
     "data": {
      "text/plain": [
       "[1, 8, 27, 64, 125, 216]"
      ]
     },
     "execution_count": 123,
     "metadata": {},
     "output_type": "execute_result"
    }
   ],
   "source": [
    "a = lambda x: x%2\n",
    "list(map(lambda x:x ** 3,[1,2,3,4,5,6]))"
   ]
  },
  {
   "cell_type": "code",
   "execution_count": 126,
   "metadata": {},
   "outputs": [
    {
     "data": {
      "text/plain": [
       "[2, 4, 6]"
      ]
     },
     "execution_count": 126,
     "metadata": {},
     "output_type": "execute_result"
    }
   ],
   "source": [
    "list(filter(lambda x: (x%2==0),[1,2,3,4,5,6]))"
   ]
  },
  {
   "cell_type": "code",
   "execution_count": null,
   "metadata": {},
   "outputs": [],
   "source": [
    "list(filter(lambda x: (x%2==0),[1,2,3,4,5,6]))"
   ]
  },
  {
   "cell_type": "code",
   "execution_count": 134,
   "metadata": {},
   "outputs": [
    {
     "data": {
      "text/plain": [
       "[4.0]"
      ]
     },
     "execution_count": 134,
     "metadata": {},
     "output_type": "execute_result"
    }
   ],
   "source": [
    "from random import randint\n",
    "internal1 =[randint(0,25) for i in range(10)]\n",
    "internal2 =[randint(0,25) for i in range(10)]\n",
    "internal3=[randint(0,25) for i in range(10)]\n",
    "averageinternal= list(map(lambda x,y,z: (x+y+z)/3, internal1,internal2,internal3) )\n",
    "averageinternal\n",
    "failedmarks=list(filter(lambda f:f<10,averageinternal))\n",
    "failedmarks\n",
    "f=list(filter(lambda f:f<10,list(map(lambda x,y,z: (x+y+z)/3, internal1,internal2,internal3) ))) \n",
    "f"
   ]
  },
  {
   "cell_type": "markdown",
   "metadata": {},
   "source": [
    "## Applying functional programming to the marks analysis Application\n"
   ]
  },
  {
   "cell_type": "code",
   "execution_count": 136,
   "metadata": {},
   "outputs": [],
   "source": [
    "# Generate Marks data\n",
    "from random import randint\n",
    "def generatemarks(n,lb,ub):\n",
    "    filename='Files/marksList.txt'\n",
    "    with open (filename,'w') as f:\n",
    "        for i in range(n):\n",
    "            marks = randint(lb,ub)\n",
    "            f.write(str(marks)+\"\\n\")\n",
    "    return \n",
    "generatemarks(10,1,100)"
   ]
  },
  {
   "cell_type": "raw",
   "metadata": {},
   "source": [
    "# Marks Analysis\n",
    "# Class average , % of passed, Failed and  Dis\n",
    "\n",
    "import re\n",
    "def classAverage(fipath):\n",
    "    with open(fipath,'r') as f:\n",
    "        fidata=f.read()\n",
    "        marklist = re.split('\\n',fidata)\n",
    "        marklist=list(map(int,marklist))\n",
    "        sum(marklist)//len(marklist)\n",
    "fipath='Files/marksList.txt'\n",
    "classAverage(fipath)"
   ]
  },
  {
   "cell_type": "markdown",
   "metadata": {},
   "source": [
    "## Data Encryption\n",
    "\n",
    "    key - Mapping of charc with  "
   ]
  }
 ],
 "metadata": {
  "kernelspec": {
   "display_name": "Python 3",
   "language": "python",
   "name": "python3"
  },
  "language_info": {
   "codemirror_mode": {
    "name": "ipython",
    "version": 3
   },
   "file_extension": ".py",
   "mimetype": "text/x-python",
   "name": "python",
   "nbconvert_exporter": "python",
   "pygments_lexer": "ipython3",
   "version": "3.7.3"
  }
 },
 "nbformat": 4,
 "nbformat_minor": 2
}
