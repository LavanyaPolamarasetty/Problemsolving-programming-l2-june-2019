{
 "cells": [
  {
   "cell_type": "code",
   "execution_count": 2,
   "metadata": {},
   "outputs": [],
   "source": [
    "def filesss(datapath):\n",
    "    with open(datapath,\"w\") as f:\n",
    "        f.write(\"lavanya is very girl\")\n",
    "datapath=\"Files/practice.txt\"\n",
    "filesss(datapath)"
   ]
  },
  {
   "cell_type": "code",
   "execution_count": 10,
   "metadata": {},
   "outputs": [
    {
     "name": "stdout",
     "output_type": "stream",
     "text": [
      "38\n"
     ]
    }
   ],
   "source": [
    "def charcount(datapath):\n",
    "    c=0\n",
    "    with open(datapath,\"r\") as f:\n",
    "        fh=f.read()\n",
    "        for line in fh:\n",
    "            for i in line:\n",
    "                if i.isalpha():\n",
    "                    c+=1\n",
    "        print(c)\n",
    "                \n",
    "charcount(datapath)"
   ]
  },
  {
   "cell_type": "code",
   "execution_count": 17,
   "metadata": {},
   "outputs": [
    {
     "name": "stdout",
     "output_type": "stream",
     "text": [
      "50\n"
     ]
    }
   ],
   "source": [
    "def wordcount(datapath):\n",
    "    c=0\n",
    "    with open(datapath,\"r\") as f:\n",
    "        fh=f.read()\n",
    "        for line in fh:\n",
    "            for i in line.split(sep=\" \"):\n",
    "                c+=1\n",
    "         \n",
    "        print(c)\n",
    "                \n",
    "wordcount(datapath)"
   ]
  },
  {
   "cell_type": "code",
   "execution_count": 19,
   "metadata": {},
   "outputs": [
    {
     "name": "stdout",
     "output_type": "stream",
     "text": [
      "4\n"
     ]
    }
   ],
   "source": [
    "# function to count word\n",
    "def countword(fname):\n",
    "    c=0\n",
    "    f=open(fname,'r')\n",
    "    for line in f:\n",
    "            c+=1\n",
    "    print(c)\n",
    "            \n",
    "fname='Files/data.txt'\n",
    "countword(fname)"
   ]
  },
  {
   "cell_type": "code",
   "execution_count": 20,
   "metadata": {},
   "outputs": [
    {
     "name": "stdout",
     "output_type": "stream",
     "text": [
      "11\n"
     ]
    }
   ],
   "source": [
    "# function to count word\n",
    "def countword(fname):\n",
    "    c=0\n",
    "    f=open(fname,'r+')\n",
    "    for line in f:\n",
    "        for i in line.split(sep=\" \"):\n",
    "            #print(i)\n",
    "            c+=1\n",
    "    print(c)\n",
    "            \n",
    "fname='Files/data.txt'\n",
    "countword(fname)"
   ]
  },
  {
   "cell_type": "code",
   "execution_count": 24,
   "metadata": {},
   "outputs": [
    {
     "name": "stdout",
     "output_type": "stream",
     "text": [
      "ads\n",
      "asr\n",
      "[1, 0, 0, 1, 0, 0, 0, 0, 0, 0, 0, 0, 0, 0, 0, 0, 0, 0, 1, 0, 0, 0, 0, 0, 0, 0]\n",
      "[1, 0, 0, 0, 0, 0, 0, 0, 0, 0, 0, 0, 0, 0, 0, 0, 0, 1, 1, 0, 0, 0, 0, 0, 0, 0]\n",
      "2\n"
     ]
    }
   ],
   "source": [
    "a=input()#aedz\n",
    "b=input()\n",
    "a1=[0]*26\n",
    "b1=[0]*26\n",
    "res=0\n",
    "for element in a:\n",
    "    a1[ord(element)-97]+=1\n",
    "for element in b:\n",
    "    b1[ord(element)-97]+=1\n",
    "for i in range(26):\n",
    "    res=res+abs(a1[i]-b1[i])\n",
    "print(a1)\n",
    "print(b1)\n",
    "print(res)\n",
    "    "
   ]
  },
  {
   "cell_type": "code",
   "execution_count": 23,
   "metadata": {},
   "outputs": [
    {
     "data": {
      "text/plain": [
       "[0, 0, 0, 0, 0, 0, 0, 0, 0, 0, 0, 0, 0, 0, 0, 0, 0, 0, 0, 0, 0, 0, 0, 0, 0, 0]"
      ]
     },
     "execution_count": 23,
     "metadata": {},
     "output_type": "execute_result"
    }
   ],
   "source": [
    "a1=[0]*26\n",
    "a1"
   ]
  },
  {
   "cell_type": "code",
   "execution_count": 35,
   "metadata": {},
   "outputs": [
    {
     "name": "stdout",
     "output_type": "stream",
     "text": [
      "asd\n",
      "sed\n",
      "[1, 0, 0, 1, 0, 0, 0, 0, 0, 0, 0, 0, 0, 0, 0, 0, 0, 0, 1, 0, 0, 0, 0, 0, 0, 0]\n",
      "[0, 0, 0, 1, 1, 0, 0, 0, 0, 0, 0, 0, 0, 0, 0, 0, 0, 0, 1, 0, 0, 0, 0, 0, 0, 0]\n",
      "2\n"
     ]
    }
   ],
   "source": [
    "a=input()\n",
    "b=input()\n",
    "a1=[0]*26\n",
    "b1=[0]*26\n",
    "res=0\n",
    "for ele in a:\n",
    "    a1[ord(ele)-97]+=1    \n",
    "for ele in b:\n",
    "    b1[ord(ele)-97]+=1\n",
    "for i in range(26):\n",
    "    res+=abs(a1[i]-b1[i])\n",
    "print(a1)\n",
    "print(b1)\n",
    "print(res)"
   ]
  },
  {
   "cell_type": "code",
   "execution_count": 37,
   "metadata": {},
   "outputs": [
    {
     "data": {
      "text/plain": [
       "{'dsf': 32, 'sdhgf': 435}"
      ]
     },
     "execution_count": 37,
     "metadata": {},
     "output_type": "execute_result"
    }
   ],
   "source": [
    "d=dict([(\"dsf\", 32), (\"sdhgf\",435)])\n",
    "d"
   ]
  },
  {
   "cell_type": "code",
   "execution_count": 66,
   "metadata": {},
   "outputs": [
    {
     "name": "stdout",
     "output_type": "stream",
     "text": [
      "[0, 1, 2, 3, 4, 5, 6, 7, 8, 9]\n",
      "t\n"
     ]
    }
   ],
   "source": [
    "l=[0,1,2,3,4,5,6,7,8,9]\n",
    "print(l)\n",
    "l1=[1,2,3,4,5,6,7,4,2,5,6,8,6,5,0,9]\n",
    "sorted(set(l1))\n",
    "if l==sorted(set(l1)):\n",
    "    print(\"t\")\n",
    "else:\n",
    "    print(\"f\")\n",
    "\n"
   ]
  },
  {
   "cell_type": "code",
   "execution_count": 54,
   "metadata": {},
   "outputs": [],
   "source": [
    "if \"s\" in \"00000987654321\":\n",
    "    print(\"t\")"
   ]
  },
  {
   "cell_type": "code",
   "execution_count": 63,
   "metadata": {},
   "outputs": [
    {
     "data": {
      "text/plain": [
       "{0, 1, 2, 3, 4, 5, 6}"
      ]
     },
     "execution_count": 63,
     "metadata": {},
     "output_type": "execute_result"
    }
   ],
   "source": [
    "s=set()\n",
    "s={1,2,3,4,5,6,2,2,3,4}\n",
    "s.add(0)\n",
    "s"
   ]
  },
  {
   "cell_type": "code",
   "execution_count": null,
   "metadata": {},
   "outputs": [],
   "source": [
    "l=[1,]"
   ]
  },
  {
   "cell_type": "code",
   "execution_count": 68,
   "metadata": {},
   "outputs": [
    {
     "ename": "SyntaxError",
     "evalue": "invalid syntax (<ipython-input-68-a799d2f079a4>, line 5)",
     "output_type": "error",
     "traceback": [
      "\u001b[1;36m  File \u001b[1;32m\"<ipython-input-68-a799d2f079a4>\"\u001b[1;36m, line \u001b[1;32m5\u001b[0m\n\u001b[1;33m    if s[i+1] not s[i+1].isdigit():\u001b[0m\n\u001b[1;37m                  ^\u001b[0m\n\u001b[1;31mSyntaxError\u001b[0m\u001b[1;31m:\u001b[0m invalid syntax\n"
     ]
    }
   ],
   "source": [
    "s=input()\n",
    "s1=''\n",
    "for i in range(len(s)):\n",
    "    if s[i].isdigit():\n",
    "        if s[i+1].isdigit():\n",
    "            continue\n",
    "    else:\n",
    "        s1+=i\n",
    "print(s1)"
   ]
  },
  {
   "cell_type": "code",
   "execution_count": null,
   "metadata": {},
   "outputs": [],
   "source": []
  }
 ],
 "metadata": {
  "kernelspec": {
   "display_name": "Python 3",
   "language": "python",
   "name": "python3"
  },
  "language_info": {
   "codemirror_mode": {
    "name": "ipython",
    "version": 3
   },
   "file_extension": ".py",
   "mimetype": "text/x-python",
   "name": "python",
   "nbconvert_exporter": "python",
   "pygments_lexer": "ipython3",
   "version": "3.7.3"
  }
 },
 "nbformat": 4,
 "nbformat_minor": 2
}
