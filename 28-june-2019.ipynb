{
 "cells": [
  {
   "cell_type": "markdown",
   "metadata": {},
   "source": [
    "# Day Objectives:\n",
    "    * map\n",
    "    * Lambda\n",
    "    * Filter\n",
    "    * Use "
   ]
  },
  {
   "cell_type": "markdown",
   "metadata": {},
   "source": [
    "### MAP\n",
    "     Mapping - Entity with function\n",
    "     f : x^2 \n",
    "     [1,10]\n",
    "     f(x)  --> \n",
    "     f(1)-->13\n",
    "     f(2)-->25\n",
    "     .\n",
    "     .\n",
    "     .\n",
    "     .\n",
    "     .\n",
    "     y= f(x)\n",
    "     \n",
    "     \n",
    "     map(function, Iterable)"
   ]
  },
  {
   "cell_type": "code",
   "execution_count": 18,
   "metadata": {},
   "outputs": [
    {
     "data": {
      "text/plain": [
       "7"
      ]
     },
     "execution_count": 18,
     "metadata": {},
     "output_type": "execute_result"
    }
   ],
   "source": [
    "5^2"
   ]
  },
  {
   "cell_type": "code",
   "execution_count": 23,
   "metadata": {},
   "outputs": [
    {
     "data": {
      "text/plain": [
       "8"
      ]
     },
     "execution_count": 23,
     "metadata": {},
     "output_type": "execute_result"
    }
   ],
   "source": [
    "def powerN(a,n):\n",
    "    #return a**n\n",
    "    r=1\n",
    "    for i in range(n):\n",
    "        r *= a\n",
    "    return r\n",
    "powerN(2,0) \n",
    "powerN(2,10)\n",
    "\n",
    "def recursivePowerN(a,n):\n",
    "    if n==0:\n",
    "        return 1\n",
    "    else:\n",
    "        return a*recursivePowerN(a,n-1)\n",
    "    return\n",
    "recursivePowerN(2,0)\n",
    "recursivePowerN(2,3)"
   ]
  },
  {
   "cell_type": "code",
   "execution_count": 35,
   "metadata": {},
   "outputs": [
    {
     "name": "stdout",
     "output_type": "stream",
     "text": [
      "{64, 1, 8, 216, 27, 125}\n"
     ]
    }
   ],
   "source": [
    "def cube(n):  #-------->Passing function as a parameter\n",
    "    return n**3 \n",
    "l=[1,2,3,4,5,6]\n",
    "print(set(map(cube,l))) #--------> give only a set of values ,dont give int, int is not iterable"
   ]
  },
  {
   "cell_type": "code",
   "execution_count": 36,
   "metadata": {},
   "outputs": [
    {
     "data": {
      "text/plain": [
       "[1, 2, 3, 4, 5, 6]"
      ]
     },
     "execution_count": 36,
     "metadata": {},
     "output_type": "execute_result"
    }
   ],
   "source": [
    "list(map(int,['1','2','3','4','5','6'])) #----> it converts  str in integers"
   ]
  },
  {
   "cell_type": "code",
   "execution_count": 38,
   "metadata": {},
   "outputs": [
    {
     "data": {
      "text/plain": [
       "['1', '2', '3', '4', '5', '6']"
      ]
     },
     "execution_count": 38,
     "metadata": {},
     "output_type": "execute_result"
    }
   ],
   "source": [
    "list(map(str,[1,2,3,4,5,6])) #------> it converts integers into str"
   ]
  },
  {
   "cell_type": "code",
   "execution_count": 41,
   "metadata": {},
   "outputs": [
    {
     "data": {
      "text/plain": [
       "[1.0, 2.0, 3.0, 4.0, 5.0, 6.0]"
      ]
     },
     "execution_count": 41,
     "metadata": {},
     "output_type": "execute_result"
    }
   ],
   "source": [
    "list(map(float,l)) "
   ]
  },
  {
   "cell_type": "code",
   "execution_count": 42,
   "metadata": {},
   "outputs": [
    {
     "data": {
      "text/plain": [
       "(1.0, 2.0, 3.0, 4.0, 5.0, 6.0)"
      ]
     },
     "execution_count": 42,
     "metadata": {},
     "output_type": "execute_result"
    }
   ],
   "source": [
    "tuple(map(float,l))"
   ]
  },
  {
   "cell_type": "markdown",
   "metadata": {},
   "source": [
    "## Filter\n",
    "    * It works on boolen values\n",
    "    * used to check boolen values\n",
    "    * Filter is "
   ]
  },
  {
   "cell_type": "code",
   "execution_count": 57,
   "metadata": {},
   "outputs": [
    {
     "data": {
      "text/plain": [
       "[1, 2, 3, 'r', 's', 3]"
      ]
     },
     "execution_count": 57,
     "metadata": {},
     "output_type": "execute_result"
    }
   ],
   "source": [
    "li=[1,2,3,'r','s',3]\n",
    "\n",
    "def isDigit(c):\n",
    "    c=str(c)\n",
    "    if c.isdigit():\n",
    "        return -1  #m------> -1 gives True so all elements in a list get filtered and printed\n",
    "    return True\n",
    "isDigit(\"a\")\n",
    "list(filter(isDigit,li))"
   ]
  },
  {
   "cell_type": "code",
   "execution_count": 58,
   "metadata": {},
   "outputs": [
    {
     "data": {
      "text/plain": [
       "['r', 's']"
      ]
     },
     "execution_count": 58,
     "metadata": {},
     "output_type": "execute_result"
    }
   ],
   "source": [
    "li=[1,2,3,'r','s',3]\n",
    "\n",
    "def isDigit(c):\n",
    "    c=str(c)\n",
    "    if c.isdigit():\n",
    "        return 0  #---> get only char in a list bcoz it returns False if condision saticified\n",
    "    return True\n",
    "isDigit(\"a\")\n",
    "list(filter(isDigit,li))"
   ]
  },
  {
   "cell_type": "code",
   "execution_count": 59,
   "metadata": {},
   "outputs": [
    {
     "data": {
      "text/plain": [
       "[1, 2, 3, 3]"
      ]
     },
     "execution_count": 59,
     "metadata": {},
     "output_type": "execute_result"
    }
   ],
   "source": [
    "li=[1,2,3,'r','s',3]\n",
    "\n",
    "def isDigit(c):\n",
    "    c=str(c)\n",
    "    if c.isdigit():\n",
    "        return True  #-> get only digits bcoz if condition saticified \n",
    "    return 0\n",
    "isDigit(\"a\")\n",
    "list(filter(isDigit,li))"
   ]
  },
  {
   "cell_type": "code",
   "execution_count": 91,
   "metadata": {},
   "outputs": [
    {
     "name": "stdout",
     "output_type": "stream",
     "text": [
      "[503, 509, 521, 523, 541, 547, 557, 563, 569, 571, 577, 587, 593, 599]\n"
     ]
    }
   ],
   "source": [
    "# Identify all primes in a range\n",
    "def primenumber(n):\n",
    "    if n<2:\n",
    "        return False\n",
    "    for i in range(2,n//2+1):\n",
    "        if n%i==0:\n",
    "            return False\n",
    "    return True\n",
    "lb,ub=500, 600\n",
    "primelist=list(filter(primenumber,range(lb,ub)))\n",
    "print(primelist)"
   ]
  },
  {
   "cell_type": "code",
   "execution_count": 95,
   "metadata": {},
   "outputs": [
    {
     "name": "stdout",
     "output_type": "stream",
     "text": [
      "[503, 509, 521, 523, 541, 547, 557, 563, 569, 571, 577, 587, 593, 599]\n"
     ]
    }
   ],
   "source": [
    "primelist=[i for i in range (lb,ub+1) if primenumber(i)]\n",
    "print(primelist)"
   ]
  },
  {
   "cell_type": "code",
   "execution_count": 100,
   "metadata": {},
   "outputs": [
    {
     "data": {
      "text/plain": [
       "[1, 8, 27, 64, 125, 216]"
      ]
     },
     "execution_count": 100,
     "metadata": {},
     "output_type": "execute_result"
    }
   ],
   "source": [
    "# Map fails because it does't apply for checking conditions\n",
    "# we use these MAP functions only for a fixed mathametic operations not for functions\n",
    "\n",
    "numbers=[int(i) for i in l] #----> here list is fixed \n",
    "[cube(i) for i in numbers]  #----> cubes of  a given list "
   ]
  },
  {
   "cell_type": "markdown",
   "metadata": {},
   "source": [
    "# Lambda\n",
    "    * Anonymous Functions ( functions that don't have name)\n",
    "    * Can be embedded into iterables,list comprehension,Maps, Filters\n",
    "    * Using lambda we are doing both mathametical fixed operations and "
   ]
  },
  {
   "cell_type": "code",
   "execution_count": null,
   "metadata": {},
   "outputs": [],
   "source": []
  },
  {
   "cell_type": "code",
   "execution_count": 123,
   "metadata": {},
   "outputs": [
    {
     "data": {
      "text/plain": [
       "[1, 8, 27, 64, 125, 216]"
      ]
     },
     "execution_count": 123,
     "metadata": {},
     "output_type": "execute_result"
    }
   ],
   "source": [
    "a = lambda x: x%2\n",
    "list(map(lambda x:x ** 3,[1,2,3,4,5,6]))"
   ]
  },
  {
   "cell_type": "code",
   "execution_count": 126,
   "metadata": {},
   "outputs": [
    {
     "data": {
      "text/plain": [
       "[2, 4, 6]"
      ]
     },
     "execution_count": 126,
     "metadata": {},
     "output_type": "execute_result"
    }
   ],
   "source": [
    "list(filter(lambda x: (x%2==0),[1,2,3,4,5,6]))"
   ]
  },
  {
   "cell_type": "code",
   "execution_count": null,
   "metadata": {},
   "outputs": [],
   "source": [
    "list(filter(lambda x: (x%2==0),[1,2,3,4,5,6]))"
   ]
  },
  {
   "cell_type": "code",
   "execution_count": 134,
   "metadata": {},
   "outputs": [
    {
     "data": {
      "text/plain": [
       "[4.0]"
      ]
     },
     "execution_count": 134,
     "metadata": {},
     "output_type": "execute_result"
    }
   ],
   "source": [
    "from random import randint\n",
    "internal1 =[randint(0,25) for i in range(10)]\n",
    "internal2 =[randint(0,25) for i in range(10)]\n",
    "internal3=[randint(0,25) for i in range(10)]\n",
    "averageinternal= list(map(lambda x,y,z: (x+y+z)/3, internal1,internal2,internal3) )\n",
    "averageinternal\n",
    "failedmarks=list(filter(lambda f:f<10,averageinternal))\n",
    "failedmarks\n",
    "f=list(filter(lambda f:f<10,list(map(lambda x,y,z: (x+y+z)/3, internal1,internal2,internal3) ))) \n",
    "f"
   ]
  },
  {
   "cell_type": "markdown",
   "metadata": {},
   "source": [
    "## Applying functional programming to the marks analysis Application\n"
   ]
  },
  {
   "cell_type": "code",
   "execution_count": 136,
   "metadata": {},
   "outputs": [],
   "source": [
    "# Generate Marks data\n",
    "from random import randint\n",
    "def generatemarks(n,lb,ub):\n",
    "    filename='Files/marksList.txt'\n",
    "    with open (filename,'w') as f:\n",
    "        for i in range(n):\n",
    "            marks = randint(lb,ub)\n",
    "            f.write(str(marks)+\"\\n\")\n",
    "    return \n",
    "generatemarks(10,1,100)"
   ]
  },
  {
   "cell_type": "code",
   "execution_count": 22,
   "metadata": {},
   "outputs": [
    {
     "name": "stdout",
     "output_type": "stream",
     "text": [
      "1.Passed Percentage\n",
      "2.Failed Percentage\n",
      "3.Distinction\n",
      "4.Class Average\n",
      "5.Highest Frequency\n",
      "6.Lowest Frequency\n",
      "1\n",
      "0.0\n",
      "1.Passed Percentage\n",
      "2.Failed Percentage\n",
      "3.Distinction\n",
      "4.Class Average\n",
      "5.Highest Frequency\n",
      "6.Lowest Frequency\n",
      "2\n",
      "100.0\n",
      "1.Passed Percentage\n",
      "2.Failed Percentage\n",
      "3.Distinction\n",
      "4.Class Average\n",
      "5.Highest Frequency\n",
      "6.Lowest Frequency\n",
      "0\n"
     ]
    },
    {
     "data": {
      "text/plain": [
       "100.0"
      ]
     },
     "execution_count": 22,
     "metadata": {},
     "output_type": "execute_result"
    }
   ],
   "source": [
    "# Marks Analysis\n",
    "# Class average , % of passed, Failed and  Dis\n",
    "\n",
    "# Marks analysis class average,%passed and %failed and distinction,frequency of highest and lowest mark\n",
    "import re\n",
    "filepath='Files/marksList.txt'\n",
    "def readmarkslist(filepath):\n",
    "    with open(filepath,'r')as f:\n",
    "        filedata=f.read().split()\n",
    "    return list(map(int,filedata))\n",
    "\n",
    "def classaverage(filepath):\n",
    "    with open(filepath,'r')as f:\n",
    "        #filedata=f.read().split()\n",
    "        #markslist=re.split('\\n',filedata)\n",
    "        #filedata=list(map(int,filedata))\n",
    "        #average=sum(filedata)/len(filedata)\n",
    "        markslist=readmarkslist(filepath)\n",
    "    return sum(markslist)//len(markslist)\n",
    "\n",
    "\n",
    "\n",
    "def percentagefailed(filepath):\n",
    "    marklist=readmarkslist(filepath)\n",
    "    failedcount=len(list(filter(lambda marks: marks < 40,marklist)))\n",
    "    return (failedcount/len(marklist))*100\n",
    "\n",
    "def percentagepassed(filepath):\n",
    "    marklist=readmarkslist(filepath)\n",
    "    passedcount=len(list(filter(lambda marks:marks>40,marklist)))\n",
    "    return (passedcount/len(marklist))*100\n",
    "\n",
    "def distinction(filepath):\n",
    "    marklist=readmarkslist(filepath)\n",
    "    Distinction=len(list(filter(lambda marks:marks>70,marklist)))\n",
    "    return (Distinction/len(marklist))*100\n",
    "\n",
    "def highestfrequency(filepath):\n",
    "    marklist=readmarkslist(filepath)\n",
    "    m=max(marklist)\n",
    "    return marklist.count(m)\n",
    "\n",
    "\n",
    "def lowestfrequency(filepath):\n",
    "    marklist=readmarkslist(filepath)\n",
    "    m=min(marklist)\n",
    "    return marklist.count(m)\n",
    "\n",
    "\n",
    "while True:\n",
    "    print(\"1.Passed Percentage\\n2.Failed Percentage\\n3.Distinction\\n4.Class Average\\n5.Highest Frequency\\n6.Lowest Frequency\")\n",
    "    choice=int(input())\n",
    "    \n",
    "    if choice==1:\n",
    "        print(percentagepassed(filepath))\n",
    "    \n",
    "    elif choice==2:\n",
    "        print(percentagefailed(filepath))\n",
    "        \n",
    "    elif choice==3:\n",
    "        print(distinction(filepath))\n",
    "        \n",
    "    elif choice==4:\n",
    "        print(classaverage(filepath))\n",
    "    \n",
    "    elif choice==5:\n",
    "        print(highestfrequency(filepath))\n",
    "     \n",
    "    elif choice==6:\n",
    "        print(lowestfrequency(filepath))\n",
    "        \n",
    "    else:\n",
    "        break\n",
    "percentagefailed(filepath)\n"
   ]
  },
  {
   "cell_type": "markdown",
   "metadata": {},
   "source": [
    "## Data Encryption\n",
    "\n",
    "    key - Mapping of charcters with  replaced \n",
    "    \n",
    "       0 -> 4\n",
    "       1 -> 5\n",
    "       2 -> 6\n",
    "       3 -> 7\n",
    "       4 -> 8\n",
    "       5 -> 9\n",
    "       6 -> 0\n",
    "       7 -> 1\n",
    "       8 -> 2\n",
    "       9 -> 3"
   ]
  },
  {
   "cell_type": "code",
   "execution_count": 149,
   "metadata": {},
   "outputs": [],
   "source": [
    "# function to generate key for encryption\n",
    "\n",
    "keypath='Files/marksList.txt'\n",
    "def genkey(keypath):\n",
    "    with open(keypath,'w')as f:\n",
    "        for i in range(10):\n",
    "            if i<6:\n",
    "                f.write(str(i)+' '+str(i+4)+'\\n')\n",
    "            else:\n",
    "                f.write(str(i)+' '+str(i+6)+'\\n')\n",
    "    return\n",
    "genkey(keypath)"
   ]
  },
  {
   "cell_type": "code",
   "execution_count": 32,
   "metadata": {},
   "outputs": [
    {
     "data": {
      "text/plain": [
       "{'0': '4',\n",
       " '1': '5',\n",
       " '2': '6',\n",
       " '3': '7',\n",
       " '4': '8',\n",
       " '5': '9',\n",
       " '6': '12',\n",
       " '7': '13',\n",
       " '8': '14',\n",
       " '9': '15'}"
      ]
     },
     "execution_count": 32,
     "metadata": {},
     "output_type": "execute_result"
    }
   ],
   "source": [
    "def dictionaryfile(keyfile):\n",
    "    key={}\n",
    "    with open(keyfile,'r') as f:\n",
    "        for line in f:\n",
    "            line=line.split()\n",
    "            key[line[0]]=line[1]\n",
    "    return key\n",
    "keyfile=\"Files/marksList.txt\"\n",
    "dictionaryfile(keyfile)   "
   ]
  },
  {
   "cell_type": "code",
   "execution_count": 31,
   "metadata": {},
   "outputs": [],
   "source": [
    "# function to encrypt a data file \n",
    "\n",
    "def dictionaryfile(keyfile):\n",
    "    key={}\n",
    "    with open(keyfile,'r') as f:\n",
    "        for line in f:\n",
    "            line=line.split()\n",
    "            key[line[0]]=line[1]\n",
    "    return key\n",
    "keyfile=\"Files/marksList.txt\"\n",
    "dictionaryfile(keyfile)        \n",
    "\n",
    "def encryptmarksdata(datafile,keyfile):\n",
    "    # construct a dictonary for key data\n",
    "        key= dictionaryfile(keyfile)\n",
    "        with open(datafile,'r') as f:\n",
    "            filedata = f.read().split('\\n')\n",
    "        with open('Files/encryptedMarks.txt','w') as f:\n",
    "            for mark in filedata:\n",
    "                line=''\n",
    "                for n in mark:\n",
    "                    line+=key[n]\n",
    "                f.write(line+'\\n')\n",
    "        return\n",
    "datafile='Files/marks.txt'\n",
    "encryptmarksdata(datafile,keyfile)\n",
    "    \n",
    "    "
   ]
  },
  {
   "cell_type": "code",
   "execution_count": null,
   "metadata": {},
   "outputs": [],
   "source": []
  },
  {
   "cell_type": "code",
   "execution_count": 19,
   "metadata": {},
   "outputs": [
    {
     "name": "stdout",
     "output_type": "stream",
     "text": [
      "100 25 50 108\n"
     ]
    },
    {
     "data": {
      "text/plain": [
       "8"
      ]
     },
     "execution_count": 19,
     "metadata": {},
     "output_type": "execute_result"
    }
   ],
   "source": [
    "i=list(map(int,input().split()))\n",
    "s=[]\n",
    "for k in range(0,len(i)):\n",
    "    s.append(abs(i[k]-i[k-1]))\n",
    "min(s)"
   ]
  },
  {
   "cell_type": "code",
   "execution_count": 41,
   "metadata": {},
   "outputs": [
    {
     "ename": "ValueError",
     "evalue": "list.remove(x): x not in list",
     "output_type": "error",
     "traceback": [
      "\u001b[1;31m---------------------------------------------------------------------------\u001b[0m",
      "\u001b[1;31mValueError\u001b[0m                                Traceback (most recent call last)",
      "\u001b[1;32m<ipython-input-41-ae49a49cc7ed>\u001b[0m in \u001b[0;36m<module>\u001b[1;34m\u001b[0m\n\u001b[0;32m      2\u001b[0m \u001b[0ms\u001b[0m\u001b[1;33m=\u001b[0m\u001b[1;33m[\u001b[0m\u001b[1;33m]\u001b[0m\u001b[1;33m\u001b[0m\u001b[1;33m\u001b[0m\u001b[0m\n\u001b[0;32m      3\u001b[0m \u001b[1;32mfor\u001b[0m \u001b[0mi\u001b[0m \u001b[1;32min\u001b[0m \u001b[0mrange\u001b[0m\u001b[1;33m(\u001b[0m\u001b[0mlen\u001b[0m\u001b[1;33m(\u001b[0m\u001b[0ml\u001b[0m\u001b[1;33m)\u001b[0m\u001b[1;33m)\u001b[0m\u001b[1;33m:\u001b[0m\u001b[1;33m\u001b[0m\u001b[1;33m\u001b[0m\u001b[0m\n\u001b[1;32m----> 4\u001b[1;33m     \u001b[0ms\u001b[0m\u001b[1;33m.\u001b[0m\u001b[0mappend\u001b[0m\u001b[1;33m(\u001b[0m\u001b[0ml\u001b[0m\u001b[1;33m.\u001b[0m\u001b[0mremove\u001b[0m\u001b[1;33m(\u001b[0m\u001b[0mi\u001b[0m\u001b[1;33m)\u001b[0m\u001b[1;33m)\u001b[0m\u001b[1;33m\u001b[0m\u001b[1;33m\u001b[0m\u001b[0m\n\u001b[0m\u001b[0;32m      5\u001b[0m \u001b[0ms\u001b[0m\u001b[1;33m\u001b[0m\u001b[1;33m\u001b[0m\u001b[0m\n",
      "\u001b[1;31mValueError\u001b[0m: list.remove(x): x not in list"
     ]
    }
   ],
   "source": [
    "l=[1,2,3,4,5]\n",
    "s=[]\n",
    "for i in range(len(l)):\n",
    "    s.append(l.remove(i))\n",
    "s"
   ]
  },
  {
   "cell_type": "code",
   "execution_count": 42,
   "metadata": {},
   "outputs": [
    {
     "data": {
      "text/plain": [
       "['__add__',\n",
       " '__class__',\n",
       " '__contains__',\n",
       " '__delattr__',\n",
       " '__delitem__',\n",
       " '__dir__',\n",
       " '__doc__',\n",
       " '__eq__',\n",
       " '__format__',\n",
       " '__ge__',\n",
       " '__getattribute__',\n",
       " '__getitem__',\n",
       " '__gt__',\n",
       " '__hash__',\n",
       " '__iadd__',\n",
       " '__imul__',\n",
       " '__init__',\n",
       " '__init_subclass__',\n",
       " '__iter__',\n",
       " '__le__',\n",
       " '__len__',\n",
       " '__lt__',\n",
       " '__mul__',\n",
       " '__ne__',\n",
       " '__new__',\n",
       " '__reduce__',\n",
       " '__reduce_ex__',\n",
       " '__repr__',\n",
       " '__reversed__',\n",
       " '__rmul__',\n",
       " '__setattr__',\n",
       " '__setitem__',\n",
       " '__sizeof__',\n",
       " '__str__',\n",
       " '__subclasshook__',\n",
       " 'append',\n",
       " 'clear',\n",
       " 'copy',\n",
       " 'count',\n",
       " 'extend',\n",
       " 'index',\n",
       " 'insert',\n",
       " 'pop',\n",
       " 'remove',\n",
       " 'reverse',\n",
       " 'sort']"
      ]
     },
     "execution_count": 42,
     "metadata": {},
     "output_type": "execute_result"
    }
   ],
   "source": [
    "dir([])"
   ]
  },
  {
   "cell_type": "code",
   "execution_count": 15,
   "metadata": {},
   "outputs": [
    {
     "name": "stdout",
     "output_type": "stream",
     "text": [
      "dnfh$kv&^nk\n"
     ]
    }
   ],
   "source": [
    "s='dnfh#$kv&^nk'\n",
    "t=''\n",
    "for i in s:\n",
    "   # if i!='$' or i!='#':\n",
    "        if i.isalpha() or i!=\"#\"  :\n",
    "            t+=i\n",
    "print(t)\n",
    "    "
   ]
  },
  {
   "cell_type": "code",
   "execution_count": null,
   "metadata": {},
   "outputs": [],
   "source": []
  }
 ],
 "metadata": {
  "kernelspec": {
   "display_name": "Python 3",
   "language": "python",
   "name": "python3"
  },
  "language_info": {
   "codemirror_mode": {
    "name": "ipython",
    "version": 3
   },
   "file_extension": ".py",
   "mimetype": "text/x-python",
   "name": "python",
   "nbconvert_exporter": "python",
   "pygments_lexer": "ipython3",
   "version": "3.7.3"
  }
 },
 "nbformat": 4,
 "nbformat_minor": 2
}
