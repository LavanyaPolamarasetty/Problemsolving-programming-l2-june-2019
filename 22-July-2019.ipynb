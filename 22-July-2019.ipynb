{
 "cells": [
  {
   "cell_type": "markdown",
   "metadata": {},
   "source": [
    "# Magical Tree\n",
    "\n",
    "The little Monk loves to play with strings. One day he was going to a forest. On the way to the forest he saw a Big Tree(The magical tree of the forest). The magic of the tree was that, every leaf of the tree was in the format of string(having some value). Monk wants to have these type of leaves. But he can take only one. Help Monk to choose the most valuable leaf.\n",
    "<Img src=\"magic.jpg\" width=\"150\" height=\"150\" ALIGN=”right” />\n",
    "Format of the leaf:\n",
    "\n",
    "a+b+c-d+c+d-x-y+x........, i.e. it contains a string holding a mathematical expression, and the value of that expression will be value of that particular leaf."
   ]
  },
  {
   "cell_type": "code",
   "execution_count": 1,
   "metadata": {},
   "outputs": [
    {
     "name": "stdout",
     "output_type": "stream",
     "text": [
      "4\n",
      "8-6+2+4+3-6+1\n",
      "1+1+1+1\n",
      "2+3+6+8-9\n",
      "2+7+1-6\n",
      "10\n"
     ]
    }
   ],
   "source": [
    "nl=int(input())\n",
    "li=[]\n",
    "for i in range(nl):\n",
    "    sum=0\n",
    "    temp=0\n",
    "    l=input()\n",
    "    sum+=int(l[0])\n",
    "    for j in range(1,len(l)):\n",
    "        if l[j]==\"+\":\n",
    "            sum+=int(l[j+1])\n",
    "        elif l[j]== \"-\" :\n",
    "            sum-=int(l[j+1])\n",
    "    li.append(sum)\n",
    "print(max(li))"
   ]
  },
  {
   "cell_type": "code",
   "execution_count": 17,
   "metadata": {},
   "outputs": [
    {
     "name": "stdout",
     "output_type": "stream",
     "text": [
      "9 19 29 39 49 59 69 79 89 90 91 92 93 94 95 96 97 98 99 \n",
      "\n",
      "20\n"
     ]
    }
   ],
   "source": [
    "num=0\n",
    "for i in range(1,100):\n",
    "    if str(9) in  str(i):\n",
    "        print(str(i),end=' ')\n",
    "        num+=str(i).count(\"9\")\n",
    "print(\"\\n\")\n",
    "print(num)"
   ]
  },
  {
   "cell_type": "code",
   "execution_count": 1,
   "metadata": {},
   "outputs": [
    {
     "name": "stdout",
     "output_type": "stream",
     "text": [
      "1\n",
      "26\n",
      "sadw96aeafae4awdw2wd100awd\n",
      "4\n"
     ]
    }
   ],
   "source": [
    "# Count Numbers\n",
    "\n",
    "t=int(input())\n",
    "for i in range(t):\n",
    "    n=0;flag=1\n",
    "    size=int(input())\n",
    "    string=input()\n",
    "    \n",
    "    for s in string:\n",
    "        if s.isalpha():\n",
    "            flag=1\n",
    "        elif s.isdigit() and flag:\n",
    "            flag=0\n",
    "            n+=1\n",
    "    print(n)"
   ]
  },
  {
   "cell_type": "code",
   "execution_count": null,
   "metadata": {},
   "outputs": [],
   "source": []
  }
 ],
 "metadata": {
  "kernelspec": {
   "display_name": "Python 3",
   "language": "python",
   "name": "python3"
  },
  "language_info": {
   "codemirror_mode": {
    "name": "ipython",
    "version": 3
   },
   "file_extension": ".py",
   "mimetype": "text/x-python",
   "name": "python",
   "nbconvert_exporter": "python",
   "pygments_lexer": "ipython3",
   "version": "3.7.3"
  }
 },
 "nbformat": 4,
 "nbformat_minor": 2
}
