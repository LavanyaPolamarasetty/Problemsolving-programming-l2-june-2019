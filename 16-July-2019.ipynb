{
 "cells": [
  {
   "cell_type": "code",
   "execution_count": 1,
   "metadata": {},
   "outputs": [
    {
     "name": "stdout",
     "output_type": "stream",
     "text": [
      "3\n",
      "4\n",
      "3\n",
      "6\n",
      "12\n",
      "8\n",
      "21\n"
     ]
    }
   ],
   "source": [
    "# The Castle Gate\n",
    "t=int(input())\n",
    "for i in range(t):\n",
    "    c=0\n",
    "    n=int(input())\n",
    "    for k in range(1,n):\n",
    "        for j in range(k+1,n+1):\n",
    "            s=k^j\n",
    "            if s<=n:\n",
    "                c+=1\n",
    "    print(c)\n",
    "    "
   ]
  },
  {
   "cell_type": "code",
   "execution_count": 2,
   "metadata": {},
   "outputs": [
    {
     "name": "stdout",
     "output_type": "stream",
     "text": [
      "2\n",
      "5 14\n",
      "No\n",
      "3 21\n",
      "Yes\n"
     ]
    }
   ],
   "source": [
    "# Birthday Party\n",
    "t=int(input())\n",
    "for i in range(t):\n",
    "    n=list(map(int,input().split()))\n",
    "    if n[1]%n[0]==0:\n",
    "        print(\"Yes\")\n",
    "    else:\n",
    "        print(\"No\")"
   ]
  },
  {
   "cell_type": "code",
   "execution_count": 3,
   "metadata": {},
   "outputs": [
    {
     "name": "stdout",
     "output_type": "stream",
     "text": [
      "2\n",
      "1 2 3 2 1\n",
      "3\n"
     ]
    }
   ],
   "source": [
    "# Rajan and Odd frequency number\n",
    "\n",
    "t=int(input())\n",
    "s=list(map(int,input().split()))\n",
    "d={}\n",
    "for i in range(len(s)):\n",
    "    if s[i] not in d:\n",
    "        d[s[i]]=1\n",
    "    else:\n",
    "        d[s[i]]+=1\n",
    "for i,j in d.items():\n",
    "    if j%2!=0:\n",
    "        print(i)"
   ]
  },
  {
   "cell_type": "code",
   "execution_count": null,
   "metadata": {},
   "outputs": [],
   "source": []
  }
 ],
 "metadata": {
  "kernelspec": {
   "display_name": "Python 3",
   "language": "python",
   "name": "python3"
  },
  "language_info": {
   "codemirror_mode": {
    "name": "ipython",
    "version": 3
   },
   "file_extension": ".py",
   "mimetype": "text/x-python",
   "name": "python",
   "nbconvert_exporter": "python",
   "pygments_lexer": "ipython3",
   "version": "3.7.3"
  }
 },
 "nbformat": 4,
 "nbformat_minor": 2
}
