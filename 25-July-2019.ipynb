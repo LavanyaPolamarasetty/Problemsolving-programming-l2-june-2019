{
 "cells": [
  {
   "cell_type": "code",
   "execution_count": 3,
   "metadata": {},
   "outputs": [
    {
     "name": "stdout",
     "output_type": "stream",
     "text": [
      "a 97 b 98 c 99 d 100 e 101 f 102 g 103 h 104 i 105 j 106 k 107 l 108 m 109 n 110 o 111 p 112 q 113 r 114 s 115 t 116 u 117 v 118 w 119 x 120 y 121 z 122 "
     ]
    }
   ],
   "source": [
    "for i in range(97,123):\n",
    "    print(chr(i),i,end=' ')"
   ]
  },
  {
   "cell_type": "code",
   "execution_count": 4,
   "metadata": {},
   "outputs": [
    {
     "name": "stdout",
     "output_type": "stream",
     "text": [
      "enter stringlavanya\n",
      "enter num4\n",
      "pezerce"
     ]
    }
   ],
   "source": [
    "s=input(\"enter string\")\n",
    "k=int(input(\"enter num\"))\n",
    "digit=0\n",
    "for i in s:\n",
    "    if i.isalpha():\n",
    "            div=k%26\n",
    "            r=div+ord(i)\n",
    "            if i.islower():\n",
    "                if r<=122:\n",
    "                    print(chr(r),end='')\n",
    "                else:\n",
    "                    print(chr(r-26),end='')\n",
    "            if i.isupper():\n",
    "                if r<=90:\n",
    "                    print(chr(r),end='')\n",
    "                else:\n",
    "                    ch=chr(r-26)\n",
    "                    print(ch,end='')\n",
    "                   \n",
    "    elif i.isdigit():\n",
    "        r = (int(i)+k) % 10\n",
    "        print(r,end='')\n",
    "        #print(ii-9,end='')\n",
    "    else:\n",
    "        print(i,end='')"
   ]
  },
  {
   "cell_type": "code",
   "execution_count": null,
   "metadata": {},
   "outputs": [],
   "source": []
  }
 ],
 "metadata": {
  "kernelspec": {
   "display_name": "Python 3",
   "language": "python",
   "name": "python3"
  },
  "language_info": {
   "codemirror_mode": {
    "name": "ipython",
    "version": 3
   },
   "file_extension": ".py",
   "mimetype": "text/x-python",
   "name": "python",
   "nbconvert_exporter": "python",
   "pygments_lexer": "ipython3",
   "version": "3.7.3"
  }
 },
 "nbformat": 4,
 "nbformat_minor": 2
}
