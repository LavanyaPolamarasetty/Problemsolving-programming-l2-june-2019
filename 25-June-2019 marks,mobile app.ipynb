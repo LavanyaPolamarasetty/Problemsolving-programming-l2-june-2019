{
 "cells": [
  {
   "cell_type": "markdown",
   "metadata": {},
   "source": [
    "\n",
    "# Marks Analysis Application\n",
    "   #Generate the marks file for n students\n",
    "   #Input:Each line contains the marks\n",
    "   #Generates a report with the following information -(distinction,failed,pass)\n",
    "           # Class Average\n",
    "           # % of students passed\n",
    "           # % of students -distinction\n",
    "           # % of students failed"
   ]
  },
  {
   "cell_type": "code",
   "execution_count": 4,
   "metadata": {},
   "outputs": [
    {
     "name": "stdout",
     "output_type": "stream",
     "text": [
      "40\n",
      "1\n",
      "69\n",
      "44\n",
      "74\n",
      "96\n",
      "35\n",
      "6\n",
      "30\n",
      "35\n",
      "58\n",
      "88\n",
      "11\n",
      "61\n",
      "92\n",
      "51\n",
      "37\n",
      "56\n",
      "42\n",
      "61\n",
      "97\n",
      "59\n",
      "82\n",
      "61\n",
      "21\n",
      "23\n",
      "25\n",
      "63\n",
      "7\n",
      "76\n",
      "71\n",
      "26\n",
      "72\n",
      "52\n",
      "11\n",
      "64\n",
      "72\n",
      "19\n",
      "99\n",
      "30\n",
      "27\n",
      "26\n",
      "93\n",
      "5\n",
      "32\n",
      "20\n",
      "100\n",
      "17\n",
      "8\n",
      "10\n",
      "81\n",
      "62\n",
      "74\n",
      "50\n",
      "47\n",
      "61\n",
      "9\n",
      "45\n",
      "19\n",
      "66\n"
     ]
    }
   ],
   "source": [
    "#function to Generate marks\n",
    "from random import randint\n",
    "\n",
    "def generatemarks(n,lb,ub):\n",
    "    with open(filepath,'w') as f:\n",
    "        for i in range(0,n):\n",
    "            r=randint(lb,ub)\n",
    "            f.write(str(r)+'\\n')\n",
    "    f.close()\n",
    "    with open(filepath,'r') as f:\n",
    "        for line in f:\n",
    "            print(int(line))\n",
    "filepath='Files/marks.txt'\n",
    "generatemarks(60,1,100)"
   ]
  },
  {
   "cell_type": "code",
   "execution_count": 95,
   "metadata": {},
   "outputs": [
    {
     "data": {
      "text/plain": [
       "48.95"
      ]
     },
     "execution_count": 95,
     "metadata": {},
     "output_type": "execute_result"
    }
   ],
   "source": [
    "# function to find class Average\n",
    "def classaverage():\n",
    "    sum=0\n",
    "    c=0\n",
    "    with open(filepath,'r') as f:\n",
    "        for line in f:\n",
    "            #print(line,end=' ')\n",
    "            sum+=int(line)\n",
    "            c+=1\n",
    "        avg=sum/c\n",
    "    return avg\n",
    "    f.close()\n",
    "\n",
    "\n",
    "#classaverage()"
   ]
  },
  {
   "cell_type": "code",
   "execution_count": 96,
   "metadata": {},
   "outputs": [
    {
     "name": "stdout",
     "output_type": "stream",
     "text": [
      "66.66666666666666students passed\n"
     ]
    },
    {
     "data": {
      "text/plain": [
       "66.66666666666666"
      ]
     },
     "execution_count": 96,
     "metadata": {},
     "output_type": "execute_result"
    }
   ],
   "source": [
    "#Function to find % students passed\n",
    "def perstudentpassed():\n",
    "    c=0\n",
    "    j=0\n",
    "    with open(filepath,'r') as f:\n",
    "        for line in f:\n",
    "            j+=1\n",
    "            m=int(line)\n",
    "            if m>35:\n",
    "                c+=1\n",
    "        pas=(c/j)*100\n",
    "        print(str(pas)+'students passed')\n",
    "        return pas\n",
    "\n",
    "\n",
    "#perstudentpassed()"
   ]
  },
  {
   "cell_type": "code",
   "execution_count": 97,
   "metadata": {},
   "outputs": [
    {
     "name": "stdout",
     "output_type": "stream",
     "text": [
      "30.0students distinction\n"
     ]
    },
    {
     "data": {
      "text/plain": [
       "30.0"
      ]
     },
     "execution_count": 97,
     "metadata": {},
     "output_type": "execute_result"
    }
   ],
   "source": [
    "# function to find % students distinction\n",
    "def perstudentdistinction():\n",
    "    c=0\n",
    "    j=0\n",
    "    with open (filepath,'r')as f:\n",
    "        for line in f:\n",
    "            j+=1\n",
    "            if int(line)>=70:\n",
    "                c+=1\n",
    "        dis=(c/j)*100\n",
    "        print(str(dis)+'students distinction')\n",
    "        return dis\n",
    "\n",
    "\n",
    "#perstudentdistinction()"
   ]
  },
  {
   "cell_type": "code",
   "execution_count": 98,
   "metadata": {},
   "outputs": [
    {
     "name": "stdout",
     "output_type": "stream",
     "text": [
      "33.33333333333333students failed\n"
     ]
    },
    {
     "data": {
      "text/plain": [
       "33.33333333333333"
      ]
     },
     "execution_count": 98,
     "metadata": {},
     "output_type": "execute_result"
    }
   ],
   "source": [
    "# Function to find % student failed\n",
    "def perstudentfailed():\n",
    "    c=0\n",
    "    j=0\n",
    "    with open (filepath,'r')as f:\n",
    "        for line in f:\n",
    "            j+=1\n",
    "            if int(line)<35:\n",
    "                c+=1\n",
    "        fail=(c/j)*100\n",
    "        print(str(fail)+'students failed')\n",
    "        return fail\n",
    "\n",
    "\n",
    "\n",
    "#perstudentfailed()"
   ]
  },
  {
   "cell_type": "code",
   "execution_count": 130,
   "metadata": {},
   "outputs": [
    {
     "name": "stdout",
     "output_type": "stream",
     "text": [
      "[49, 96, 1, 88, 40, 90, 45, 71, 91, 62, 91, 55, 9, 69, 44, 4, 86, 15, 98, 90, 42, 16, 15, 11, 22, 62, 10, 7, 37, 27, 29, 76, 46, 39, 61, 28, 90, 77, 6, 33, 75, 65, 18, 79, 43, 36, 85, 38, 41, 1, 56, 40, 93, 38, 86, 34, 12, 26, 75, 68]\n",
      "98 1\n"
     ]
    }
   ],
   "source": [
    "# Function to find  frequency heighest marks\n",
    "def frqheighestmarks():\n",
    "    c=0\n",
    "    l=[]\n",
    "    j=0\n",
    "    topper=0\n",
    "    with open(filepath,'r') as f:\n",
    "        for line in f:\n",
    "            r=int(line)\n",
    "            l.append(r)\n",
    "            topper=max(l)\n",
    "            c=l.count(topper)\n",
    "    print(l)            \n",
    "    print(max(l),c)\n",
    "    \n",
    "    \n",
    "                    \n",
    "#frqheighestmarks()"
   ]
  },
  {
   "cell_type": "code",
   "execution_count": 138,
   "metadata": {},
   "outputs": [
    {
     "name": "stdout",
     "output_type": "stream",
     "text": [
      "[49, 96, 1, 88, 40, 90, 45, 71, 91, 62, 91, 55, 9, 69, 44, 4, 86, 15, 98, 90, 42, 16, 15, 11, 22, 62, 10, 7, 37, 27, 29, 76, 46, 39, 61, 28, 90, 77, 6, 33, 75, 65, 18, 79, 43, 36, 85, 38, 41, 1, 56, 40, 93, 38, 86, 34, 12, 26, 75, 68]\n",
      "1 2\n"
     ]
    }
   ],
   "source": [
    "# Function to find  frequency lowest marks\n",
    "def frqlowestmarks():\n",
    "    c=0\n",
    "    ll=[]\n",
    "    j=0\n",
    "    topper=0\n",
    "    with open(filepath,'r') as f:\n",
    "        for line in f:\n",
    "            r=int(line)\n",
    "            ll.append(r)\n",
    "            looser=min(ll)\n",
    "            \n",
    "            c=ll.count(looser)\n",
    "    print(ll)            \n",
    "    print(min(l),c)\n",
    "    \n",
    "    \n",
    "                    \n",
    "#frqlowestmarks()"
   ]
  },
  {
   "cell_type": "code",
   "execution_count": 37,
   "metadata": {},
   "outputs": [
    {
     "name": "stdout",
     "output_type": "stream",
     "text": [
      "123\n"
     ]
    },
    {
     "data": {
      "text/plain": [
       "123"
      ]
     },
     "execution_count": 37,
     "metadata": {},
     "output_type": "execute_result"
    }
   ],
   "source": [
    "i=sum([int(x) for x in input().split()])\n",
    "i"
   ]
  },
  {
   "cell_type": "code",
   "execution_count": 85,
   "metadata": {},
   "outputs": [
    {
     "name": "stdout",
     "output_type": "stream",
     "text": [
      "33.89830508474576students distinction\n",
      "76.27118644067797students passed\n",
      "23.728813559322035students failed\n",
      "33.89830508474576 20\n",
      "23.728813559322035 14\n"
     ]
    }
   ],
   "source": [
    "with open(filepath,'a') as f:\n",
    "    avg=classaverage()\n",
    "    dis=perstudentdistinction()\n",
    "    pas=perstudentpassed()\n",
    "    fail=perstudentfailed()\n",
    "    disc=frqhighmarks()\n",
    "    disct=frqlowestmarks()\n",
    "    f.write(str(avg)+' ==Average Marks'+'\\n') \n",
    "    f.write(str(pas)+' ==students passed'+'\\n')\n",
    "    f.write(str(dis)+' ==students distinction'+'\\n')\n",
    "    f.write(str(fail)+' ==students failed'+'\\n')\n",
    "    f.write(str(disc)+' ==students frequency heighest marks '+'\\n')\n",
    "    f.write(str(disct)+' ==students frequency lowest marks '+'\\n')\n",
    "f.close()"
   ]
  },
  {
   "cell_type": "code",
   "execution_count": 103,
   "metadata": {},
   "outputs": [
    {
     "data": {
      "text/plain": [
       "[1, 2, 3]"
      ]
     },
     "execution_count": 103,
     "metadata": {},
     "output_type": "execute_result"
    }
   ],
   "source": [
    "l=[1,2,3]\n",
    "l"
   ]
  },
  {
   "cell_type": "code",
   "execution_count": 109,
   "metadata": {},
   "outputs": [
    {
     "data": {
      "text/plain": [
       "123"
      ]
     },
     "execution_count": 109,
     "metadata": {},
     "output_type": "execute_result"
    }
   ],
   "source": [
    "li=int(''.join(list(map(str,l))))\n",
    "li"
   ]
  },
  {
   "cell_type": "markdown",
   "metadata": {},
   "source": [
    "# STUDENT MARKS:\n"
   ]
  },
  {
   "cell_type": "code",
   "execution_count": 5,
   "metadata": {},
   "outputs": [
    {
     "name": "stdout",
     "output_type": "stream",
     "text": [
      "1.Generate marks \n",
      "2.%Student passed \n",
      "3.%Student Distinction \n",
      "4.%Student Failed \n",
      "5.Frequncy of heighest mark \n",
      "6.Frequency of Lowest mark\n",
      "Enter 1 for continue \n",
      "Enter 0 for Exit1\n",
      "1.Generate marks \n",
      "2.%Student passed \n",
      "3.%Student Distinction \n",
      "4.%Student Failed \n",
      "5.Frequncy of heighest mark \n",
      "6.Frequency of Lowest mark\n",
      "Enter Your Choice1\n",
      "6 0 44 87 94 26 12 82 10 30 Student marks list Created in file\n",
      "\n",
      "Enter 1 for continue \n",
      "Enter 0 for Exit0\n"
     ]
    }
   ],
   "source": [
    "from random import randint\n",
    "filepath='Files/marks'\n",
    "res=''\n",
    "print(\"1.Generate marks \\n2.%Student passed \\n3.%Student Distinction \\n4.%Student Failed \\n5.Frequncy of heighest mark \\n6.Frequency of Lowest mark\")\n",
    "while 1:\n",
    "    k=int(input(\"Enter 1 for continue \\nEnter 0 for Exit\"))\n",
    "    if k==0:\n",
    "        break\n",
    "    elif k==1:\n",
    "        print(\"1.Generate marks \\n2.%Student passed \\n3.%Student Distinction \\n4.%Student Failed \\n5.Frequncy of heighest mark \\n6.Frequency of Lowest mark\")\n",
    "        n=int(input(\"Enter Your Choice\"))\n",
    "        if n==1:\n",
    "            def generatemarks(n,lb,ub):\n",
    "                with open(filepath,'w') as f:\n",
    "                    for i in range(0,n):\n",
    "                        r=randint(lb,ub)\n",
    "                        f.write(str(r)+'\\n')\n",
    "                with open(filepath,'r') as f:\n",
    "                        for line in f:\n",
    "                            print(int(line),end=' ')\n",
    "                print(\"Student marks list Created in file\")\n",
    "            generatemarks(10,0,100)\n",
    "        elif n==2:\n",
    "            def perstudentpassed():\n",
    "                    c=0\n",
    "                    j=0\n",
    "                    with open(filepath,'r') as f:\n",
    "                        for line in f:\n",
    "                            j+=1\n",
    "                            m=int(line)\n",
    "                            if m>35:\n",
    "                                c+=1\n",
    "                        pas=(c/j)*100\n",
    "                        print(str(pas)+'students passed')\n",
    "            perstudentpassed()\n",
    "        elif n==3:\n",
    "            def perstudentdistinction():\n",
    "                    c=0\n",
    "                    j=0\n",
    "                    with open (filepath,'r')as f:\n",
    "                        for line in f:\n",
    "                            j+=1\n",
    "                            if int(line)>=70:\n",
    "                                c+=1\n",
    "                        dis=(c/j)*100\n",
    "                        print(str(dis)+'students distinction')\n",
    "            perstudentdistinction()\n",
    "        elif n==4:\n",
    "            def perstudentfailed():\n",
    "                    c=0\n",
    "                    j=0\n",
    "                    with open (filepath,'r')as f:\n",
    "                        for line in f:\n",
    "                            j+=1\n",
    "                            if int(line)<35:\n",
    "                                c+=1\n",
    "                        fail=(c/j)*100\n",
    "                        print(str(fail)+'students failed')\n",
    "            perstudentfailed()\n",
    "        elif n==5:\n",
    "            def frqheighestmarks():\n",
    "                    c=0\n",
    "                    l=[]\n",
    "                    j=0\n",
    "                    topper=0\n",
    "                    with open(filepath,'r') as f:\n",
    "                        for line in f:\n",
    "                            r=int(line)\n",
    "                            l.append(r)\n",
    "                            topper=max(l)\n",
    "                            c=l.count(topper)\n",
    "                    print(l)            \n",
    "                    print(max(l),c)\n",
    "            frqheighestmarks()\n",
    "        elif n==6:\n",
    "            def frqlowestmarks():\n",
    "                    c=0\n",
    "                    ll=[]\n",
    "                    j=0\n",
    "                    topper=0\n",
    "                    with open(filepath,'r') as f:\n",
    "                        for line in f:\n",
    "                            r=int(line)\n",
    "                            ll.append(r)\n",
    "                            looser=min(ll)\n",
    "\n",
    "                            c=ll.count(looser)\n",
    "                    print(ll)            \n",
    "                    print(min(ll),c)\n",
    "            frqlowestmarks()\n",
    "        else:\n",
    "            print(\"Invaild number\")\n",
    "        print(res)\n",
    "\n",
    "        "
   ]
  },
  {
   "cell_type": "code",
   "execution_count": null,
   "metadata": {},
   "outputs": [],
   "source": []
  },
  {
   "cell_type": "code",
   "execution_count": null,
   "metadata": {},
   "outputs": [],
   "source": []
  },
  {
   "cell_type": "code",
   "execution_count": 1,
   "metadata": {},
   "outputs": [
    {
     "name": "stdout",
     "output_type": "stream",
     "text": [
      "1.Add contacts \n",
      "2.list of all Contacts \n",
      "3.Search contacts \n",
      "4.Delete contacts \n",
      "5.Modify contacts \n",
      "Enter 1 for continue \n",
      "Enter 0 for exit1\n",
      "1.Add contacts \n",
      "2.list of all Contacts \n",
      "3.Search contacts \n",
      "4.Delete contacts \n",
      "5.Modify contacts \n",
      "Enter your choice1\n",
      "Enter contact namemercy\n",
      "Enter contact number9505305452\n",
      "9505305452\n",
      "lava123@gmail.com\n",
      "lava123@gmail.com\n"
     ]
    },
    {
     "ename": "TypeError",
     "evalue": "addcontact() takes 2 positional arguments but 3 were given",
     "output_type": "error",
     "traceback": [
      "\u001b[1;31m---------------------------------------------------------------------------\u001b[0m",
      "\u001b[1;31mTypeError\u001b[0m                                 Traceback (most recent call last)",
      "\u001b[1;32m<ipython-input-1-e7fe06eebda8>\u001b[0m in \u001b[0;36m<module>\u001b[1;34m\u001b[0m\n\u001b[0;32m     32\u001b[0m                 \u001b[0mem\u001b[0m\u001b[1;33m=\u001b[0m \u001b[1;32mFalse\u001b[0m\u001b[1;33m\u001b[0m\u001b[1;33m\u001b[0m\u001b[0m\n\u001b[0;32m     33\u001b[0m             \u001b[0mprint\u001b[0m\u001b[1;33m(\u001b[0m\u001b[0mem\u001b[0m\u001b[1;33m)\u001b[0m\u001b[1;33m\u001b[0m\u001b[1;33m\u001b[0m\u001b[0m\n\u001b[1;32m---> 34\u001b[1;33m             \u001b[0maddcontact\u001b[0m\u001b[1;33m(\u001b[0m\u001b[0mname\u001b[0m\u001b[1;33m,\u001b[0m\u001b[0mph\u001b[0m\u001b[1;33m,\u001b[0m\u001b[0mem\u001b[0m\u001b[1;33m)\u001b[0m\u001b[1;33m\u001b[0m\u001b[1;33m\u001b[0m\u001b[0m\n\u001b[0m\u001b[0;32m     35\u001b[0m \u001b[1;33m\u001b[0m\u001b[0m\n",
      "\u001b[1;31mTypeError\u001b[0m: addcontact() takes 2 positional arguments but 3 were given"
     ]
    }
   ],
   "source": [
    "import re\n",
    "print(\"1.Add contacts \\n2.list of all Contacts \\n3.Search contacts \\n4.Delete contacts \\n5.Modify contacts \")\n",
    "while 1:\n",
    "    k=int(input(\"Enter 1 for continue \\nEnter 0 for exit\"))\n",
    "    if k==0:\n",
    "        break\n",
    "    elif k==1:\n",
    "        print(\"1.Add contacts \\n2.list of all Contacts \\n3.Search contacts \\n4.Delete contacts \\n5.Modify contacts \")\n",
    "        n=int(input(\"Enter your choice\"))\n",
    "        if n==1:\n",
    "            contacts ={}\n",
    "            def addcontact(name,phone,email):\n",
    "                #verify that the contact doesnot already exist\n",
    "                if name not in contacts:\n",
    "                    fh.write(name+','+str(no)+','+email+'\\n')\n",
    "                    print(\"Contact %s added\" % name)\n",
    "                else:\n",
    "                    print(\"contact %s already exists\" % name)\n",
    "            name=input(\"Enter contact name\")\n",
    "            phone=input(\"Enter contact number\")\n",
    "            validation='^[6-9]{1}[0-9]{2,10}$'\n",
    "            if re.match(validation,phone):\n",
    "                ph= phone\n",
    "            else:\n",
    "                ph= False\n",
    "            print(ph)\n",
    "            email=input()\n",
    "            validation2='^[a-z0-9_.]{3,15}[@][a-z]{3,10}[.][a-z]{2,10}'\n",
    "            if re.match(validation2,email):\n",
    "                em= email\n",
    "            else:\n",
    "                em= False\n",
    "            print(em)\n",
    "            addcontact(name,ph,em)\n",
    "            \n"
   ]
  },
  {
   "cell_type": "code",
   "execution_count": null,
   "metadata": {},
   "outputs": [],
   "source": [
    "t=int(input())\n",
    "def charDeletionAnagrams(s1,s2):\n",
    "        uncommn =[]\n",
    "        for i in s1:\n",
    "            if i not in s2:\n",
    "                uncommn.append(i)\n",
    "        for i in s2:\n",
    "            if i not in s1:\n",
    "                uncommn.append(i)\n",
    "        \"\"\"count =len(uncommn)\n",
    "        freqs1={}\n",
    "        freqs2={}\n",
    "        uniqs1=[]\n",
    "        uniqs2=[]\n",
    "    #Common charector freqvency count\n",
    "        for i in s1:\n",
    "            if i not in uncommn and i not in uniqs1: \n",
    "                freqs1[i]=s1.count(i)\n",
    "                uniqs1.append(i)\n",
    "        for i in s2:\n",
    "            if i not in uncommn and i not in uniqs2: \n",
    "                freqs2[i]=s2.count(i)\n",
    "                uniqs2.append(i)\n",
    "        for key in freqs1.keys():\n",
    "            count+=abs(freqs1[key]-freqs2[key])\n",
    "        return count\"\"\"\n",
    "\n",
    "\n",
    "for i in range(0,t):\n",
    "    s1=input()\n",
    "    s2=input()\n",
    "    print(charDeletionAnagrams(s1,s2))\n"
   ]
  },
  {
   "cell_type": "code",
   "execution_count": null,
   "metadata": {},
   "outputs": [],
   "source": []
  }
 ],
 "metadata": {
  "kernelspec": {
   "display_name": "Python 3",
   "language": "python",
   "name": "python3"
  },
  "language_info": {
   "codemirror_mode": {
    "name": "ipython",
    "version": 3
   },
   "file_extension": ".py",
   "mimetype": "text/x-python",
   "name": "python",
   "nbconvert_exporter": "python",
   "pygments_lexer": "ipython3",
   "version": "3.7.3"
  }
 },
 "nbformat": 4,
 "nbformat_minor": 2
}
