{
 "cells": [
  {
   "cell_type": "code",
   "execution_count": 3,
   "metadata": {},
   "outputs": [
    {
     "name": "stdout",
     "output_type": "stream",
     "text": [
      "2\n",
      "abcd\n",
      "dcba\n",
      "0\n",
      "aaa\n",
      "bbb\n",
      "6\n"
     ]
    }
   ],
   "source": [
    "# PROBLEM2 ---- Anagrams?????\n",
    "\n",
    "t=int(input())\n",
    "def charDeletionAnagrams(s1,s2):\n",
    "        uncommn =[]\n",
    "        for i in s1:\n",
    "            if i not in s2:\n",
    "                uncommn.append(i)\n",
    "        for i in s2:\n",
    "            if i not in s1:\n",
    "                uncommn.append(i)\n",
    "        count =len(uncommn)\n",
    "        freqs1={}\n",
    "        freqs2={}\n",
    "        uniqs1=[]\n",
    "        uniqs2=[]\n",
    "    #Common charector freqvency count\n",
    "        for i in s1:\n",
    "            if i not in uncommn and i not in uniqs1: \n",
    "                freqs1[i]=s1.count(i)\n",
    "                uniqs1.append(i)\n",
    "        for i in s2:\n",
    "            if i not in uncommn and i not in uniqs2: \n",
    "                freqs2[i]=s2.count(i)\n",
    "                uniqs2.append(i)\n",
    "        for key in freqs1.keys():\n",
    "            count+=abs(freqs1[key]-freqs2[key])\n",
    "        return count\n",
    "\n",
    "\n",
    "for i in range(0,t):\n",
    "    s1=input()\n",
    "    s2=input()\n",
    "    print(charDeletionAnagrams(s1,s2))\n",
    "    \n"
   ]
  },
  {
   "cell_type": "code",
   "execution_count": null,
   "metadata": {},
   "outputs": [],
   "source": [
    "\n",
    "          \n",
    "            \n"
   ]
  },
  {
   "cell_type": "code",
   "execution_count": 113,
   "metadata": {},
   "outputs": [
    {
     "name": "stdout",
     "output_type": "stream",
     "text": [
      "puppy\n",
      "9876543321\n",
      "dhgjhc@gmail.com\n",
      "Contact saved successfully\n"
     ]
    }
   ],
   "source": [
    "import re\n",
    "def phonevalidation(no):\n",
    "    pattern='[9876][0-9]{9}$|^[0][6-9][0-9]{9}$|^[+][9][1][6-9][0-9]{9}$'\n",
    "    if re.match(pattern,str(no)):\n",
    "        return True\n",
    "       #print(\"valid number\")\n",
    "    else:\n",
    "        return False\n",
    "       #print(\"invalid number\")\n",
    "    return\n",
    "def emailval(email):\n",
    "    pattern='^[0-9a-z][0-9a-z_.]{4,13}[0-9a-z][@][0-9a-z]{3,18}[.][a-z]{2,4}$'\n",
    "    if re.match(pattern,email):\n",
    "       #print(\"valid\")\n",
    "        return True\n",
    "    else:\n",
    "       #print(\"invalid\")\n",
    "        return False\n",
    "\n",
    "def contactsadding(name,phone,email):\n",
    "    with open(fipath,'a') as f:\n",
    "        if phonevalidation(phone):\n",
    "            if emailval(email):\n",
    "                #for lines in f.read().split(','):\n",
    "                    #if name not in line:    \n",
    "                        f.write(name+','+str(phone)+','+email+'\\n')\n",
    "                        print(\"Contact saved successfully\")\n",
    "                    #else:\n",
    "                       # print(\"Contact already existed\")\n",
    "\n",
    "fipath='Files/contactsapp.txt'\n",
    "name=input()\n",
    "phone=int(input())\n",
    "email=input()\n",
    "contactsadding(name,phone,email)"
   ]
  },
  {
   "cell_type": "code",
   "execution_count": 143,
   "metadata": {},
   "outputs": [
    {
     "name": "stdout",
     "output_type": "stream",
     "text": [
      "mercy\n",
      "9505305452\n",
      "lavanya.p2211@gmail.com\n",
      "\n",
      "mercy\n",
      "9505305452\n",
      "lavanya.p2211@gmail.com\n",
      "\n",
      "lavanya\n",
      "9959793660\n",
      "lavs123@gmail.com\n",
      "\n"
     ]
    }
   ],
   "source": [
    "# function to list of all contacts\n",
    "def listofallcontacts():\n",
    "    with open(fipath,'r') as f:\n",
    "        for line in f:\n",
    "            #print(line)\n",
    "            for l in line.split(','):\n",
    "                print(l)\n",
    "\n",
    "fipath='Files/contactsapp.txt'\n",
    "listofallcontacts()"
   ]
  },
  {
   "cell_type": "code",
   "execution_count": 150,
   "metadata": {},
   "outputs": [
    {
     "name": "stdout",
     "output_type": "stream",
     "text": [
      "mercy\n"
     ]
    },
    {
     "data": {
      "text/plain": [
       "['mercy', '9505305452', 'lavanya.p2211@gmail.com\\n']"
      ]
     },
     "execution_count": 150,
     "metadata": {},
     "output_type": "execute_result"
    }
   ],
   "source": [
    "# function to searchcontacts\n",
    "def csvToList(fname):\n",
    "    li = []\n",
    "    with open(fname, 'r') as f:\n",
    "        for line in f:\n",
    "            li.append(line.split(','))\n",
    "    return li\n",
    "\n",
    "def listToFile(li):\n",
    "    s = ''\n",
    "    for i in li:\n",
    "        s += ','.join(i)\n",
    "    return s\n",
    "\n",
    "\n",
    "def searchcontact(name):\n",
    "    fh=csvToList(fipath)\n",
    "    for line in fh:\n",
    "        #print(line)\n",
    "        if line[0]==name:\n",
    "            print(\"contact exists\")\n",
    "            return True\n",
    "    print(\"contact does not exists\" )    \n",
    "    return False\n",
    "\n",
    "def searchwithreturn(name):\n",
    "    fh=csvToList(fipath)\n",
    "    for line in range(len(fh)):\n",
    "        if fh[line][0]==name:\n",
    "            return fh[line]  \n",
    "    return -1\n",
    "\n",
    "fipath='Files/contactsapp.txt'\n",
    "name=input()\n",
    "searchwithreturn(name)"
   ]
  },
  {
   "cell_type": "code",
   "execution_count": 137,
   "metadata": {},
   "outputs": [
    {
     "name": "stdout",
     "output_type": "stream",
     "text": [
      "bavagaru\n",
      "contact does not exists\n"
     ]
    }
   ],
   "source": [
    "# function to delete contacts\n",
    "def deletecontact(name):\n",
    "    res=''\n",
    "    with open(fipath,'r') as f:\n",
    "        res=searchcontact(name)\n",
    "        if res==1:\n",
    "            fh=csvToList(fipath)\n",
    "            for line in range(len(fh)):\n",
    "                if fh[line][0]==name:\n",
    "                    fh.pop(line)\n",
    "                    s=listToFile(fh)\n",
    "                    with open(fipath,'w') as f:\n",
    "                        f.write(s)\n",
    "\n",
    "fipath='Files/contactsapp.txt'\n",
    "name=input()\n",
    "deletecontact(name)"
   ]
  },
  {
   "cell_type": "code",
   "execution_count": 135,
   "metadata": {},
   "outputs": [
    {
     "name": "stdout",
     "output_type": "stream",
     "text": [
      "bavagaru\n",
      "8000080000\n",
      "contact exists\n"
     ]
    }
   ],
   "source": [
    "# function to modify / update a contact\n",
    "def updatecontact(name,phone):\n",
    "        res=''\n",
    "        with open(fipath,'r') as f:\n",
    "                res=searchcontact(name)\n",
    "                if res==1:\n",
    "                    fh=csvToList(fipath)\n",
    "                    for line in range(len(fh)):\n",
    "                        if fh[line][0]==name:\n",
    "                            fh[line][1]=str(phone)\n",
    "                            s=listToFile(fh)\n",
    "                            with open(fipath,'w') as f:\n",
    "                                f.write(s)\n",
    "\n",
    "fipath='Files/contactsapp.txt'\n",
    "name=input()\n",
    "phone=int(input())\n",
    "updatecontact(name,phone)"
   ]
  },
  {
   "cell_type": "code",
   "execution_count": 129,
   "metadata": {},
   "outputs": [
    {
     "name": "stdout",
     "output_type": "stream",
     "text": [
      "meRcy\n"
     ]
    }
   ],
   "source": [
    "s='mercy'\n",
    "r='r'\n",
    "s[0]\n",
    "for i in range (0,len(s)-1):\n",
    "    if s[i]==r:\n",
    "        ss=s.replace(r,'R')\n",
    "print(ss)   "
   ]
  },
  {
   "cell_type": "code",
   "execution_count": 3,
   "metadata": {},
   "outputs": [
    {
     "name": "stdout",
     "output_type": "stream",
     "text": [
      "1.Add contacts \n",
      "2.list of all Contacts \n",
      "3.Search contacts \n",
      "4.Delete contacts \n",
      "5.Modify contacts \n",
      "Enter 1 for continue \n",
      "Enter 0 for exit1\n",
      "1.Add contacts \n",
      "2.list of all Contacts \n",
      "3.Search contacts \n",
      "4.Delete contacts \n",
      "5.Modify contacts \n",
      "Enter your choice5\n",
      "Enter namemercy\n",
      "Enter phone number9090909090\n",
      "contact exists\n",
      "Enter 1 for continue \n",
      "Enter 0 for exit0\n"
     ]
    }
   ],
   "source": [
    "import re\n",
    "fipath='Files/contactsapp.txt'\n",
    "print(\"1.Add contacts \\n2.list of all Contacts \\n3.Search contacts \\n4.Delete contacts \\n5.Modify contacts \")\n",
    "while 1:\n",
    "    k=int(input(\"Enter 1 for continue \\nEnter 0 for exit\"))\n",
    "    if k==0:\n",
    "        break\n",
    "    elif k==1:\n",
    "        print(\"1.Add contacts \\n2.list of all Contacts \\n3.Search contacts \\n4.Delete contacts \\n5.Modify contacts \")\n",
    "        n=int(input(\"Enter your choice\"))\n",
    "        if n==1:\n",
    "            def phonevalidation(no):\n",
    "                    pattern='[9876][0-9]{9}$|^[0][6-9][0-9]{9}$|^[+][9][1][6-9][0-9]{9}$'\n",
    "                    if re.match(pattern,str(no)):\n",
    "                        return True\n",
    "                       #print(\"valid number\")\n",
    "                    else:\n",
    "                        return False\n",
    "                       #print(\"invalid number\")\n",
    "                    return\n",
    "            def emailval(email):\n",
    "                pattern='^[0-9a-z][0-9a-z_.]{4,13}[0-9a-z][@][0-9a-z]{3,18}[.][a-z]{2,4}$'\n",
    "                if re.match(pattern,email):\n",
    "                   #print(\"valid\")\n",
    "                    return True\n",
    "                else:\n",
    "                   #print(\"invalid\")\n",
    "                    return False\n",
    "\n",
    "            def contactsadding(name,phone,email):\n",
    "                with open(fipath,'a') as f:\n",
    "                    if phonevalidation(phone):\n",
    "                        if emailval(email):\n",
    "                            #for lines in f.read().split(','):\n",
    "                                #if name not in line:    \n",
    "                                    f.write(name+','+str(phone)+','+email+'\\n')\n",
    "                                    print(\"Contact saved successfully\")\n",
    "                                #else:\n",
    "                                   # print(\"Contact already existed\")\n",
    "            name=input(\"Enter Contact name\")\n",
    "            phone=int(input(\"Enter phone number\"))\n",
    "            email=input(\"Enter email\")\n",
    "            contactsadding(name,phone,email)\n",
    "        elif n==2:\n",
    "            # function to list of all contacts\n",
    "                def listofallcontacts():\n",
    "                    with open(fipath,'r') as f:\n",
    "                        for line in f:\n",
    "                            #print(line)\n",
    "                            for l in line.split(','):\n",
    "                                print(l)\n",
    "                listofallcontacts()\n",
    "        elif n==3:\n",
    "                # function to searchcontacts\n",
    "                def csvToList(fname):\n",
    "                    li = []\n",
    "                    with open(fname, 'r') as f:\n",
    "                        for line in f:\n",
    "                            li.append(line.split(','))\n",
    "                    return li\n",
    "\n",
    "                def listToFile(li):\n",
    "                    s = ''\n",
    "                    for i in li:\n",
    "                        s += ','.join(i)\n",
    "                    return s\n",
    "\n",
    "                def searchcontact(name):\n",
    "                    fh=csvToList(fipath)\n",
    "                    for line in fh:\n",
    "                        #print(line)\n",
    "                        if line[0]==name:\n",
    "                            print(\"contact exists\")\n",
    "                            return True\n",
    "                    print(\"contact does not exists\" )    \n",
    "                    return False\n",
    "\n",
    "                def searchwithreturn(name):\n",
    "                    #with open(fipath,'r') as f:\n",
    "                    fh=csvToList(fipath)\n",
    "                    for line in range(len(fh)):\n",
    "                        if fh[line][0]==name:\n",
    "                            return fh[line]\n",
    "                    return -1\n",
    "                name=input(\"Enter name\")\n",
    "                print(searchwithreturn(name))\n",
    "        elif n==4:\n",
    "            def deletecontact(name):\n",
    "                    res=''\n",
    "                    with open(fipath,'r') as f:\n",
    "                        res=searchcontact(name)\n",
    "                        if res==1:\n",
    "                            fh=csvToList(fipath)\n",
    "                            for line in range(len(fh)):\n",
    "                                if fh[line][0]==name:\n",
    "                                    fh.pop(line)\n",
    "                                    s=listToFile(fh)\n",
    "                                    with open(fipath,'w') as f:\n",
    "                                        f.write(s)\n",
    "\n",
    "               \n",
    "            name=input(\"Enter name\")\n",
    "            deletecontact(name)\n",
    "        elif n==5:\n",
    "            def updatecontact(name,phone):\n",
    "                    res=''\n",
    "                    with open(fipath,'r') as f:\n",
    "                            res=searchcontact(name)\n",
    "                            if res==1:\n",
    "                                fh=csvToList(fipath)\n",
    "                                for line in range(len(fh)):\n",
    "                                    if fh[line][0]==name:\n",
    "                                        fh[line][1]=str(phone)\n",
    "                                        s=listToFile(fh)\n",
    "                                        with open(fipath,'w') as f:\n",
    "                                            f.write(s)\n",
    "\n",
    "\n",
    "            name=input(\"Enter name\")\n",
    "            phone=int(input(\"Enter phone number\"))\n",
    "            updatecontact(name,phone)\n",
    "            \n",
    "            \n"
   ]
  },
  {
   "cell_type": "code",
   "execution_count": 65,
   "metadata": {},
   "outputs": [
    {
     "data": {
      "text/plain": [
       "[7, 7, 7, 6, 5, 4, 3, 2, 1]"
      ]
     },
     "execution_count": 65,
     "metadata": {},
     "output_type": "execute_result"
    }
   ],
   "source": [
    "# function  to find decending order of list n get second least element\n",
    "l=[2,3,4,5,6,7,7,7,1]\n",
    "#li=set(l)\n",
    "l.sort(reverse=True)\n",
    "l\n",
    "l[:]"
   ]
  },
  {
   "cell_type": "code",
   "execution_count": 80,
   "metadata": {},
   "outputs": [
    {
     "name": "stdout",
     "output_type": "stream",
     "text": [
      "[0]\n"
     ]
    },
    {
     "data": {
      "text/plain": [
       "0"
      ]
     },
     "execution_count": 80,
     "metadata": {},
     "output_type": "execute_result"
    }
   ],
   "source": [
    "# def kSmallest in a list\n",
    "def kSmallest(l,k):\n",
    "    le=0\n",
    "    unique=[]\n",
    "    for ele in l:\n",
    "        if ele not in unique:\n",
    "            unique.append(ele)\n",
    "    unique=sorted(unique)\n",
    "    print(unique)\n",
    "    if len(unique) >= k:\n",
    "        return unique[k-1]\n",
    "    return -1\n",
    "    \n",
    "kSmallest([0],0)"
   ]
  },
  {
   "cell_type": "code",
   "execution_count": 171,
   "metadata": {},
   "outputs": [
    {
     "name": "stdout",
     "output_type": "stream",
     "text": [
      "[2, 1, 4, 3, 34, 5]\n",
      "[4, 1, 1, 2, 1, 1]\n",
      "0\n",
      "2\n"
     ]
    }
   ],
   "source": [
    "# function to element with highest frequency in a list\n",
    "def highestfrequncyelement(l):\n",
    "    li=[]\n",
    "    cl=[]\n",
    "    c=0\n",
    "    res=0\n",
    "    mcl=0\n",
    "    for ele in l:\n",
    "        if ele not in li:\n",
    "            c=l.count(ele)\n",
    "            cl.append(c)\n",
    "            li.append(ele)\n",
    "    print(li)\n",
    "    print(cl)       \n",
    "    mcl=max(cl)\n",
    "    \n",
    "    res=cl.index(mcl)\n",
    "    print(res)\n",
    "    print(li[res])   \n",
    "\n",
    "highestfrequncyelement([2,2,1,4,3,3,34,2,5,2])"
   ]
  },
  {
   "cell_type": "code",
   "execution_count": null,
   "metadata": {},
   "outputs": [],
   "source": [
    "# function to element with highest frequency in a list\n",
    "def highestfrequncyelement(l):\n",
    "    unique={}\n",
    "    for i in l:\n",
    "        if i not in unique:\n",
    "            unique[i]+=1\n",
    "    \n",
    "        \n",
    "\n",
    "highestfrequncyelement([2,1,3,4,2,5,2])"
   ]
  },
  {
   "cell_type": "code",
   "execution_count": 213,
   "metadata": {},
   "outputs": [
    {
     "name": "stdout",
     "output_type": "stream",
     "text": [
      "[2, 1, 4, 3, 34, 5]\n",
      "[4, 1, 1, 2, 1, 1]\n",
      "4\n",
      "0\n",
      "2\n"
     ]
    }
   ],
   "source": [
    "# function to element with highest frequency in a list\n",
    "def highestfrequncyelement(l):\n",
    "    li=[]\n",
    "    cl=[]\n",
    "    c=0\n",
    "    res=0\n",
    "    mcl=0\n",
    "    for ele in l:\n",
    "        if ele not in li:\n",
    "            c=l.count(ele)\n",
    "            cl.append(c)\n",
    "            li.append(ele)\n",
    "    print(li)\n",
    "    print(cl)       \n",
    "    mcl=max(cl)\n",
    "    print(mcl)\n",
    "    res=cl.index(mcl)\n",
    "    print(res)\n",
    "    print(li[res])   \n",
    "\n",
    "highestfrequncyelement([2,2,1,4,3,3,34,2,5,2])"
   ]
  },
  {
   "cell_type": "code",
   "execution_count": 218,
   "metadata": {},
   "outputs": [
    {
     "name": "stdout",
     "output_type": "stream",
     "text": [
      "1\n"
     ]
    }
   ],
   "source": [
    "#function to identify highest frequency elements if there are many such elememts return the smallest\n",
    "def highestfrequencyele(l):\n",
    "    unique={}\n",
    "    for ele in l:\n",
    "        if ele in unique:\n",
    "            unique[ele]+=1\n",
    "        else:\n",
    "            unique[ele]=1\n",
    "    #print(unique)\n",
    "    maxfrqval=max(unique.values())\n",
    "    #print(maxfrqval)\n",
    "    maxfrqkey=[]\n",
    "    for item in unique.items():\n",
    "        if item[1]==maxfrqval:\n",
    "            maxfrqkey.append(item[0])\n",
    "    print(min(maxfrqkey))\n",
    "\n",
    "    \n",
    "highestfrequencyele([1,2,3,2,1,4,4,9])"
   ]
  },
  {
   "cell_type": "code",
   "execution_count": 270,
   "metadata": {},
   "outputs": [
    {
     "name": "stdout",
     "output_type": "stream",
     "text": [
      "{'r': 3843, 't': 3743, 'k': 3725, 'p': 3879, 'e': 3818, 'm': 3936, 'n': 3914, 's': 3731, 'a': 3849, 'w': 3926, 'h': 3776, 'g': 3884, 'b': 3858, 'u': 3774, 'v': 3793, 'i': 3908, 'l': 3832, 'c': 3892, 'x': 3742, 'q': 3864, 'o': 3888, 'j': 3777, 'd': 3959, 'z': 3811, 'y': 3840, 'f': 4038}\n",
      "s\n"
     ]
    }
   ],
   "source": [
    "#function to identify Kth highest frequency elements if there are many such elememts return the smallest\n",
    "def highestfrequencyele(l,k):\n",
    "    unique={}\n",
    "    for ele in l:\n",
    "        if ele in unique:\n",
    "            unique[ele]+=1\n",
    "        else:\n",
    "            unique[ele]=1\n",
    "    print(unique)\n",
    "    #----------------------extract all unique frequencies in a list \n",
    "    maxfrqval=list(set(unique.values()))\n",
    "    #print(maxfrqval)\n",
    "    maxfrqval=sorted(maxfrqval,reverse=True)\n",
    "    if len(maxfrqval) > k:\n",
    "         kfrq=maxfrqval[k-1]\n",
    "    else:\n",
    "        return -1\n",
    "            \n",
    "    #print(maxfrqval)\n",
    "   \n",
    "    #print(maxfrqval[kfrq])\n",
    "    maxfrqchar=[]\n",
    "    for item in unique.items():\n",
    "        #print(item)\n",
    "        if item[1]==kfrq:\n",
    "            maxfrqchar.append(item[0])\n",
    "    print(min(maxfrqchar))\n",
    "        \n",
    "with open(fipath,'r') as f:\n",
    "    for line in f:\n",
    "        \n",
    "fipath='Desktop/APSSDC-Python-Programming-June-2019-master-akash/DataFiles/k-largest-frequency-input.txt'\n",
    "\n",
    "highestfrequencyele(,25)\n"
   ]
  },
  {
   "cell_type": "code",
   "execution_count": null,
   "metadata": {},
   "outputs": [],
   "source": []
  },
  {
   "cell_type": "code",
   "execution_count": null,
   "metadata": {},
   "outputs": [],
   "source": []
  }
 ],
 "metadata": {
  "kernelspec": {
   "display_name": "Python 3",
   "language": "python",
   "name": "python3"
  },
  "language_info": {
   "codemirror_mode": {
    "name": "ipython",
    "version": 3
   },
   "file_extension": ".py",
   "mimetype": "text/x-python",
   "name": "python",
   "nbconvert_exporter": "python",
   "pygments_lexer": "ipython3",
   "version": "3.7.3"
  }
 },
 "nbformat": 4,
 "nbformat_minor": 2
}
