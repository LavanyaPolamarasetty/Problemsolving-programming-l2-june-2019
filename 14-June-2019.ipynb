{
 "cells": [
  {
   "cell_type": "markdown",
   "metadata": {},
   "source": [
    "# Problem Solving and Programming in Python Day4\n",
    "\n",
    "## Date - 14 June 2019\n",
    "\n",
    "### Day Objectives\n",
    " * Python Data Structures\n",
    " * Lists\n",
    " * Tuples\n",
    " * Dictionaries\n",
    " * Basic Problem set on Data Structures\n",
    " * Advanced Problem Set\n",
    " * Packages and Modules in Python"
   ]
  },
  {
   "cell_type": "markdown",
   "metadata": {},
   "source": [
    "### Python Data Structures\n",
    " * Lists -- collection of homogeneous data -- Non-emmutable  "
   ]
  },
  {
   "cell_type": "code",
   "execution_count": 266,
   "metadata": {},
   "outputs": [
    {
     "data": {
      "text/plain": [
       "[123, 243, 334, 654, 233, 543, 937, 789, 403, 123, 243, 334, 654]"
      ]
     },
     "execution_count": 266,
     "metadata": {},
     "output_type": "execute_result"
    }
   ],
   "source": [
    "li= [123, 243, 987 , 234]\n",
    "li    # accessing the entire list\n",
    "li[0]  #    access an element with index in a list\n",
    "li[2]  # Access 3rd element\n",
    "li[-3]  # \n",
    "li[-2:]\n",
    "li[:-1]\n",
    "li[::-1] # reverse of a lisoriginal list , just copy of the list\n",
    "li     # original list doesn't change\n",
    "li= li[::-1]  # original list gets reversed\n",
    "li       # \n",
    "li = li[::-1]\n",
    "li        # again goes back original list and reassign to original list \n",
    "li[::2]  # accessing even index elements \n",
    "li[1::2]  # Accessing odd index elements\n",
    "li[0]  # accessing  elements using index as int \n",
    "############################ upto now we are accessing elements with Direct Referencing ##############################3\n",
    "\n",
    "\n",
    "\n",
    "# list can be accessed, manupulated in two different ways\n",
    "     # Direct Referencing - [index]\n",
    "     # Indirect Referencing - Through Functions\n",
    "\n",
    "\n",
    "li.append(334)# Adding an element to end of the list  at last \n",
    "li\n",
    "li.insert(2, 654) # Adding an elements at a particular index\n",
    "li\n",
    "li.sort() # sort all the elements in list\n",
    "li\n",
    "li.pop() # Remove the last element in alist\n",
    "li\n",
    "li.pop(1) # Remove the particular element in a list\n",
    "li\n",
    "li2 =[233,543, 937,403] # creating 2nd list\n",
    "li2\n",
    "li2.extend(li) # merge list1 into list2\n",
    "li2\n",
    "li.extend(li2)  # merge list2 into list1\n",
    "li\n",
    "sum(li) # sum of all elements in a list directly\n",
    "max(li)  # picked max  element in a list\n",
    "len(li) # to find the length of a list \n",
    "\n",
    "sum(li)/len(li) # Average of list elements\n",
    "\n",
    "sum(li[::2])/len(li)# average of even alternate elements \n",
    "sum(li[::2])\n",
    "len(li[::2])\n",
    "sum(li[::2])/len(li[::2])\n",
    "\n",
    "sum(li[1::2])/len(li[1::2]) # average of odd alternative element\n",
    "li.insert(7,789)\n",
    "li\n",
    "#li.remove(123) # removing an element by giving value\n",
    "li"
   ]
  },
  {
   "cell_type": "code",
   "execution_count": null,
   "metadata": {},
   "outputs": [],
   "source": [
    " # function to identify the second largest element in a list\n",
    "\n",
    "# process1:\n",
    "    \n",
    "    \n",
    "def seclargenum(li):\n",
    "    l=0\n",
    "    p=0\n",
    "    li.sort()\n",
    "    print(li)\n",
    "    p=len(li[:-2])\n",
    "    l=li[p]\n",
    "    print(l)\n",
    "i=input()\n",
    "seclargenum(li)\n",
    "     "
   ]
  },
  {
   "cell_type": "code",
   "execution_count": 230,
   "metadata": {},
   "outputs": [
    {
     "data": {
      "text/plain": [
       "789"
      ]
     },
     "execution_count": 230,
     "metadata": {},
     "output_type": "execute_result"
    }
   ],
   "source": [
    "# process2:\n",
    "li.sort()\n",
    "li\n",
    "li[-2]"
   ]
  },
  {
   "cell_type": "code",
   "execution_count": 201,
   "metadata": {},
   "outputs": [
    {
     "name": "stdout",
     "output_type": "stream",
     "text": [
      "[123, 123, 233, 243, 243, 334, 334, 403, 543, 654, 654, 789, 937]\n"
     ]
    },
    {
     "ename": "IndexError",
     "evalue": "list index out of range",
     "output_type": "error",
     "traceback": [
      "\u001b[1;31m---------------------------------------------------------------------------\u001b[0m",
      "\u001b[1;31mIndexError\u001b[0m                                Traceback (most recent call last)",
      "\u001b[1;32m<ipython-input-201-6ede7a20f470>\u001b[0m in \u001b[0;36m<module>\u001b[1;34m\u001b[0m\n\u001b[0;32m      6\u001b[0m             \u001b[0mprint\u001b[0m\u001b[1;33m(\u001b[0m\u001b[0mj\u001b[0m\u001b[1;33m,\u001b[0m\u001b[0mend\u001b[0m\u001b[1;33m=\u001b[0m\u001b[1;34m' '\u001b[0m\u001b[1;33m)\u001b[0m\u001b[1;33m\u001b[0m\u001b[1;33m\u001b[0m\u001b[0m\n\u001b[0;32m      7\u001b[0m \u001b[1;33m\u001b[0m\u001b[0m\n\u001b[1;32m----> 8\u001b[1;33m \u001b[0msedclargestnum\u001b[0m\u001b[1;33m(\u001b[0m\u001b[0mli\u001b[0m\u001b[1;33m)\u001b[0m\u001b[1;33m\u001b[0m\u001b[1;33m\u001b[0m\u001b[0m\n\u001b[0m",
      "\u001b[1;32m<ipython-input-201-6ede7a20f470>\u001b[0m in \u001b[0;36msedclargestnum\u001b[1;34m(li)\u001b[0m\n\u001b[0;32m      3\u001b[0m     \u001b[0mprint\u001b[0m\u001b[1;33m(\u001b[0m\u001b[0mli\u001b[0m\u001b[1;33m)\u001b[0m\u001b[1;33m\u001b[0m\u001b[1;33m\u001b[0m\u001b[0m\n\u001b[0;32m      4\u001b[0m     \u001b[1;32mfor\u001b[0m \u001b[0mi\u001b[0m \u001b[1;32min\u001b[0m \u001b[0mli\u001b[0m\u001b[1;33m:\u001b[0m\u001b[1;33m\u001b[0m\u001b[1;33m\u001b[0m\u001b[0m\n\u001b[1;32m----> 5\u001b[1;33m         \u001b[1;32mfor\u001b[0m \u001b[0mj\u001b[0m \u001b[1;32min\u001b[0m \u001b[0mli\u001b[0m\u001b[1;33m[\u001b[0m\u001b[0mi\u001b[0m\u001b[1;33m]\u001b[0m\u001b[1;33m:\u001b[0m\u001b[1;33m\u001b[0m\u001b[1;33m\u001b[0m\u001b[0m\n\u001b[0m\u001b[0;32m      6\u001b[0m             \u001b[0mprint\u001b[0m\u001b[1;33m(\u001b[0m\u001b[0mj\u001b[0m\u001b[1;33m,\u001b[0m\u001b[0mend\u001b[0m\u001b[1;33m=\u001b[0m\u001b[1;34m' '\u001b[0m\u001b[1;33m)\u001b[0m\u001b[1;33m\u001b[0m\u001b[1;33m\u001b[0m\u001b[0m\n\u001b[0;32m      7\u001b[0m \u001b[1;33m\u001b[0m\u001b[0m\n",
      "\u001b[1;31mIndexError\u001b[0m: list index out of range"
     ]
    }
   ],
   "source": [
    "# process3:\n",
    "def sedclargestnum(li):\n",
    "    li.sort()\n",
    "    print(li)\n",
    "    for i in li:\n",
    "        for j in li[i]:\n",
    "            print(j,end=' ')\n",
    "\n",
    "sedclargestnum(li)"
   ]
  },
  {
   "cell_type": "code",
   "execution_count": 312,
   "metadata": {},
   "outputs": [
    {
     "name": "stdout",
     "output_type": "stream",
     "text": [
      "[123, 233, 243, 334, 403, 543, 654, 789, 937]\n"
     ]
    },
    {
     "data": {
      "text/plain": [
       "789"
      ]
     },
     "execution_count": 312,
     "metadata": {},
     "output_type": "execute_result"
    }
   ],
   "source": [
    "l=[123, 123, 233, 243, 243, 334, 334, 403, 543, 654, 654, 789, 937]\n",
    "l2=[]\n",
    "for i in l:\n",
    "    if i not in l2:\n",
    "        l2.append(i)\n",
    "print(l2)\n",
    "max(l2)\n",
    "l2[-2]"
   ]
  },
  {
   "cell_type": "code",
   "execution_count": 246,
   "metadata": {},
   "outputs": [
    {
     "data": {
      "text/plain": [
       "654"
      ]
     },
     "execution_count": 246,
     "metadata": {},
     "output_type": "execute_result"
    }
   ],
   "source": [
    "#proccess4:\n",
    "li\n",
    "p=max(li)\n",
    "p\n",
    "li.remove(p)\n",
    "li\n",
    "li[-1]\n"
   ]
  },
  {
   "cell_type": "code",
   "execution_count": 251,
   "metadata": {},
   "outputs": [
    {
     "data": {
      "text/plain": [
       "[123, 123, 233, 243, 243, 334, 334, 403, 543, 654]"
      ]
     },
     "execution_count": 251,
     "metadata": {},
     "output_type": "execute_result"
    }
   ],
   "source": [
    "# FUnction that returns the Nth largest\n",
    "\n",
    "def genericlargest(li,n):\n",
    "    li.sort()\n",
    "    return li[-n]\n",
    "\n",
    "genericlargest(li, 1)\n",
    "li"
   ]
  },
  {
   "cell_type": "code",
   "execution_count": 285,
   "metadata": {},
   "outputs": [
    {
     "data": {
      "text/plain": [
       "1"
      ]
     },
     "execution_count": 285,
     "metadata": {},
     "output_type": "execute_result"
    }
   ],
   "source": [
    "# Function to search for data in a list\n",
    "# Search for the key in a list and return the\n",
    "#proccess1:\n",
    "def linearsearch(li, key):\n",
    "    for index in range (0, len(li)):\n",
    "        if li[index] == key:\n",
    "            return index\n",
    "    return -1\n",
    "linearsearch(li, 243)\n",
    "#li"
   ]
  },
  {
   "cell_type": "code",
   "execution_count": 284,
   "metadata": {},
   "outputs": [
    {
     "data": {
      "text/plain": [
       "1"
      ]
     },
     "execution_count": 284,
     "metadata": {},
     "output_type": "execute_result"
    }
   ],
   "source": [
    " # proccess2:\n",
    "def linearsearch2(li,key):\n",
    "    for element in li:\n",
    "        if element == key:\n",
    "            return li.index(element)\n",
    "    return -1\n",
    "linearsearch(li,243)\n",
    "#li"
   ]
  },
  {
   "cell_type": "code",
   "execution_count": 283,
   "metadata": {},
   "outputs": [
    {
     "data": {
      "text/plain": [
       "1"
      ]
     },
     "execution_count": 283,
     "metadata": {},
     "output_type": "execute_result"
    }
   ],
   "source": [
    "# process3:\n",
    "def linerasearch3(li,key):\n",
    "    if key in li:\n",
    "        return li.index(key)\n",
    "    return -1\n",
    "linerasearch3(li,243)"
   ]
  },
  {
   "cell_type": "code",
   "execution_count": 297,
   "metadata": {},
   "outputs": [
    {
     "data": {
      "text/plain": [
       "2"
      ]
     },
     "execution_count": 297,
     "metadata": {},
     "output_type": "execute_result"
    }
   ],
   "source": [
    "#   Function to count the occurances of a char in a string\n",
    "# \"Python Programming\" , m -> 2\n",
    "\n",
    "def countreapedchar(s, sub):\n",
    "    c=0\n",
    "    for i in s:\n",
    "        if i==sub:\n",
    "            c+=1\n",
    "    return c\n",
    "\n",
    "countreapedchar(\"Python Programming\", 'P')"
   ]
  },
  {
   "cell_type": "code",
   "execution_count": 298,
   "metadata": {},
   "outputs": [
    {
     "data": {
      "text/plain": [
       "2"
      ]
     },
     "execution_count": 298,
     "metadata": {},
     "output_type": "execute_result"
    }
   ],
   "source": [
    "# process2\n",
    "def countreapedchar2(s,sub):\n",
    "    return s.count(sub)\n",
    "countreapedchar2(\"Python Programming\", 'P')"
   ]
  },
  {
   "cell_type": "code",
   "execution_count": 307,
   "metadata": {},
   "outputs": [
    {
     "data": {
      "text/plain": [
       "2"
      ]
     },
     "execution_count": 307,
     "metadata": {},
     "output_type": "execute_result"
    }
   ],
   "source": [
    "# Function to find the number of occurances of \n",
    "# \"mercyluscy\" , \"cy\" -->2\n",
    " # process1:\n",
    "def countrepeatedstr(s,subs):\n",
    "    return s.count(subs)\n",
    "countrepeatedstr(\"cmercyluscccc\" , \"cc\")"
   ]
  },
  {
   "cell_type": "code",
   "execution_count": 33,
   "metadata": {},
   "outputs": [
    {
     "data": {
      "text/plain": [
       "3"
      ]
     },
     "execution_count": 33,
     "metadata": {},
     "output_type": "execute_result"
    }
   ],
   "source": [
    "# function to count substr in a given string\n",
    "def strcount(string,substr):\n",
    "    count=0\n",
    "    p=len(substr)\n",
    "    for i in range(0,len(string)):\n",
    "           if string[i:i+p]==substr:\n",
    "                count= count+1\n",
    "    return count\n",
    "strcount(\"abcabcddaaaa\",\"aa\")"
   ]
  },
  {
   "cell_type": "code",
   "execution_count": 323,
   "metadata": {},
   "outputs": [
    {
     "name": "stdout",
     "output_type": "stream",
     "text": [
      "[1, 2, 3, 4, 6]\n"
     ]
    }
   ],
   "source": [
    "# to convert list to integers\n",
    "s= \"1 2 3 4 6\"\n",
    "l=s.split()\n",
    "h=[]\n",
    "for i in l:\n",
    "    h.append(int(i))\n",
    "print(h)"
   ]
  },
  {
   "cell_type": "markdown",
   "metadata": {},
   "source": [
    "# Practice test on 14th June 2019\n",
    "\n",
    "#### find the sum of square of N natural numbers\n",
    "#### first "
   ]
  },
  {
   "cell_type": "code",
   "execution_count": null,
   "metadata": {},
   "outputs": [],
   "source": []
  },
  {
   "cell_type": "code",
   "execution_count": 3,
   "metadata": {},
   "outputs": [
    {
     "name": "stdout",
     "output_type": "stream",
     "text": [
      "4\n",
      "-2 4 5 3\n"
     ]
    },
    {
     "data": {
      "text/plain": [
       "'3'"
      ]
     },
     "execution_count": 3,
     "metadata": {},
     "output_type": "execute_result"
    }
   ],
   "source": [
    "# 2nd problem\n",
    "N= int(input())\n",
    "s = input()\n",
    "k=[]\n",
    "# 32154\n",
    "for i in s.split():\n",
    "    k.append(abs(int(i)))\n",
    "min(i)\n",
    "    \n"
   ]
  },
  {
   "cell_type": "code",
   "execution_count": null,
   "metadata": {},
   "outputs": [],
   "source": [
    "# process2:\n",
    "N= int(input())\n",
    "s = input()\n",
    "k=[]\n",
    "# 32154\n",
    "for i in s.split():\n",
    "    k.append(int(i))\n",
    "    \n",
    "def closestzero(k):\n",
    "    # seperate all numbers less than zero and take \n",
    "    # all numbers >= zero get min\n",
    "    #-1 2 5 -10 -20\n",
    "    # -20 -10 -1\n",
    "    n =[]\n",
    "    for i in k:\n",
    "        if i <0:\n",
    "            n.appen(y)\n",
    "    p=[]\n",
    "    for i in k:\n",
    "        if i>=0:\n",
    "            p.append(i)\n",
    "    if len(n)\n",
    "    nc=max(n)\n",
    "    pc=min(p)\n",
    "    \n",
    "    if pc ==0:\n",
    "        return 0\n",
    "    elif abs(nc)==pc:\n",
    "        return nc\n",
    "    elif abs(nc) < pc:\n",
    "        return abs(nc)\n",
    "    else:\n",
    "        return pc\n",
    "    \n",
    "closestzero(k)"
   ]
  },
  {
   "cell_type": "markdown",
   "metadata": {},
   "source": [
    "# Program to print zero closest value in a given array\n",
    "\n",
    "#### 10marks"
   ]
  },
  {
   "cell_type": "markdown",
   "metadata": {},
   "source": [
    " ### ***Explanation****\n",
    "    * li= [3,2,-1,-2,-3]\n",
    "    * sort the data\n",
    "    * li= [-3,-2,-1,2,3] (sorted list)\n",
    "    * pl= [1,2,2,3,3] (Positive sorted list)\n",
    "    * pl[0] --> check if this num is -ve or +ve in the \n",
    "    * if pl[0] in li:\n",
    "        * return pl[0]\n",
    "    * else:\n",
    "        * return -pl[0]\n",
    "    "
   ]
  },
  {
   "cell_type": "code",
   "execution_count": 10,
   "metadata": {},
   "outputs": [
    {
     "name": "stdout",
     "output_type": "stream",
     "text": [
      "1\n"
     ]
    }
   ],
   "source": [
    "## find out the greastest & closest to zero value \n",
    "li =[-1 ,-2,2,1,3]\n",
    "li.sort()\n",
    "pl= []\n",
    "for i in li:\n",
    "    pl.append(abs(i))\n",
    "pl.sort()\n",
    "if pl[0] in li:\n",
    "    print(pl[0])\n",
    "else:\n",
    "    print(-pl[0])\n"
   ]
  },
  {
   "cell_type": "code",
   "execution_count": 5,
   "metadata": {},
   "outputs": [
    {
     "name": "stdout",
     "output_type": "stream",
     "text": [
      "-1\n"
     ]
    }
   ],
   "source": [
    "## find out the smallest & closest to zero value \n",
    "l =[3,4,-2,-4,-1]\n",
    "l.sort()\n",
    "pl= []\n",
    "for i in l:\n",
    "    pl.append(abs(i))\n",
    "pl.sort()\n",
    "if -pl[0] in l:\n",
    "    print(-pl[0])\n",
    "else:\n",
    "    print(pl[0])\n"
   ]
  },
  {
   "cell_type": "code",
   "execution_count": 9,
   "metadata": {},
   "outputs": [
    {
     "name": "stdout",
     "output_type": "stream",
     "text": [
      "-100\n"
     ]
    },
    {
     "data": {
      "text/plain": [
       "[1, 2, 3, 4, 4, 100]"
      ]
     },
     "execution_count": 9,
     "metadata": {},
     "output_type": "execute_result"
    }
   ],
   "source": [
    "## find out the far to zero value \n",
    "l =[3,4,-2,-4,-1,-100]\n",
    "l.sort()\n",
    "pl= []\n",
    "for i in l:\n",
    "    pl.append(abs(i))\n",
    "pl.sort()\n",
    "if -pl[0] in l:\n",
    "    print(-pl[-1])\n",
    "else:\n",
    "    print(pl[-1])\n",
    "pl"
   ]
  },
  {
   "cell_type": "code",
   "execution_count": 17,
   "metadata": {},
   "outputs": [
    {
     "name": "stdout",
     "output_type": "stream",
     "text": [
      "4\n"
     ]
    }
   ],
   "source": [
    "## find out the greastest & far  to zero value \n",
    "l =[3,4,-2,-4,-1]\n",
    "l.sort()\n",
    "pl= []\n",
    "for i in l:\n",
    "    pl.append(abs(i))\n",
    "pl.sort()\n",
    "if -pl[0] in l:\n",
    "    print(pl[-1])\n",
    "else:\n",
    "    print(-pl[-1])"
   ]
  },
  {
   "cell_type": "markdown",
   "metadata": {},
   "source": [
    "# Problem 3:\n",
    "\n",
    "### 15marks\n",
    "\n",
    " * Given with three numbers a,b,c.Write the program to find the largest number which is less than or equal to c and leaves         remainder b when didvided by a else return -1\n",
    "       * 2\n",
    "       * 3 2 9 --> a , b , c \n",
    "         * 9 % 3==0 \n",
    "         * 8 % 3==2\n",
    "        \n",
    "       * 1 2 4\n",
    "         * 4 % 1==0\n",
    "         * 3 % 1==0\n",
    "         * 2 % 1==0\n",
    "         * 1 % 1==0\n",
    "         * 0 % 1==0\n",
    "           * Their is no output of this combinations so return -1\n",
    "         \n"
   ]
  },
  {
   "cell_type": "code",
   "execution_count": 28,
   "metadata": {},
   "outputs": [
    {
     "data": {
      "text/plain": [
       "8"
      ]
     },
     "execution_count": 28,
     "metadata": {},
     "output_type": "execute_result"
    }
   ],
   "source": [
    "def cal(a,b,c):\n",
    "    for i in range (c,a-1,-1):\n",
    "        if i % a ==b:\n",
    "            return i\n",
    "    return -1\n",
    "cal(3,2,9)\n",
    "#cal(1,2,4)"
   ]
  },
  {
   "cell_type": "code",
   "execution_count": 34,
   "metadata": {},
   "outputs": [
    {
     "data": {
      "text/plain": [
       "-1"
      ]
     },
     "execution_count": 34,
     "metadata": {},
     "output_type": "execute_result"
    }
   ],
   "source": [
    "def cal2(a,b,c):\n",
    "    l=[]\n",
    "    for i in range (1,c+1):\n",
    "        if i%a==b:\n",
    "            l.append(i)\n",
    "    if len(l)==0:\n",
    "        return -1\n",
    "    else:\n",
    "        return max(l)\n",
    "cal2(3,2,9)  \n",
    "cal2(1,2,4)"
   ]
  },
  {
   "cell_type": "markdown",
   "metadata": {},
   "source": [
    "#### Complete the sockMerchant function in the editor below. It must return an integer representing the number of matching pairs of socks that are available.\n",
    "\n",
    " * sockMerchant has the following parameter(s):\n",
    "\n",
    " * n: the number of socks in the pile\n",
    " * ar: the colors of each sock"
   ]
  },
  {
   "cell_type": "code",
   "execution_count": null,
   "metadata": {},
   "outputs": [],
   "source": [
    "i=int(input())\n"
   ]
  }
 ],
 "metadata": {
  "kernelspec": {
   "display_name": "Python 3",
   "language": "python",
   "name": "python3"
  },
  "language_info": {
   "codemirror_mode": {
    "name": "ipython",
    "version": 3
   },
   "file_extension": ".py",
   "mimetype": "text/x-python",
   "name": "python",
   "nbconvert_exporter": "python",
   "pygments_lexer": "ipython3",
   "version": "3.7.3"
  }
 },
 "nbformat": 4,
 "nbformat_minor": 2
}
