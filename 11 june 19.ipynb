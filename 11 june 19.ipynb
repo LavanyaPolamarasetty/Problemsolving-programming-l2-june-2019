{
 "cells": [
  {
   "cell_type": "markdown",
   "metadata": {},
   "source": [
    "######  *Notebook Basics*\n",
    "\n",
    "* **Bold** <br>\n",
    "* *italic* <br>\n",
    "* ***bt*** <br>\n",
    "* normal text\n",
    "  * subtitle \n",
    "  * subtitle2 <br>\n",
    "  \n",
    "> 1.Ordered list 1 <br>\n",
    "> 2.Ordered list 2\n",
    "\n",
    "- [ ] option1\n",
    "- [ ] option2\n",
    "- [x] Option3<br>\n",
    "\n",
    "\n",
    "\n",
    "[Jupyter logo](jupyterlog.png)\n",
    "![Jupyter logo](jupyterlog.png)\n",
    " <img src=\"jupyterlog.png\" style=\"float:right\">\n",
    " \n",
    "I get 10 times more traffic from [Google] [1] than from\n",
    "[Yahoo] [2] or [MSN] [3].\n",
    "\n",
    "  [1]: http://google.com/        \"Google\"\n",
    "  [2]: http://search.yahoo.com/  \"Yahoo Search\"\n",
    "  [3]: http://search.msn.com/    \"MSN Search\" \n",
    "  \n",
    "\n",
    " `printf(\"Hello Markdown\")`\n",
    " \n",
    " \n",
    "  `markdown@google.com`\n",
    " "
   ]
  },
  {
   "cell_type": "markdown",
   "metadata": {},
   "source": [
    "## Python Basics"
   ]
  },
  {
   "cell_type": "markdown",
   "metadata": {},
   "source": [
    "## Python 3.7\n",
    "\n",
    "* Scripting \n",
    "* Object oriented\n",
    "* Functional"
   ]
  },
  {
   "cell_type": "code",
   "execution_count": 8,
   "metadata": {},
   "outputs": [
    {
     "name": "stdout",
     "output_type": "stream",
     "text": [
      "Good afternoon..! mercy ||Hello python\n"
     ]
    }
   ],
   "source": [
    "# python comments\n",
    "\n",
    "print(\"Good afternoon..!\",\"mercy\",end=' ||') # basic output\n",
    "print(\"Hello python\")\n"
   ]
  },
  {
   "cell_type": "markdown",
   "metadata": {},
   "source": [
    "## Assignment"
   ]
  },
  {
   "cell_type": "code",
   "execution_count": 20,
   "metadata": {},
   "outputs": [
    {
     "name": "stdout",
     "output_type": "stream",
     "text": [
      "12 23 44\n"
     ]
    }
   ],
   "source": [
    "n1 = 123456 # single variable assignment\n",
    "\n",
    "n2=n3=n4=n1  # multi variable assignment of the same value\n",
    "n4\n",
    "\n",
    "a,b,c=12,23,44# multi variable assignment with different values\n",
    "a\n",
    "b\n",
    "c\n",
    "a,b,c\n",
    "print(a,b,c)\n",
    "\n"
   ]
  },
  {
   "cell_type": "code",
   "execution_count": null,
   "metadata": {},
   "outputs": [],
   "source": [
    "type(a)"
   ]
  },
  {
   "cell_type": "markdown",
   "metadata": {},
   "source": [
    "## Data types\n",
    " - int\n",
    " - float \n",
    " - string \n",
    " - double"
   ]
  },
  {
   "cell_type": "markdown",
   "metadata": {},
   "source": [
    "## Arthmetic Operations\n",
    "* +\n",
    "* -\n",
    "* *\n",
    "* %\n",
    "* /\n",
    "* **\n"
   ]
  },
  {
   "cell_type": "code",
   "execution_count": null,
   "metadata": {},
   "outputs": [],
   "source": [
    "n1=5\n",
    "n1"
   ]
  },
  {
   "cell_type": "code",
   "execution_count": null,
   "metadata": {},
   "outputs": [],
   "source": []
  }
 ],
 "metadata": {
  "kernelspec": {
   "display_name": "Python 3",
   "language": "python",
   "name": "python3"
  },
  "language_info": {
   "codemirror_mode": {
    "name": "ipython",
    "version": 3
   },
   "file_extension": ".py",
   "mimetype": "text/x-python",
   "name": "python",
   "nbconvert_exporter": "python",
   "pygments_lexer": "ipython3",
   "version": "3.7.3"
  }
 },
 "nbformat": 4,
 "nbformat_minor": 2
}
