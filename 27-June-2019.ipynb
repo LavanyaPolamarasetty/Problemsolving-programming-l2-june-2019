{
 "cells": [
  {
   "cell_type": "code",
   "execution_count": null,
   "metadata": {},
   "outputs": [],
   "source": [
    "# Function to identify Kth smallest frequency elements if there are many such elememts return the smallest\n",
    "\n"
   ]
  },
  {
   "cell_type": "code",
   "execution_count": 19,
   "metadata": {},
   "outputs": [
    {
     "name": "stdout",
     "output_type": "stream",
     "text": [
      "1 2 3 \n",
      "\n",
      "1 2 4 \n",
      "\n",
      "1 2 5 \n",
      "\n",
      "1 3 4 \n",
      "\n",
      "1 3 5 \n",
      "\n",
      "1 4 5 \n",
      "\n",
      "2 3 4 \n",
      "\n",
      "2 3 5 \n",
      "\n",
      "2 4 5 \n",
      "\n",
      "3 4 5 \n",
      "\n"
     ]
    }
   ],
   "source": [
    "# PROBLEM3: Function to print all combinations of pairs of integers in a unique list\n",
    "# [1,2,3]-->(1,2),(1,3),(2,3) --> 3C2 --> 3!/(3-2)!*2!)\n",
    "# [1,2,3,4]---> 1,2  1,3  1,4  2,3  2,4  3,4\n",
    "\n",
    "def combinations3(l):\n",
    "    for i in range(len(l)-2):\n",
    "        for j in range(i+1,len(l)-1):\n",
    "            for k in range(j+1,len(l)):\n",
    "                print(l[i],l[j],l[k],\"\\n\")\n",
    "combinations3([1,2,3,4,5])      "
   ]
  },
  {
   "cell_type": "code",
   "execution_count": 5,
   "metadata": {},
   "outputs": [
    {
     "data": {
      "text/plain": [
       "[1, 9, 8, 7, 2]"
      ]
     },
     "execution_count": 5,
     "metadata": {},
     "output_type": "execute_result"
    }
   ],
   "source": [
    "\n",
    "\n",
    "def differencePairs(l):\n",
    "    cl=l\n",
    "    for i in range(len(cl)-1):\n",
    "        for j in range(i+1,len(cl)):\n",
    "            d= abs(l[i]-l[j])\n",
    "            if d not in cl:\n",
    "                cl.append(d)\n",
    "    return cl\n",
    "\n",
    "differencePairs([1,9,8])                "
   ]
  },
  {
   "cell_type": "code",
   "execution_count": 80,
   "metadata": {},
   "outputs": [
    {
     "ename": "TypeError",
     "evalue": "medium() missing 1 required positional argument: 'k'",
     "output_type": "error",
     "traceback": [
      "\u001b[1;31m---------------------------------------------------------------------------\u001b[0m",
      "\u001b[1;31mTypeError\u001b[0m                                 Traceback (most recent call last)",
      "\u001b[1;32m<ipython-input-80-a712dec6d4ee>\u001b[0m in \u001b[0;36m<module>\u001b[1;34m\u001b[0m\n\u001b[0;32m     30\u001b[0m \u001b[1;33m\u001b[0m\u001b[0m\n\u001b[0;32m     31\u001b[0m \u001b[0ml\u001b[0m\u001b[1;33m=\u001b[0m\u001b[1;33m[\u001b[0m\u001b[1;36m1\u001b[0m\u001b[1;33m,\u001b[0m\u001b[1;36m32\u001b[0m\u001b[1;33m]\u001b[0m\u001b[1;33m\u001b[0m\u001b[1;33m\u001b[0m\u001b[0m\n\u001b[1;32m---> 32\u001b[1;33m \u001b[0mprint\u001b[0m\u001b[1;33m(\u001b[0m\u001b[0mmedium\u001b[0m\u001b[1;33m(\u001b[0m\u001b[0ml\u001b[0m\u001b[1;33m)\u001b[0m\u001b[1;33m,\u001b[0m\u001b[1;36m2\u001b[0m\u001b[1;33m)\u001b[0m\u001b[1;33m\u001b[0m\u001b[1;33m\u001b[0m\u001b[0m\n\u001b[0m",
      "\u001b[1;31mTypeError\u001b[0m: medium() missing 1 required positional argument: 'k'"
     ]
    }
   ],
   "source": [
    "#process2:\n",
    "def medium(l,k):\n",
    "    while(True):\n",
    "        li3=differencePairs(l)\n",
    "        if li3[0]==li3[1]:\n",
    "            break\n",
    "    if len(li3[0]) >= k:\n",
    "        return sorted(li3[0],reverse=True)[k-1]    \n",
    "    return -1\n",
    "# function to identify differences of all pair numbers\n",
    "# pairs of numbers and add those differences and add to the same list \n",
    "def differencePairs(l):\n",
    "    cl=l[:]\n",
    "    newelements=[]\n",
    "    for i in range(len(l)-1):\n",
    "        for j in range(i+1,len(l)):\n",
    "            d= abs(l[i]-l[j])\n",
    "            if d not in l and d not in newelements:\n",
    "                newelements.append(d)\n",
    "    l.extend(newelements)\n",
    "    return [cl,l]\n",
    "fipath='Files/medium-input.txt'\n",
    "with open(fipath,'r') as f:\n",
    "    t=int(f.readline())\n",
    "    for i in range(t):\n",
    "        f.readline()\n",
    "        l=f.readline().split()\n",
    "        k= int(f.readline())\n",
    "        \n",
    "            \n",
    "l=[1,32]                \n",
    "print(medium(l),2)"
   ]
  },
  {
   "cell_type": "code",
   "execution_count": 64,
   "metadata": {},
   "outputs": [
    {
     "data": {
      "text/plain": [
       "[3, 1, 2, 5]"
      ]
     },
     "execution_count": 64,
     "metadata": {},
     "output_type": "execute_result"
    }
   ],
   "source": [
    "a=[1,2,3]\n",
    "b=[3,1,2]\n",
    "a=b\n",
    "b.append(5)\n",
    "a"
   ]
  },
  {
   "cell_type": "code",
   "execution_count": 86,
   "metadata": {},
   "outputs": [
    {
     "data": {
      "text/plain": [
       "[2, 4, 5]"
      ]
     },
     "execution_count": 86,
     "metadata": {},
     "output_type": "execute_result"
    }
   ],
   "source": [
    "l=[2,4,5]\n",
    "c=[]\n",
    "c=l.copy()\n",
    "l.append(7)\n",
    "\n",
    "c\n"
   ]
  },
  {
   "cell_type": "code",
   "execution_count": 76,
   "metadata": {},
   "outputs": [
    {
     "data": {
      "text/plain": [
       "[3, 6, 9, 12]"
      ]
     },
     "execution_count": 76,
     "metadata": {},
     "output_type": "execute_result"
    }
   ],
   "source": [
    "[4,8]\n",
    "[20,40,60]\n",
    "[4,8,12,16]\n",
    "[3,6,9,12]\n",
    "# Convert the list into an\n",
    "# Arithmetic Progression"
   ]
  },
  {
   "cell_type": "markdown",
   "metadata": {},
   "source": [
    "# Set - Data Structure in Python\n",
    "    * Represented by  '{}'\n",
    "    * Repeated elements are removed and given a unique data"
   ]
  },
  {
   "cell_type": "code",
   "execution_count": 93,
   "metadata": {},
   "outputs": [
    {
     "name": "stdout",
     "output_type": "stream",
     "text": [
      "1 2 3 4 5 6 9 "
     ]
    }
   ],
   "source": [
    "a={1,2,3,4,5,6,4,3,2}\n",
    "a.add(9) --> adding a single elements to a set\n",
    "a\n",
    "for i in a:\n",
    "    print(i,end=' ')"
   ]
  },
  {
   "cell_type": "code",
   "execution_count": 140,
   "metadata": {},
   "outputs": [
    {
     "data": {
      "text/plain": [
       "{0, 1, 8, 10, 147, 999}"
      ]
     },
     "execution_count": 140,
     "metadata": {},
     "output_type": "execute_result"
    }
   ],
   "source": [
    "# adding a multiple elements in a single to a set\n",
    "b={1,0,8,10,147,999}\n",
    "l=[]\n",
    "#a.update(b)\n",
    "a.discard(9)\n",
    "b"
   ]
  },
  {
   "cell_type": "code",
   "execution_count": 128,
   "metadata": {},
   "outputs": [
    {
     "name": "stdout",
     "output_type": "stream",
     "text": [
      "{0, 1, 2, 3, 4, 5, 6, 7, 8, 10, 147}\n",
      "{0, 1, 8, 10, 147}\n"
     ]
    },
    {
     "data": {
      "text/plain": [
       "{0, 1, 2, 3, 4, 5, 6, 7, 8, 10, 147}"
      ]
     },
     "execution_count": 128,
     "metadata": {},
     "output_type": "execute_result"
    }
   ],
   "source": [
    "print(a)\n",
    "print(b)\n",
    "a.union(b) #---> it used to get all elements in 2 set"
   ]
  },
  {
   "cell_type": "code",
   "execution_count": 117,
   "metadata": {},
   "outputs": [
    {
     "data": {
      "text/plain": [
       "{0, 1, 8, 10}"
      ]
     },
     "execution_count": 117,
     "metadata": {},
     "output_type": "execute_result"
    }
   ],
   "source": [
    "a.intersection(b) #----> it used to get only common elements in a 2 set"
   ]
  },
  {
   "cell_type": "code",
   "execution_count": 115,
   "metadata": {},
   "outputs": [
    {
     "data": {
      "text/plain": [
       "True"
      ]
     },
     "execution_count": 115,
     "metadata": {},
     "output_type": "execute_result"
    }
   ],
   "source": [
    "c={111,123}\n",
    "a.isdisjoint(b) #--->If their is no common elements in both sets then it returns True else False\n",
    "a.isdisjoint(c)"
   ]
  },
  {
   "cell_type": "code",
   "execution_count": 149,
   "metadata": {},
   "outputs": [
    {
     "data": {
      "text/plain": [
       "{999}"
      ]
     },
     "execution_count": 149,
     "metadata": {},
     "output_type": "execute_result"
    }
   ],
   "source": [
    "a-b # ---> it removes common elements and returns only remaining A set \n",
    "b-a # ---> it remove common elements and return only remaining B set"
   ]
  },
  {
   "cell_type": "code",
   "execution_count": 148,
   "metadata": {},
   "outputs": [
    {
     "name": "stdout",
     "output_type": "stream",
     "text": [
      "{0, 1, 2, 3, 4, 5, 6, 7, 8, 10, 147}\n",
      "{0, 1, 999, 8, 10, 147}\n"
     ]
    },
    {
     "data": {
      "text/plain": [
       "{2, 3, 4, 5, 6, 7, 999}"
      ]
     },
     "execution_count": 148,
     "metadata": {},
     "output_type": "execute_result"
    }
   ],
   "source": [
    "print(a)\n",
    "print(b)\n",
    "a^b  # elements either in A or in B\n",
    "b^a "
   ]
  },
  {
   "cell_type": "code",
   "execution_count": 145,
   "metadata": {},
   "outputs": [
    {
     "data": {
      "text/plain": [
       "set()"
      ]
     },
     "execution_count": 145,
     "metadata": {},
     "output_type": "execute_result"
    }
   ],
   "source": [
    "d= set() #--> creating an empty set\n",
    "d"
   ]
  },
  {
   "cell_type": "code",
   "execution_count": 146,
   "metadata": {},
   "outputs": [
    {
     "data": {
      "text/plain": [
       "{1, 2, 3, 4, 5}"
      ]
     },
     "execution_count": 146,
     "metadata": {},
     "output_type": "execute_result"
    }
   ],
   "source": [
    "l=[1,2,3,4,5,5,4,3,2]\n",
    "u=set(l)\n",
    "u"
   ]
  },
  {
   "cell_type": "markdown",
   "metadata": {},
   "source": [
    "# Functional Programming\n",
    "\n",
    "Procedural : C\n",
    "\n",
    "Object Oriented : Java\n",
    "        \n",
    "Scripting : PHP , Python , Javascript, Shell, Perl\n",
    "    \n",
    "Functional : Python , Haskell , Scala \n",
    "    \n",
    "Logic  : Prolog , Lisp"
   ]
  },
  {
   "cell_type": "markdown",
   "metadata": {},
   "source": [
    "# List Comprehensions\n"
   ]
  },
  {
   "cell_type": "code",
   "execution_count": 152,
   "metadata": {},
   "outputs": [
    {
     "data": {
      "text/plain": [
       "[0, 1, 2, 3, 4, 5, 6, 7, 8, 9]"
      ]
     },
     "execution_count": 152,
     "metadata": {},
     "output_type": "execute_result"
    }
   ],
   "source": [
    "# list of N natural numbers in a list\n",
    "\n",
    "n=10\n",
    "l=[]\n",
    "for i in range(n):\n",
    "    l.append(i)\n",
    "l"
   ]
  },
  {
   "cell_type": "code",
   "execution_count": 154,
   "metadata": {},
   "outputs": [
    {
     "data": {
      "text/plain": [
       "[1, 2, 3, 4, 5, 6, 7, 8, 9, 10]"
      ]
     },
     "execution_count": 154,
     "metadata": {},
     "output_type": "execute_result"
    }
   ],
   "source": [
    "l=[i for i in range(1,11)]\n",
    "l"
   ]
  },
  {
   "cell_type": "code",
   "execution_count": 157,
   "metadata": {},
   "outputs": [
    {
     "data": {
      "text/plain": [
       "[1, 8, 27, 64, 125, 216, 343, 512, 729, 1000]"
      ]
     },
     "execution_count": 157,
     "metadata": {},
     "output_type": "execute_result"
    }
   ],
   "source": [
    "# Apply list comprehension to store the cubes on N natural numbers\n",
    "l=[i**3 for i in range(1,11)]\n",
    "l"
   ]
  },
  {
   "cell_type": "code",
   "execution_count": null,
   "metadata": {},
   "outputs": [],
   "source": [
    "# function to calculate factorial\n",
    "\n",
    "\n",
    "num="
   ]
  },
  {
   "cell_type": "code",
   "execution_count": 164,
   "metadata": {},
   "outputs": [
    {
     "name": "stdout",
     "output_type": "stream",
     "text": [
      "[0, 1, 3, 6, 10, 15]\n"
     ]
    }
   ],
   "source": [
    "# calculate or store cumaletive sum of numbers till n in a list\n",
    "# ex: if n=3  ---> [1,3,6] sum(0-1),sum(0-2), sum(0,3)\n",
    "j=5\n",
    "t=0\n",
    "l=[]\n",
    "for i in range(j+1):\n",
    "    t+=i\n",
    "    l.append(t)\n",
    "print(l)\n"
   ]
  },
  {
   "cell_type": "code",
   "execution_count": 184,
   "metadata": {},
   "outputs": [
    {
     "data": {
      "text/plain": [
       "[0, 1, 3, 6, 10, 15]"
      ]
     },
     "execution_count": 184,
     "metadata": {},
     "output_type": "execute_result"
    }
   ],
   "source": [
    "j=5\n",
    "lp=[sum(range(1,i+1)) for i in range(j+1)]\n",
    "lp"
   ]
  },
  {
   "cell_type": "code",
   "execution_count": 187,
   "metadata": {},
   "outputs": [],
   "source": [
    "# List comprehension to store only leap year in a given time period \n",
    "def leapyear(i):\n",
    "    for i in range(startyear,endyear):\n",
    "        if i%400==0 or i%40==0 and i%100!=0:\n",
    "            print(i,end='')\n",
    "            \n",
    "startyear=1970\n",
    "endyear=2019\n",
    "leapyears=[]"
   ]
  },
  {
   "cell_type": "markdown",
   "metadata": {},
   "source": [
    "# Iterators\n",
    "         Iterable ----> Strings,tuples,list,set,Dictionaries\n",
    "         Convert Iterable to Iterator---> iter()\n",
    "         For Loop:\n",
    "         \n",
    "         iterator:"
   ]
  },
  {
   "cell_type": "code",
   "execution_count": 207,
   "metadata": {},
   "outputs": [
    {
     "name": "stdout",
     "output_type": "stream",
     "text": [
      "1:\n",
      "P\n",
      "2:\n",
      "y\n",
      "3:\n",
      "t\n",
      "4:\n",
      "h\n",
      "5:\n",
      "o\n"
     ]
    }
   ],
   "source": [
    "it=iter(\"Python\")\n",
    "print(\"1:\")\n",
    "print(next(it))\n",
    "print(\"2:\")\n",
    "print(next(it))\n",
    "print(\"3:\")\n",
    "print(next(it))\n",
    "print(\"4:\")\n",
    "print(next(it))\n",
    "print(\"5:\")\n",
    "print(next(it))"
   ]
  },
  {
   "cell_type": "markdown",
   "metadata": {},
   "source": [
    "# Generators\n",
    "    \n",
    "        Generators in Function"
   ]
  },
  {
   "cell_type": "code",
   "execution_count": 228,
   "metadata": {},
   "outputs": [
    {
     "name": "stdout",
     "output_type": "stream",
     "text": [
      "2\n",
      "8\n",
      "64\n"
     ]
    }
   ],
   "source": [
    "def gen():\n",
    "    n=2\n",
    "    yield n\n",
    "    \n",
    "    n=n**3\n",
    "    yield n\n",
    "    \n",
    "    n=n**2\n",
    "    yield n\n",
    "a=gen()\n",
    "print(next(a))\n",
    "print(next(a))\n",
    "print(next(a))"
   ]
  },
  {
   "cell_type": "code",
   "execution_count": 227,
   "metadata": {},
   "outputs": [
    {
     "name": "stdout",
     "output_type": "stream",
     "text": [
      "8\n",
      "512\n",
      "134217728\n",
      "2417851639229258349412352\n",
      "14134776518227074636666380005943348126619871175004951664972849610340958208\n"
     ]
    }
   ],
   "source": [
    "def gen(): # ----> generator is generally a class\n",
    "    n=2\n",
    "    while True:  #for i in range(1,6):\n",
    "        n **=3\n",
    "        yield n\n",
    "        \n",
    "        \n",
    "a=gen()\n",
    "for i in range(5):\n",
    "    print(next(a))\n"
   ]
  },
  {
   "cell_type": "code",
   "execution_count": null,
   "metadata": {},
   "outputs": [],
   "source": []
  }
 ],
 "metadata": {
  "kernelspec": {
   "display_name": "Python 3",
   "language": "python",
   "name": "python3"
  },
  "language_info": {
   "codemirror_mode": {
    "name": "ipython",
    "version": 3
   },
   "file_extension": ".py",
   "mimetype": "text/x-python",
   "name": "python",
   "nbconvert_exporter": "python",
   "pygments_lexer": "ipython3",
   "version": "3.7.3"
  }
 },
 "nbformat": 4,
 "nbformat_minor": 2
}
