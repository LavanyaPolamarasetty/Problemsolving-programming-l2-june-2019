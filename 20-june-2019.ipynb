{
 "cells": [
  {
   "cell_type": "markdown",
   "metadata": {},
   "source": [
    "# File Handling\n",
    " - File - Document containing some information residing on the Types - txt,pdf,csv,jpg,...etc..\n",
    " - File I/O - Chanelling I/O data to files default I/O - keyboard /Screen\n",
    " - Change I/O channel to files for reading and writing\n",
    " - Modes of Operations\n",
    "     * Read mode   (r)\n",
    "     * Write mode  (w)\n",
    "     * Append mode (a)\n",
    " - read a file -input write a file - output read/write file - open (filename,mode)"
   ]
  },
  {
   "cell_type": "code",
   "execution_count": 6,
   "metadata": {},
   "outputs": [
    {
     "name": "stdout",
     "output_type": "stream",
     "text": [
      "name in mer 1\n",
      "name in mer 2\n",
      "name in mer 3\n",
      "name in mer 4\n"
     ]
    }
   ],
   "source": [
    "# function to read data from data file \n",
    "def readFile(filename):\n",
    "    f=open(filename,'r')\n",
    "    filedata=f.read()\n",
    "    print(filedata,end='\\n')\n",
    "    f.close()\n",
    "    return filedata\n",
    "filename='Files/data.txt'\n",
    "re=readFile(filename)\n"
   ]
  },
  {
   "cell_type": "code",
   "execution_count": 28,
   "metadata": {},
   "outputs": [],
   "source": [
    "# function to write data into file \n",
    "\n",
    "def writefile(filename,filedata):\n",
    "    #with open(filename,'w') as f:\n",
    "        f=open(filename,'w')\n",
    "        f.write(filedata)    \n",
    "\n",
    "filename ='Files/data.txt'\n",
    "writefile(filename,\"helloooo iiit hello\")"
   ]
  },
  {
   "cell_type": "code",
   "execution_count": 8,
   "metadata": {},
   "outputs": [],
   "source": [
    "# function to append data to already existing data in a file\n",
    "\n",
    "def apppend(filename,filedata):\n",
    "    #with open(filename,'a')as f:\n",
    "        f=open(filename,'a')\n",
    "        f.write(filedata)\n",
    "    #return\n",
    "filename='Files/data.txt'\n",
    "apppend(filename,\"\\twelcome iiit\")"
   ]
  },
  {
   "cell_type": "code",
   "execution_count": null,
   "metadata": {},
   "outputs": [],
   "source": []
  },
  {
   "cell_type": "code",
   "execution_count": 34,
   "metadata": {},
   "outputs": [
    {
     "data": {
      "text/plain": [
       "{'Mercy': '9505305452'}"
      ]
     },
     "execution_count": 34,
     "metadata": {},
     "output_type": "execute_result"
    }
   ],
   "source": [
    "contacts"
   ]
  },
  {
   "cell_type": "code",
   "execution_count": null,
   "metadata": {},
   "outputs": [],
   "source": []
  }
 ],
 "metadata": {
  "kernelspec": {
   "display_name": "Python 3",
   "language": "python",
   "name": "python3"
  },
  "language_info": {
   "codemirror_mode": {
    "name": "ipython",
    "version": 3
   },
   "file_extension": ".py",
   "mimetype": "text/x-python",
   "name": "python",
   "nbconvert_exporter": "python",
   "pygments_lexer": "ipython3",
   "version": "3.7.3"
  }
 },
 "nbformat": 4,
 "nbformat_minor": 2
}
