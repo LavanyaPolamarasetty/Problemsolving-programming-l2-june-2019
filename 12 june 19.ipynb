{
 "cells": [
  {
   "cell_type": "markdown",
   "metadata": {},
   "source": [
    "# Problem Solving and Programming\n",
    "### DAte 12 June 2019\n",
    "### Day Objectives\n",
    " * String Slicing\n",
    " * Functions in python\n",
    " * Basic Problems related to conditional statements using functions\n",
    " * Iteration in Python\n",
    " * Python Data structures - Lists, Tuples and  Dictionaries\n",
    " * Basic Operations data structures\n",
    " * Applying Data Structures to solve problems"
   ]
  },
  {
   "cell_type": "code",
   "execution_count": null,
   "metadata": {},
   "outputs": [],
   "source": []
  },
  {
   "cell_type": "markdown",
   "metadata": {},
   "source": [
    "## String Slicing"
   ]
  },
  {
   "cell_type": "code",
   "execution_count": 200,
   "metadata": {},
   "outputs": [
    {
     "data": {
      "text/plain": [
       "'nhy'"
      ]
     },
     "execution_count": 200,
     "metadata": {},
     "output_type": "execute_result"
    }
   ],
   "source": [
    "s1= \"python\"\n",
    "s1[0] # accessing first char\n",
    "s1[-1] # accessing the last char in str\n",
    "s1[1] # accessing the second char in str\n",
    "s1[len(s1)-1] # accessing last char in a given str without knowing len of str\n",
    "\n",
    "s1[-2] # accessing last but one char or penultimate of a given str \n",
    "s1[0:2] # it stops [first,end-1]\n",
    "s1[-2:] # last two char from str but don't want len of the str\n",
    "# or\n",
    "s1[4:] # last two char from str but here we need the length of the str // string from 5th index char to end of str  \n",
    "s1[len(s1)-2:] # by using len of str\n",
    "\n",
    "s1[1:-1] # accessing all characters except first and last character\n",
    "s1[int(len(s1)/2)] # accessing middle chat in a str\n",
    "# or\n",
    "s1[len(s1)//2] \n",
    "s1[-1::-1] # reverse of a string\n",
    "s1[len(s1)-1::-1]\n",
    "s1[-1:-3:-1] # accessing last two char in reversing str\n",
    "s1[-1:3:-1]\n",
    "# reverse \n",
    "s1[int(len(s1)/2):1:-1]\n",
    "#or\n",
    "s1[int(len(s1)/2):len(s1)//2-2:-1]\n",
    "# accessing alternating chars\n",
    "s1[::2] #accessing step chars\n",
    "s1[::-2] #accessing step chars in reverse\n"
   ]
  },
  {
   "cell_type": "markdown",
   "metadata": {},
   "source": [
    "# Functions"
   ]
  },
  {
   "cell_type": "code",
   "execution_count": 209,
   "metadata": {},
   "outputs": [
    {
     "name": "stdout",
     "output_type": "stream",
     "text": [
      "mercy\n"
     ]
    },
    {
     "data": {
      "text/plain": [
       "'ycrem'"
      ]
     },
     "execution_count": 209,
     "metadata": {},
     "output_type": "execute_result"
    }
   ],
   "source": [
    "# function to reverse a string \n",
    "def reverseString(s):\n",
    "    return s[::-1]\n",
    "     \n",
    "i=input()\n",
    "reverseString(i)"
   ]
  },
  {
   "cell_type": "code",
   "execution_count": 214,
   "metadata": {},
   "outputs": [
    {
     "name": "stdout",
     "output_type": "stream",
     "text": [
      "mercy\n"
     ]
    },
    {
     "data": {
      "text/plain": [
       "False"
      ]
     },
     "execution_count": 214,
     "metadata": {},
     "output_type": "execute_result"
    }
   ],
   "source": [
    "# function to check if a string is a pelindrome\n",
    "\n",
    "def pelindrome(e):\n",
    "    return False\n",
    "    if e==e[::-1]:\n",
    "        return True\n",
    "\n",
    "i=input()\n",
    "pelindrome(i)\n",
    "    "
   ]
  },
  {
   "cell_type": "code",
   "execution_count": 296,
   "metadata": {
    "scrolled": true
   },
   "outputs": [
    {
     "name": "stdout",
     "output_type": "stream",
     "text": [
      "4\n",
      "True\n"
     ]
    }
   ],
   "source": [
    "# function to find the factors of a number\n",
    "def fact(r):\n",
    "    for i in range (1,r+1):\n",
    "        w=r%i==0\n",
    "    print(w)\n",
    "        \n",
    "i=int(input())\n",
    "fact(i)"
   ]
  },
  {
   "cell_type": "markdown",
   "metadata": {},
   "source": [
    "# Data types"
   ]
  },
  {
   "cell_type": "code",
   "execution_count": 353,
   "metadata": {},
   "outputs": [
    {
     "name": "stdout",
     "output_type": "stream",
     "text": [
      "0\n",
      "1\n",
      "2\n",
      "3\n",
      "4\n",
      "5\n",
      "6\n",
      "7\n",
      "8\n",
      "9\n",
      "10\n",
      "11\n",
      "12\n",
      "13\n",
      "14\n"
     ]
    }
   ],
   "source": [
    "type(12)    # int\n",
    "type(13.43) # float\n",
    "type('python') # str\n",
    "type(False) # bool\n",
    "type(True)  # bool\n",
    "a=123\n",
    "a=123.24\n",
    "a=\"grgsfh\"\n",
    "#print(a,type(a)) \n",
    "b=0\n",
    "a=98\n",
    "#print(a%b)\n",
    "a=\"gvf\"\n",
    "b=\"efdef\"\n",
    "#print(a+b)\n",
    "a=13.32\n",
    "b=13.45\n",
    "#print(a-b)\n",
    "a=3\n",
    "b=4\n",
    "#print(a and b)\n",
    "#print(a or b)\n",
    "a+True\n",
    "True or False \n",
    "False and True\n",
    "0==23\n",
    "89!=98\n",
    "a+True # True=1 , False=0, a=3,  3+1=4\n",
    "True-False\n",
    "\"wf\"*3\n",
    "4*\"shbsd\"\n",
    "i=0\n",
    "while i<15:\n",
    "    print(i)\n",
    "    i=i+1\n"
   ]
  },
  {
   "cell_type": "raw",
   "metadata": {},
   "source": []
  },
  {
   "cell_type": "code",
   "execution_count": 298,
   "metadata": {},
   "outputs": [
    {
     "data": {
      "text/plain": [
       "False"
      ]
     },
     "execution_count": 298,
     "metadata": {},
     "output_type": "execute_result"
    }
   ],
   "source": [
    "# find the given year is a leap year\n",
    "def isleapyear(i):\n",
    "    return False\n",
    "    if (i%400==0) or (i%4==0 and i%100!=0):\n",
    "        return True\n",
    "    \n",
    "    \n",
    "isleapyear(2020)"
   ]
  },
  {
   "cell_type": "code",
   "execution_count": 354,
   "metadata": {},
   "outputs": [
    {
     "ename": "UnboundLocalError",
     "evalue": "local variable 'n' referenced before assignment",
     "output_type": "error",
     "traceback": [
      "\u001b[1;31m---------------------------------------------------------------------------\u001b[0m",
      "\u001b[1;31mUnboundLocalError\u001b[0m                         Traceback (most recent call last)",
      "\u001b[1;32m<ipython-input-354-27ad39d4157a>\u001b[0m in \u001b[0;36m<module>\u001b[1;34m\u001b[0m\n\u001b[0;32m     10\u001b[0m \u001b[1;33m\u001b[0m\u001b[0m\n\u001b[0;32m     11\u001b[0m \u001b[1;33m\u001b[0m\u001b[0m\n\u001b[1;32m---> 12\u001b[1;33m \u001b[0mcountdigi\u001b[0m\u001b[1;33m(\u001b[0m\u001b[1;36m5134355\u001b[0m\u001b[1;33m)\u001b[0m\u001b[1;33m\u001b[0m\u001b[1;33m\u001b[0m\u001b[0m\n\u001b[0m\u001b[0;32m     13\u001b[0m \u001b[1;33m\u001b[0m\u001b[0m\n\u001b[0;32m     14\u001b[0m \u001b[1;31m#  or\u001b[0m\u001b[1;33m\u001b[0m\u001b[1;33m\u001b[0m\u001b[1;33m\u001b[0m\u001b[0m\n",
      "\u001b[1;32m<ipython-input-354-27ad39d4157a>\u001b[0m in \u001b[0;36mcountdigi\u001b[1;34m(a)\u001b[0m\n\u001b[0;32m      2\u001b[0m \u001b[1;32mdef\u001b[0m \u001b[0mcountdigi\u001b[0m\u001b[1;33m(\u001b[0m\u001b[0ma\u001b[0m\u001b[1;33m)\u001b[0m\u001b[1;33m:\u001b[0m\u001b[1;33m\u001b[0m\u001b[1;33m\u001b[0m\u001b[0m\n\u001b[0;32m      3\u001b[0m     \u001b[0mcount\u001b[0m\u001b[1;33m=\u001b[0m\u001b[1;36m1\u001b[0m\u001b[1;33m\u001b[0m\u001b[1;33m\u001b[0m\u001b[0m\n\u001b[1;32m----> 4\u001b[1;33m     \u001b[1;32mfor\u001b[0m \u001b[0mn\u001b[0m \u001b[1;32min\u001b[0m \u001b[0mrange\u001b[0m \u001b[1;33m(\u001b[0m\u001b[0mn\u001b[0m\u001b[1;33m<\u001b[0m\u001b[0ma\u001b[0m\u001b[1;33m)\u001b[0m\u001b[1;33m:\u001b[0m\u001b[1;33m\u001b[0m\u001b[1;33m\u001b[0m\u001b[0m\n\u001b[0m\u001b[0;32m      5\u001b[0m         \u001b[1;32mif\u001b[0m \u001b[0ma\u001b[0m\u001b[1;33m%\u001b[0m\u001b[0mn\u001b[0m\u001b[1;33m==\u001b[0m\u001b[1;36m0\u001b[0m\u001b[1;33m:\u001b[0m\u001b[1;33m\u001b[0m\u001b[1;33m\u001b[0m\u001b[0m\n\u001b[0;32m      6\u001b[0m             \u001b[0mcount\u001b[0m\u001b[1;33m+=\u001b[0m\u001b[1;36m1\u001b[0m\u001b[1;33m\u001b[0m\u001b[1;33m\u001b[0m\u001b[0m\n",
      "\u001b[1;31mUnboundLocalError\u001b[0m: local variable 'n' referenced before assignment"
     ]
    }
   ],
   "source": [
    "#function to count the number of digits in a given number\n",
    "def countdigi(a):\n",
    "    count=1\n",
    "    for n in range (n<a):\n",
    "        if a%n==0:\n",
    "            count+=1\n",
    "        print(count)\n",
    "    return\n",
    "            \n",
    "    \n",
    "    \n",
    "countdigi(5134355)\n",
    "\n",
    "#  or\n",
    "#def countdigi(i):\n",
    "#    return len(str(i))\n",
    "\n",
    "#countdigi(32153)"
   ]
  },
  {
   "cell_type": "code",
   "execution_count": 271,
   "metadata": {},
   "outputs": [
    {
     "data": {
      "text/plain": [
       "45"
      ]
     },
     "execution_count": 271,
     "metadata": {},
     "output_type": "execute_result"
    }
   ],
   "source": [
    "# function to identify the greatest of 4 numbers\n",
    "\n",
    "def greatnum(t):\n",
    "    t.sort()\n",
    "    return t[-1]\n",
    "\n",
    "t=[23,24,45,35]\n",
    "greatnum(t)"
   ]
  },
  {
   "cell_type": "markdown",
   "metadata": {},
   "source": [
    "## Iteration\n",
    " * for\n",
    " * while\n",
    " * do while\n"
   ]
  },
  {
   "cell_type": "code",
   "execution_count": 291,
   "metadata": {},
   "outputs": [
    {
     "name": "stdout",
     "output_type": "stream",
     "text": [
      "34\n",
      "1 2 3 4 5 6 7 8 9 10 11 12 13 14 15 16 17 18 19 20 21 22 23 24 25 26 27 28 29 30 31 32 33 34 \n",
      "1 2 3 4 5 6 7 8 9 10 11 12 13 14 15 16 17 18 19 20 21 22 23 24 25 26 27 28 29 30 31 32 33 34 \n"
     ]
    }
   ],
   "source": [
    "# function to print N natural numbers\n",
    "def printNnumbers(n):\n",
    "        for c in range (1, n+1):\n",
    "            print(c,end=' ')\n",
    "        print()\n",
    "        return \n",
    "\n",
    "i=int(input())\n",
    "printNnumbers(i)\n",
    "printNnumbers(i)"
   ]
  },
  {
   "cell_type": "code",
   "execution_count": 287,
   "metadata": {},
   "outputs": [
    {
     "name": "stdout",
     "output_type": "stream",
     "text": [
      "1 2 3 4 5 6 7 8 9 10 11 12 13 14 15 16 17 18 19 20 21 22 23 24 25 26 27 28 29 30 31 32 33 34 "
     ]
    }
   ],
   "source": [
    "# function to print n natural number in while loop\n",
    "def printNnumbers(n):\n",
    "    c=1\n",
    "    while c<=n: # for c in range(1,n+1):\n",
    "        print(c, end=' ')\n",
    "        c+=1\n",
    "    return \n",
    "        \n",
    "printNnumbers(34)"
   ]
  },
  {
   "cell_type": "code",
   "execution_count": 40,
   "metadata": {},
   "outputs": [
    {
     "name": "stdout",
     "output_type": "stream",
     "text": [
      "500 502 504 506 508 510 512 514 516 518 520 522 524 526 528 530 532 534 536 538 540 542 544 546 548 550 "
     ]
    }
   ],
   "source": [
    "#define a function to print the alternate values in a range\n",
    "def alternatenumbers(lb,ub):\n",
    "    for i in range (lb,ub+1,2):\n",
    "        print(i,end=' ')\n",
    "        \n",
    "alternatenumbers(500,550)\n",
    "\n",
    "#[500,550] ---- 500 502 503......550 --  inclusive \n",
    "#(500,550)---- 501 502 503 ......549 -- exclusive"
   ]
  },
  {
   "cell_type": "code",
   "execution_count": null,
   "metadata": {},
   "outputs": [],
   "source": []
  },
  {
   "cell_type": "code",
   "execution_count": 384,
   "metadata": {},
   "outputs": [
    {
     "name": "stdout",
     "output_type": "stream",
     "text": [
      "6 12 18 24 30 "
     ]
    }
   ],
   "source": [
    "#function to print all numbers divisible by 6 and not a factor of 100 in a given range(lb,ub) inclusive\n",
    "def func(lb,ub):\n",
    "     while lb<=ub:\n",
    "        if (lb%6==0 and lb%100!=0):\n",
    "            print(lb,end=\" \")\n",
    "        lb+=1\n",
    "            \n",
    "func(3,30)\n",
    "            "
   ]
  },
  {
   "cell_type": "code",
   "execution_count": 442,
   "metadata": {},
   "outputs": [
    {
     "name": "stdout",
     "output_type": "stream",
     "text": [
      "5\n",
      "5.0\n",
      "10\n",
      "5.0\n"
     ]
    }
   ],
   "source": [
    "# function to find the average of cubes of all even numbers in agiven range (lb, ub) inclusive\n",
    "\n",
    "def avgcubes(lb,ub):\n",
    "    count=0\n",
    "    n=0\n",
    "    while lb<=ub:\n",
    "        if lb%2==0:\n",
    "            t=lb*lb*lb\n",
    "           \n",
    "            count+=1\n",
    "            n=n+p\n",
    "            print(n)\n",
    "            k=n/count\n",
    "            print(k)\n",
    "        lb+=1\n",
    "            \n",
    "avgcubes(1,5)\n",
    "        "
   ]
  },
  {
   "cell_type": "code",
   "execution_count": 439,
   "metadata": {},
   "outputs": [
    {
     "name": "stdout",
     "output_type": "stream",
     "text": [
      "6\n"
     ]
    }
   ],
   "source": [
    "# function to generate factorial of a given number\n",
    "def factorial(i):\n",
    "    s=1\n",
    "    for n in range (1,i+1):\n",
    "        s=s*n\n",
    "    print(s)\n",
    "    return\n",
    "\n",
    "factorial(3)"
   ]
  },
  {
   "cell_type": "code",
   "execution_count": 1,
   "metadata": {},
   "outputs": [
    {
     "data": {
      "text/plain": [
       "False"
      ]
     },
     "execution_count": 1,
     "metadata": {},
     "output_type": "execute_result"
    }
   ],
   "source": [
    "# function to check if a given number is prime\n",
    "def primenumber(num):\n",
    "    count=1\n",
    "    result =False\n",
    "    for i in range (1,num):\n",
    "        if num%i==0:\n",
    "            #print(i)\n",
    "            count+=1\n",
    "            #print(i)\n",
    "    if count<=2:\n",
    "        result = True\n",
    "    return result\n",
    "\n",
    "primenumber(6)\n",
    "    \n",
    "    \n",
    "    "
   ]
  },
  {
   "cell_type": "code",
   "execution_count": 35,
   "metadata": {},
   "outputs": [
    {
     "name": "stdout",
     "output_type": "stream",
     "text": [
      "1\n",
      "3\n",
      "6\n",
      "11\n",
      "18\n",
      "29\n",
      "6\n",
      "4\n"
     ]
    }
   ],
   "source": [
    "# function to calculate the average first N prime numbers\n",
    "def nprimenumbers(i):\n",
    "    c=0\n",
    "    p=0\n",
    "    for k in range(1,i+1):\n",
    "        if primenumber(k) == True:\n",
    "           # print(k)\n",
    "            p=p+k\n",
    "            print(p)\n",
    "            c+=1\n",
    "        \n",
    "    print(c)\n",
    "    print(p//c)\n",
    "nprimenumbers(11)        "
   ]
  },
  {
   "cell_type": "code",
   "execution_count": 14,
   "metadata": {},
   "outputs": [
    {
     "name": "stdout",
     "output_type": "stream",
     "text": [
      "3\n",
      "perfect number\n"
     ]
    }
   ],
   "source": [
    "# function to generate all perfect numbers in agiven range\n",
    "def perfectnum(i):\n",
    "    sum=0\n",
    "    c=0\n",
    "    for n in range (1,i):\n",
    "       # print(n)\n",
    "        if i%n==0:\n",
    "            sum=sum+i\n",
    "            c+=1\n",
    "    total=sum//c\n",
    "    print(total)\n",
    "    if total==i:\n",
    "        print(\"perfect number\")\n",
    "    else:\n",
    "        print(\"not perfect number\")\n",
    "perfectnum(3)"
   ]
  },
  {
   "cell_type": "code",
   "execution_count": null,
   "metadata": {},
   "outputs": [],
   "source": [
    "#function to calculate average of all factorial in a given range"
   ]
  },
  {
   "cell_type": "code",
   "execution_count": null,
   "metadata": {},
   "outputs": [],
   "source": [
    "# function to generate N odd armstrongs in a given range"
   ]
  },
  {
   "cell_type": "code",
   "execution_count": 42,
   "metadata": {},
   "outputs": [
    {
     "ename": "SyntaxError",
     "evalue": "unexpected EOF while parsing (<ipython-input-42-ddcb73d02533>, line 7)",
     "output_type": "error",
     "traceback": [
      "\u001b[1;36m  File \u001b[1;32m\"<ipython-input-42-ddcb73d02533>\"\u001b[1;36m, line \u001b[1;32m7\u001b[0m\n\u001b[1;33m    \u001b[0m\n\u001b[1;37m    ^\u001b[0m\n\u001b[1;31mSyntaxError\u001b[0m\u001b[1;31m:\u001b[0m unexpected EOF while parsing\n"
     ]
    }
   ],
   "source": [
    "# function to multiplication tables for a number in a given range\n",
    " #   * 10 in in range(100,110)  inclusive\n",
    " #   10*100=1000\n",
    " #   10*101=1010\n",
    "def tables(i,lb,ub):\n",
    "    for n in range ():\n",
    "        "
   ]
  },
  {
   "cell_type": "code",
   "execution_count": null,
   "metadata": {},
   "outputs": [],
   "source": []
  }
 ],
 "metadata": {
  "kernelspec": {
   "display_name": "Python 3",
   "language": "python",
   "name": "python3"
  },
  "language_info": {
   "codemirror_mode": {
    "name": "ipython",
    "version": 3
   },
   "file_extension": ".py",
   "mimetype": "text/x-python",
   "name": "python",
   "nbconvert_exporter": "python",
   "pygments_lexer": "ipython3",
   "version": "3.7.3"
  }
 },
 "nbformat": 4,
 "nbformat_minor": 2
}
