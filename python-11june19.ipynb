{
 "cells": [
  {
   "cell_type": "markdown",
   "metadata": {},
   "source": [
    "#### MarkDown Basics\n",
    "\n",
    "* **Bold** <br>\n",
    "* *italic* <br>\n",
    "* ***bt*** <br>\n",
    "* normal text\n",
    "  * subtitle \n",
    "  #subtitle2 <br>\n",
    "  \n",
    "> 1.Ordered list 1 <br>\n",
    "> 2.Ordered list 2\n",
    "\n",
    "- [ ] option1\n",
    "- [ ] option2\n",
    "- [x] Option3<br>\n",
    "\n",
    "\n",
    "\n",
    "[Jupyter logo](jupyterlog.png)\n",
    "![Jupyter logo](jupyterlog.png)\n",
    " <img src=\"jupyterlog.png\" style=\"float:right\">\n",
    " \n",
    "I get 10 times more traffic from [Google] [1] than from\n",
    "[Yahoo] [2] or [MSN] [3].\n",
    "\n",
    "  [1]: http://google.com/        \"Google\"\n",
    "  [2]: http://search.yahoo.com/  \"Yahoo Search\"\n",
    "  [3]: http://search.msn.com/    \"MSN Search\" \n",
    "  \n",
    "\n",
    " #`printf(\"Hello Markdown\")`\n",
    " \n",
    " \n",
    "  #`markdown@google.com`\n",
    " [Jupyter log](jupyterlog.png)[Jupyter log]"
   ]
  },
  {
   "cell_type": "code",
   "execution_count": 4,
   "metadata": {},
   "outputs": [
    {
     "ename": "SyntaxError",
     "evalue": "invalid syntax (<ipython-input-4-82c3768de234>, line 1)",
     "output_type": "error",
     "traceback": [
      "\u001b[1;36m  File \u001b[1;32m\"<ipython-input-4-82c3768de234>\"\u001b[1;36m, line \u001b[1;32m1\u001b[0m\n\u001b[1;33m    [Jupyter log](jupyterlog.png)\u001b[0m\n\u001b[1;37m               ^\u001b[0m\n\u001b[1;31mSyntaxError\u001b[0m\u001b[1;31m:\u001b[0m invalid syntax\n"
     ]
    }
   ],
   "source": []
  },
  {
   "cell_type": "markdown",
   "metadata": {},
   "source": [
    "##                                Python Basics"
   ]
  },
  {
   "cell_type": "markdown",
   "metadata": {},
   "source": [
    "#### Python 3.7\n",
    "\n",
    "* Scripting \n",
    "* Object oriented\n",
    "* Functional"
   ]
  },
  {
   "cell_type": "code",
   "execution_count": 20,
   "metadata": {},
   "outputs": [
    {
     "name": "stdout",
     "output_type": "stream",
     "text": [
      "Good afternoon..! mercy ||Hello python\n"
     ]
    }
   ],
   "source": [
    "# python comments\n",
    "\n",
    "print(\"Good afternoon..!\",\"mercy\",end=' ||') # basic output\n",
    "print(\"Hello python\")\n"
   ]
  },
  {
   "cell_type": "markdown",
   "metadata": {},
   "source": [
    "## Assignment"
   ]
  },
  {
   "cell_type": "code",
   "execution_count": 21,
   "metadata": {},
   "outputs": [
    {
     "name": "stdout",
     "output_type": "stream",
     "text": [
      "12 23 44\n"
     ]
    }
   ],
   "source": [
    "n1 = 123456 # single variable assignment\n",
    "\n",
    "n2=n3=n4=n1  # multi variable assignment of the same value\n",
    "n4\n",
    "\n",
    "a,b,c=12,23,44# multi variable assignment with different values\n",
    "a\n",
    "b\n",
    "c\n",
    "a,b,c\n",
    "print(a,b,c)\n"
   ]
  },
  {
   "cell_type": "markdown",
   "metadata": {},
   "source": [
    "## Data types\n",
    " - int\n",
    " - float \n",
    " - string \n",
    " - double"
   ]
  },
  {
   "cell_type": "code",
   "execution_count": 32,
   "metadata": {},
   "outputs": [
    {
     "data": {
      "text/plain": [
       "34.0"
      ]
     },
     "execution_count": 32,
     "metadata": {},
     "output_type": "execute_result"
    }
   ],
   "source": [
    "type(a)\n",
    "s1 =\"python\"\n",
    "type(s1)\n",
    "f1=34.23\n",
    "f1\n",
    "type(f1)\n",
    "int(f1) # converts float to int\n",
    "float(str(int (f1))) # converts float into integer and again integer into str and again into float"
   ]
  },
  {
   "cell_type": "code",
   "execution_count": 10,
   "metadata": {},
   "outputs": [
    {
     "name": "stdout",
     "output_type": "stream",
     "text": [
      "True\n"
     ]
    }
   ],
   "source": [
    "atoms=10**3\n",
    "if atoms < 10**9:\n",
    "    print(\"True\")\n",
    "else:\n",
    "    print(\"False\")\n",
    "    "
   ]
  },
  {
   "cell_type": "markdown",
   "metadata": {},
   "source": [
    "## Arthmetic Operations\n",
    "* +\n",
    "* -\n",
    "* *\n",
    "* %\n",
    "* /\n",
    "* **"
   ]
  },
  {
   "cell_type": "code",
   "execution_count": 36,
   "metadata": {},
   "outputs": [
    {
     "data": {
      "text/plain": [
       "627"
      ]
     },
     "execution_count": 36,
     "metadata": {},
     "output_type": "execute_result"
    }
   ],
   "source": [
    "n%3 # n is declared previouse cell\n",
    "\n",
    "n3=n2 **123\n",
    "n3\n",
    "type(n3)\n",
    "len(str(n3))"
   ]
  },
  {
   "cell_type": "markdown",
   "metadata": {},
   "source": [
    "## Conditionals"
   ]
  },
  {
   "cell_type": "code",
   "execution_count": 26,
   "metadata": {},
   "outputs": [
    {
     "name": "stdout",
     "output_type": "stream",
     "text": [
      "True\n"
     ]
    }
   ],
   "source": [
    "atoms=10**3\n",
    "if atoms < 10**9:\n",
    "    print(\"True\")\n",
    "else:\n",
    "    print(\"False\")\n",
    "    "
   ]
  },
  {
   "cell_type": "code",
   "execution_count": null,
   "metadata": {},
   "outputs": [],
   "source": [
    "# even or odd "
   ]
  },
  {
   "cell_type": "code",
   "execution_count": 2,
   "metadata": {},
   "outputs": [
    {
     "name": "stdout",
     "output_type": "stream",
     "text": [
      "enter n1 value-546\n",
      "enter n2 value-5\n",
      "enter n3 value0\n",
      "0 is greatest\n"
     ]
    }
   ],
   "source": [
    "##### find the greatest of 3 numbers\n",
    "\n",
    "n1=int(input(\"enter n1 value\"))\n",
    "n2=int(input(\"enter n2 value\"))\n",
    "n3=int(input(\"enter n3 value\"))\n",
    "\n",
    "if n1>n2 and n1>n3:\n",
    "    print(n1, \"is the greatest\")\n",
    "elif n2>n3:\n",
    "    print(n2, \"is the greatest\")\n",
    "else:\n",
    "    print(n3,\"is greatest\")"
   ]
  },
  {
   "cell_type": "code",
   "execution_count": 8,
   "metadata": {},
   "outputs": [
    {
     "name": "stdout",
     "output_type": "stream",
     "text": [
      "enter a year2100\n",
      "2100  not leap year\n"
     ]
    }
   ],
   "source": [
    "# leap year or not\n",
    "year= int(input(\"enter a year\"))\n",
    "if year%400==0 or (year%4==0 and year%100!=0):\n",
    "    print(year,\"leap year\")\n",
    "else:\n",
    "    print(year,\" not leap year\")"
   ]
  },
  {
   "cell_type": "code",
   "execution_count": 9,
   "metadata": {},
   "outputs": [
    {
     "name": "stdout",
     "output_type": "stream",
     "text": [
      "enter a number56\n",
      "the number is in range\n"
     ]
    }
   ],
   "source": [
    "#check if a number exists in agiven range\n",
    "n1 = eval(input(\"enter a number\"))\n",
    "lb=25\n",
    "ub=70\n",
    "if lb<n1<ub:\n",
    "    print(\"the number is in range\")\n",
    "else:\n",
    "    print(\"not exists\")"
   ]
  },
  {
   "cell_type": "code",
   "execution_count": 33,
   "metadata": {},
   "outputs": [
    {
     "name": "stdout",
     "output_type": "stream",
     "text": [
      "enter number1234\n"
     ]
    },
    {
     "data": {
      "text/plain": [
       "4"
      ]
     },
     "execution_count": 33,
     "metadata": {},
     "output_type": "execute_result"
    }
   ],
   "source": [
    "#calculate the number of digits in a number\n",
    "n= eval(input(\"enter number\"))\n",
    "len(str(n))"
   ]
  },
  {
   "cell_type": "code",
   "execution_count": 32,
   "metadata": {},
   "outputs": [
    {
     "name": "stdout",
     "output_type": "stream",
     "text": [
      "enter number100\n",
      "True\n"
     ]
    }
   ],
   "source": [
    "# check if number is mul of 10\n",
    "n= eval(input(\"enter number\"))\n",
    "if n%10==0:\n",
    "    print(\"True\")\n",
    "else:\n",
    "    print(\"False\")"
   ]
  },
  {
   "cell_type": "code",
   "execution_count": 35,
   "metadata": {},
   "outputs": [
    {
     "name": "stdout",
     "output_type": "stream",
     "text": [
      "enter number100\n",
      "yes, it is\n"
     ]
    }
   ],
   "source": [
    "#check if a number is a factor of 1000\n",
    "n= eval(input(\"enter number\"))\n",
    "if 1000%n==0:\n",
    "    print(\"yes, it is\")\n",
    "else:\n",
    "    print(\"not factor\")"
   ]
  },
  {
   "cell_type": "code",
   "execution_count": 37,
   "metadata": {},
   "outputs": [
    {
     "name": "stdout",
     "output_type": "stream",
     "text": [
      "not equal\n"
     ]
    }
   ],
   "source": [
    "#check if given string is equal to a number\n",
    "s1=\"13434\"\n",
    "n1 =2432\n",
    "if str(n1)==s1:\n",
    "        print(\"is equal\")\n",
    "else:\n",
    "    print(\"not equal\")"
   ]
  },
  {
   "cell_type": "code",
   "execution_count": 40,
   "metadata": {},
   "outputs": [
    {
     "name": "stdout",
     "output_type": "stream",
     "text": [
      "enter number1024\n",
      "32\n"
     ]
    }
   ],
   "source": [
    "# calculate the square root of a num without function\n",
    "n= eval(input(\"enter number\"))\n",
    "p=n**0.5\n",
    "print(int(p))"
   ]
  },
  {
   "cell_type": "code",
   "execution_count": 38,
   "metadata": {},
   "outputs": [
    {
     "name": "stdout",
     "output_type": "stream",
     "text": [
      "enter year2100\n",
      "31536000000000000\n"
     ]
    }
   ],
   "source": [
    "#calculate the num of nano seconds in a given year (considering leap year logic)\n",
    "n= eval(input(\"enter year\"))\n",
    "if  year%400==0 or (year%4==0 and year%100!=0):\n",
    "    print(366 * 24* 60 * 60 * (10**9))\n",
    "else:\n",
    "    print(365 * 24* 60 * 60 * (10**9))"
   ]
  },
  {
   "cell_type": "code",
   "execution_count": 7,
   "metadata": {},
   "outputs": [
    {
     "ename": "NameError",
     "evalue": "name 'a' is not defined",
     "output_type": "error",
     "traceback": [
      "\u001b[1;31m---------------------------------------------------------------------------\u001b[0m",
      "\u001b[1;31mNameError\u001b[0m                                 Traceback (most recent call last)",
      "\u001b[1;32m<ipython-input-7-7b4496587d27>\u001b[0m in \u001b[0;36m<module>\u001b[1;34m\u001b[0m\n\u001b[1;32m----> 1\u001b[1;33m \u001b[1;33m[\u001b[0m\u001b[0ma\u001b[0m\u001b[1;33m]\u001b[0m\u001b[1;33m(\u001b[0m\u001b[0mjypiter\u001b[0m\u001b[1;33m.\u001b[0m\u001b[0mpng\u001b[0m\u001b[1;33m)\u001b[0m\u001b[1;33m\u001b[0m\u001b[1;33m\u001b[0m\u001b[0m\n\u001b[0m",
      "\u001b[1;31mNameError\u001b[0m: name 'a' is not defined"
     ]
    }
   ],
   "source": [
    "[a](jypiter.png)"
   ]
  },
  {
   "cell_type": "code",
   "execution_count": 8,
   "metadata": {},
   "outputs": [
    {
     "ename": "SyntaxError",
     "evalue": "invalid syntax (<ipython-input-8-c4cc5c970d10>, line 1)",
     "output_type": "error",
     "traceback": [
      "\u001b[1;36m  File \u001b[1;32m\"<ipython-input-8-c4cc5c970d10>\"\u001b[1;36m, line \u001b[1;32m1\u001b[0m\n\u001b[1;33m    [http://localhost:8888/files/Desktop/Problemsolving-programming-l2-june-2019-master/jupyterlog.png]\u001b[0m\n\u001b[1;37m         ^\u001b[0m\n\u001b[1;31mSyntaxError\u001b[0m\u001b[1;31m:\u001b[0m invalid syntax\n"
     ]
    }
   ],
   "source": [
    "[]"
   ]
  },
  {
   "cell_type": "markdown",
   "metadata": {},
   "source": [
    "![jupyter](jypiter.png)"
   ]
  },
  {
   "cell_type": "code",
   "execution_count": null,
   "metadata": {},
   "outputs": [],
   "source": []
  }
 ],
 "metadata": {
  "kernelspec": {
   "display_name": "Python 3",
   "language": "python",
   "name": "python3"
  },
  "language_info": {
   "codemirror_mode": {
    "name": "ipython",
    "version": 3
   },
   "file_extension": ".py",
   "mimetype": "text/x-python",
   "name": "python",
   "nbconvert_exporter": "python",
   "pygments_lexer": "ipython3",
   "version": "3.7.3"
  }
 },
 "nbformat": 4,
 "nbformat_minor": 2
}
