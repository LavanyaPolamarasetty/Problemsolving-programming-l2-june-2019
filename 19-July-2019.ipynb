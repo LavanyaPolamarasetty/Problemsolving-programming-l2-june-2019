{
 "cells": [
  {
   "cell_type": "code",
   "execution_count": 1,
   "metadata": {},
   "outputs": [
    {
     "name": "stdout",
     "output_type": "stream",
     "text": [
      "1\n",
      "123\n",
      "111111\n"
     ]
    }
   ],
   "source": [
    "# Seven Segment Display:\n",
    "\n",
    "\n",
    "def findmatchscount(num):\n",
    "    num=int(num)\n",
    "    if num==0:\n",
    "         num+=6\n",
    "    elif num==1:\n",
    "         num+=1\n",
    "    elif num==2:\n",
    "         num+=3\n",
    "    elif num==3:\n",
    "         num+=2\n",
    "    elif num==4:\n",
    "         num+=0\n",
    "    elif num==5:\n",
    "         num+=0\n",
    "    elif num==6:\n",
    "         num+=0\n",
    "    elif num==7:\n",
    "         num-=4\n",
    "    elif num==8:\n",
    "         num-=1\n",
    "    elif num==9:\n",
    "         num-=3\n",
    "         \n",
    "        \n",
    "    return num\n",
    "\n",
    "\n",
    "test=int(input())\n",
    "for i in range(test):\n",
    "    num=input()\n",
    "    res=0\n",
    "    for i in num:\n",
    "        res+=findmatchscount(i)\n",
    "    #print(res)\n",
    "\n",
    "    if res%2==1:\n",
    "        print(7,end='')\n",
    "        for g in range((res-3)//2):\n",
    "            print(1,end='')\n",
    "    \n",
    "    else:\n",
    "        for h in range(res//2):\n",
    "            print(1,end='')\n",
    "    \n",
    "    print()"
   ]
  },
  {
   "cell_type": "code",
   "execution_count": null,
   "metadata": {},
   "outputs": [],
   "source": []
  }
 ],
 "metadata": {
  "kernelspec": {
   "display_name": "Python 3",
   "language": "python",
   "name": "python3"
  },
  "language_info": {
   "codemirror_mode": {
    "name": "ipython",
    "version": 3
   },
   "file_extension": ".py",
   "mimetype": "text/x-python",
   "name": "python",
   "nbconvert_exporter": "python",
   "pygments_lexer": "ipython3",
   "version": "3.7.3"
  }
 },
 "nbformat": 4,
 "nbformat_minor": 2
}
