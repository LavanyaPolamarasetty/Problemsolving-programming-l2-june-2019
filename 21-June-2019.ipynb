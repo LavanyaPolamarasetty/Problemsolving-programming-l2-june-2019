{
 "cells": [
  {
   "cell_type": "code",
   "execution_count": 40,
   "metadata": {},
   "outputs": [
    {
     "name": "stdout",
     "output_type": "stream",
     "text": [
      "mercy\n",
      "3214768\n",
      "Contact mercy added\n"
     ]
    }
   ],
   "source": [
    "# function to write contacts in a file\n",
    "contacts ={}\n",
    "def addcontact(name,phone):\n",
    "    #verify that the contact doesnot already exist\n",
    "    if name not in contacts:\n",
    "        contacts[name]=phone\n",
    "        print(\"Contact %s added\" % name)\n",
    "    else:\n",
    "        print(\"contact %s already exists\" % name)\n",
    "    return\n",
    "\n",
    "#addcontact(\"Mercy\",\"9505305452\")\n",
    "#addcontact(\"puppy\",\"9010000000\")\n",
    "\n",
    "def writecontacts(finame,name,phone):\n",
    "        f=open(finame,'a')\n",
    "        addcontact(name,phone)\n",
    "        for key,value in contacts.items():\n",
    "            f.write( '%s:%s\\n' % (key,value) )  \n",
    "        \n",
    "    \n",
    "finame='Files/contacts.txt'\n",
    "name=input()\n",
    "phone=int(input())\n",
    "writecontacts(finame,name,phone)"
   ]
  },
  {
   "cell_type": "code",
   "execution_count": 26,
   "metadata": {},
   "outputs": [
    {
     "name": "stdout",
     "output_type": "stream",
     "text": [
      "Contact teju added\n"
     ]
    }
   ],
   "source": [
    "addcontact(\"teju\",90909090)"
   ]
  },
  {
   "cell_type": "code",
   "execution_count": 3,
   "metadata": {},
   "outputs": [
    {
     "data": {
      "text/plain": [
       "{'mercy': 9505305452}"
      ]
     },
     "execution_count": 3,
     "metadata": {},
     "output_type": "execute_result"
    }
   ],
   "source": [
    "contacts"
   ]
  },
  {
   "cell_type": "code",
   "execution_count": null,
   "metadata": {},
   "outputs": [],
   "source": []
  },
  {
   "cell_type": "code",
   "execution_count": 21,
   "metadata": {},
   "outputs": [
    {
     "name": "stdout",
     "output_type": "stream",
     "text": [
      "mercy\n"
     ]
    },
    {
     "ename": "AttributeError",
     "evalue": "'dict' object has no attribute 'searchcontact'",
     "output_type": "error",
     "traceback": [
      "\u001b[1;31m---------------------------------------------------------------------------\u001b[0m",
      "\u001b[1;31mAttributeError\u001b[0m                            Traceback (most recent call last)",
      "\u001b[1;32m<ipython-input-21-11ff51b4fff4>\u001b[0m in \u001b[0;36m<module>\u001b[1;34m\u001b[0m\n\u001b[0;32m      9\u001b[0m \u001b[0mname\u001b[0m\u001b[1;33m=\u001b[0m\u001b[0minput\u001b[0m\u001b[1;33m(\u001b[0m\u001b[1;33m)\u001b[0m\u001b[1;33m\u001b[0m\u001b[1;33m\u001b[0m\u001b[0m\n\u001b[0;32m     10\u001b[0m \u001b[1;31m#phone=int(input())\u001b[0m\u001b[1;33m\u001b[0m\u001b[1;33m\u001b[0m\u001b[1;33m\u001b[0m\u001b[0m\n\u001b[1;32m---> 11\u001b[1;33m \u001b[0msearchcontactsfile\u001b[0m\u001b[1;33m(\u001b[0m\u001b[0mfiname\u001b[0m\u001b[1;33m,\u001b[0m\u001b[0mname\u001b[0m\u001b[1;33m)\u001b[0m\u001b[1;33m\u001b[0m\u001b[1;33m\u001b[0m\u001b[0m\n\u001b[0m",
      "\u001b[1;32m<ipython-input-21-11ff51b4fff4>\u001b[0m in \u001b[0;36msearchcontactsfile\u001b[1;34m(finame, name)\u001b[0m\n\u001b[0;32m      3\u001b[0m \u001b[1;32mdef\u001b[0m \u001b[0msearchcontactsfile\u001b[0m\u001b[1;33m(\u001b[0m\u001b[0mfiname\u001b[0m\u001b[1;33m,\u001b[0m\u001b[0mname\u001b[0m\u001b[1;33m)\u001b[0m\u001b[1;33m:\u001b[0m\u001b[1;33m\u001b[0m\u001b[1;33m\u001b[0m\u001b[0m\n\u001b[0;32m      4\u001b[0m     \u001b[0mf\u001b[0m\u001b[1;33m=\u001b[0m\u001b[0mopen\u001b[0m\u001b[1;33m(\u001b[0m\u001b[0mfiname\u001b[0m\u001b[1;33m,\u001b[0m\u001b[1;34m'r'\u001b[0m\u001b[1;33m)\u001b[0m\u001b[1;33m\u001b[0m\u001b[1;33m\u001b[0m\u001b[0m\n\u001b[1;32m----> 5\u001b[1;33m     \u001b[0mcontacts\u001b[0m\u001b[1;33m.\u001b[0m\u001b[0msearchcontact\u001b[0m\u001b[1;33m(\u001b[0m\u001b[0mname\u001b[0m\u001b[1;33m)\u001b[0m\u001b[1;33m\u001b[0m\u001b[1;33m\u001b[0m\u001b[0m\n\u001b[0m\u001b[0;32m      6\u001b[0m \u001b[1;33m\u001b[0m\u001b[0m\n\u001b[0;32m      7\u001b[0m \u001b[1;33m\u001b[0m\u001b[0m\n",
      "\u001b[1;31mAttributeError\u001b[0m: 'dict' object has no attribute 'searchcontact'"
     ]
    }
   ],
   "source": [
    "# function to search contact in a file\n",
    "from  Packages import contancts\n",
    "def searchcontactsfile(finame,name):\n",
    "    f=open(finame,'r')\n",
    "    contacts.searchcontact(name)\n",
    "\n",
    "    \n",
    "finame='Files/contacts.txt'\n",
    "name=input()\n",
    "#phone=int(input())\n",
    "searchcontactsfile(finame,name)"
   ]
  },
  {
   "cell_type": "code",
   "execution_count": 17,
   "metadata": {},
   "outputs": [
    {
     "name": "stdout",
     "output_type": "stream",
     "text": [
      "mercy\n",
      "mercy : 9505305452\n"
     ]
    }
   ],
   "source": [
    "def searchcontact(name):\n",
    "    if name in contacts:\n",
    "        print(name,\":\",contacts[name])\n",
    "    else:\n",
    "        print(\"%s does not exist\" % name)\n",
    "    return\n",
    "\n",
    "def searchcontactsfile(finame,name):\n",
    "    f=open(finame,'r')\n",
    "    searchcontact(name)\n",
    "\n",
    "finame='Files/contacts.txt'\n",
    "name=input()\n",
    "#phone=int(input())\n",
    "searchcontactsfile(finame,name)"
   ]
  },
  {
   "cell_type": "code",
   "execution_count": 14,
   "metadata": {},
   "outputs": [
    {
     "name": "stdout",
     "output_type": "stream",
     "text": [
      "puppy\n",
      "5643567\n"
     ]
    }
   ],
   "source": [
    "# function to modify contacts in a file\n",
    "def modifycontacts(name,phone):\n",
    "    contacts[name]=phone\n",
    "    print(contacts)\n",
    "    \n",
    "def modifycontactfile(finame,name,phone):\n",
    "    l=[]\n",
    "    f=open(finame,'r')\n",
    "    #modifycontacts(name,phone)\n",
    "    for line in f:\n",
    "        l.append(line.split(':'))\n",
    "        print(l)\n",
    "    if l==name:\n",
    "        print(l)\n",
    "           # modifycontacts(name,phone)\n",
    "            #for key,value in contacts.items():\n",
    "                #f.write( '%s:%s\\n' % (key,value) )\n",
    "\n",
    "\n",
    "finame='Files/contacts.txt'\n",
    "name=input()\n",
    "phone=int(input())\n",
    "modifycontactfile(finame,name,phone)"
   ]
  },
  {
   "cell_type": "markdown",
   "metadata": {},
   "source": [
    "# contacts:\n",
    " * add\n",
    " * search\n",
    " * delete\n",
    " * update\n",
    " * list of all"
   ]
  },
  {
   "cell_type": "code",
   "execution_count": 102,
   "metadata": {},
   "outputs": [],
   "source": [
    "#function to write contacts to file\n",
    "\n",
    "fname='Files/newcontacts.txt'\n",
    "f=open(fname,'w+')\n",
    "f.write(\"mercylavanya,4326546657,mercy@gmail.com\")\n",
    "f.close()"
   ]
  },
  {
   "cell_type": "code",
   "execution_count": 23,
   "metadata": {},
   "outputs": [
    {
     "name": "stdout",
     "output_type": "stream",
     "text": [
      "mercylavanya,4326546657,mercy@gmail.com\n"
     ]
    }
   ],
   "source": [
    "# function to read contact from file\n",
    "with open(fname,'r') as f:\n",
    "    print(f.read())"
   ]
  },
  {
   "cell_type": "code",
   "execution_count": 105,
   "metadata": {},
   "outputs": [],
   "source": [
    "# function to append to file\n",
    "#function to write contacts to file\n",
    "\n",
    "fname='Files/newcontacts.txt'\n",
    "f=open(fname,'a')\n",
    "f.write(\"lavsss,4326546657,mercy@gmail.com\\n\")\n",
    "f.close()"
   ]
  },
  {
   "cell_type": "code",
   "execution_count": 36,
   "metadata": {},
   "outputs": [
    {
     "name": "stdout",
     "output_type": "stream",
     "text": [
      "mercylavanya,4326546657,mercy@gmail.comlavanya,4326546657,mercy@gmail.com\n",
      "\n",
      "lavanya,4326546657,mercy@gmail.comlavanya,4326546657,mercy@gmail.com\n",
      "lavanya,4326546657,mercy@gmail.com\n",
      "lavanya,4326546657,mercy@gmail.com\n",
      "lavanya,4326546657,mercy@gmail.com\n"
     ]
    }
   ],
   "source": [
    "# function to read data line by line\n",
    "with open(fname,'r') as f:\n",
    "    for line in f.readlines():\n",
    "        print(line,end='')"
   ]
  },
  {
   "cell_type": "code",
   "execution_count": 38,
   "metadata": {},
   "outputs": [
    {
     "name": "stdout",
     "output_type": "stream",
     "text": [
      "mercylavanya,4326546657,mercy@gmail.comlavanya,4326546657,mercy@gmail.com\n",
      "\n",
      "lavanya,4326546657,mercy@gmail.comlavanya,4326546657,mercy@gmail.com\n",
      "lavanya,4326546657,mercy@gmail.com\n",
      "lavanya,4326546657,mercy@gmail.com\n",
      "lavanya,4326546657,mercy@gmail.com\n"
     ]
    }
   ],
   "source": [
    "def listcontacts(fname):\n",
    "    with open(fname,'r') as f:\n",
    "        for line in f.readlines():\n",
    "            print(line,end='')\n",
    "listcontacts(fname)"
   ]
  },
  {
   "cell_type": "code",
   "execution_count": null,
   "metadata": {},
   "outputs": [],
   "source": []
  },
  {
   "cell_type": "code",
   "execution_count": 66,
   "metadata": {},
   "outputs": [
    {
     "name": "stdout",
     "output_type": "stream",
     "text": [
      "lavanya,4326546657,mercy@gmail.com\n",
      "lvas,4326546657,mercy@gmail.com\n",
      "no contact\n",
      "lava,4326546657,mercy@gmail.com\n",
      "no contact\n",
      "no contact\n",
      "lavss,4326546657,mercy@gmail.com\n",
      "no contact\n",
      "no contact\n",
      "no contact\n"
     ]
    }
   ],
   "source": [
    "def contactsearch(fname,name):\n",
    "    with open(fname,'r') as f:\n",
    "        fl=[]\n",
    "        for line in f:\n",
    "            fl.append(line.split(sep=','))\n",
    "            for name in fl:\n",
    "                if fl[0]==name:\n",
    "                    print(line,end='')\n",
    "                else:\n",
    "                    print(\"no contact\")\n",
    "\n",
    "       # print(fl[0])\n",
    "fname='Files/newcontacts.txt'\n",
    "contactsearch(fname,\"lavanya\")\n",
    "                "
   ]
  },
  {
   "cell_type": "code",
   "execution_count": 137,
   "metadata": {},
   "outputs": [
    {
     "name": "stdout",
     "output_type": "stream",
     "text": [
      "1.puppy:7615379  \n",
      "\n",
      "2.mer: 87594635\n",
      "\n",
      "3.lavs:451679658\n",
      "\n",
      "4.mercy:3247657868\n",
      "\n",
      "5.mercy:321476\n",
      "\n",
      "mercy:321656\n"
     ]
    }
   ],
   "source": [
    "with open(fname,'r') as f:\n",
    "    for line in f.readlines():\n",
    "        print(line)"
   ]
  },
  {
   "cell_type": "code",
   "execution_count": 138,
   "metadata": {},
   "outputs": [
    {
     "data": {
      "text/plain": [
       "'1.puppy:7615379  \\n2.mer: 87594635\\n3.lavs:451679658\\n4.mercy:3247657868\\n5.mercy:321476\\nmercy:321656'"
      ]
     },
     "execution_count": 138,
     "metadata": {},
     "output_type": "execute_result"
    }
   ],
   "source": [
    "fname = 'Files/contacts.txt'\n",
    "def csvToList(fname):\n",
    "    li = []\n",
    "    with open(fname, 'r') as f:\n",
    "        for line in f:\n",
    "            li.append(line.split(','))\n",
    "    return li\n",
    "\n",
    "def listToFile(li):\n",
    "    s = ''\n",
    "    for i in li:\n",
    "        s += ','.join(i)\n",
    "    return s\n",
    "    \n",
    "li = csvToList(fname)\n",
    "listToFile(li)"
   ]
  },
  {
   "cell_type": "code",
   "execution_count": 139,
   "metadata": {},
   "outputs": [
    {
     "name": "stdout",
     "output_type": "stream",
     "text": [
      "contact not existed\n"
     ]
    }
   ],
   "source": [
    "\n",
    "def search(fname,name):\n",
    "    fl=csvToList(fname)\n",
    "    flag=0\n",
    "    for line in fl:\n",
    "        #print(line[0])\n",
    "        if name==line[0]:\n",
    "            flag=1\n",
    "            #return 1\n",
    "            \n",
    "            print(','.join(line),end='')\n",
    "            \n",
    "    if flag==0:\n",
    "        print(\"contact not existed\")\n",
    "        #return -1\n",
    "\n",
    "search(fname,\"mercy\")"
   ]
  },
  {
   "cell_type": "code",
   "execution_count": 115,
   "metadata": {},
   "outputs": [
    {
     "data": {
      "text/plain": [
       "-1"
      ]
     },
     "execution_count": 115,
     "metadata": {},
     "output_type": "execute_result"
    }
   ],
   "source": [
    "# function to remove contact \n",
    "def searchwithreturn(fname,name):\n",
    "    fl=csvToList(fname)\n",
    "    flag=0\n",
    "    for i in range(len(fl)):\n",
    "        if name==fl[i][0]:\n",
    "            flag=1\n",
    "            return i\n",
    "    if flag==0:\n",
    "        return -1\n",
    "\n",
    "searchwithreturn(fname,\"lava\")\n"
   ]
  },
  {
   "cell_type": "code",
   "execution_count": 8,
   "metadata": {},
   "outputs": [
    {
     "name": "stdout",
     "output_type": "stream",
     "text": [
      "contacts not found to remove\n"
     ]
    }
   ],
   "source": [
    "def delcontact(fname,name):\n",
    "    i=searchwithreturn(fname,name)\n",
    "    if i!=-1:\n",
    "        print(fl)\n",
    "        fl=csvToList(fname)\n",
    "        #print(i)\n",
    "        print(fl)\n",
    "        #fl.pop(i)\n",
    "        fl.remove(li)\n",
    "        #print(fl)\n",
    "        s=listToFile(fl)\n",
    "        with open(fname,'w') as f:\n",
    "            f.write(s)\n",
    "    else:\n",
    "        print(\"contacts not found to remove\")\n",
    "\n",
    "delcontact(fname,\"lava\")      "
   ]
  },
  {
   "cell_type": "code",
   "execution_count": null,
   "metadata": {},
   "outputs": [],
   "source": [
    "def updatecontact(fname,name):\n",
    "    i= searchwithreturn(fname,name)\n",
    "    if i==1:\n",
    "        fl=csvToList"
   ]
  },
  {
   "cell_type": "code",
   "execution_count": 130,
   "metadata": {},
   "outputs": [
    {
     "name": "stdout",
     "output_type": "stream",
     "text": [
      "[2, 3, 5, 6, 7]\n"
     ]
    }
   ],
   "source": [
    "l=[2,3,4,6,7]\n",
    "#l=map(int,str(l))\n",
    "for i in range(len(l)):\n",
    "    #print(i)\n",
    "    if l[i]==4:\n",
    "        l[i]=5\n",
    "print(l)"
   ]
  },
  {
   "cell_type": "code",
   "execution_count": 144,
   "metadata": {},
   "outputs": [
    {
     "name": "stdout",
     "output_type": "stream",
     "text": [
      "lsdf\n",
      "lsdfz dgfga\n"
     ]
    }
   ],
   "source": [
    "s=\"asdfd dgfga\"\n",
    "s=s.replace(\"a\",\"l\",1)\n",
    "len(s)\n",
    "c=0\n",
    "s1=''\n",
    "for i in range(len(s)):\n",
    "    #print(s[i])\n",
    "    if s[i]=='d':\n",
    "        c=c+1\n",
    "        if c==2:\n",
    "            print(s1)\n",
    "            s1 += 'z'\n",
    "        else:\n",
    "            s1 += s[i]\n",
    "       \n",
    "    else:\n",
    "        s1 += s[i]\n",
    "print(s1)\n",
    "   \n",
    "        \n",
    "\n",
    "    "
   ]
  },
  {
   "cell_type": "code",
   "execution_count": 141,
   "metadata": {},
   "outputs": [],
   "source": [
    "# function to adding line numbers in afile\n",
    "\n",
    "\n",
    "def addlinenumbers(fname):\n",
    "    #c=0\n",
    "    line_num=1\n",
    "    fr=open(fname,'r')\n",
    "    lines=fr.readlines()\n",
    "    fr.close()\n",
    "    fw=open(fname,'w')\n",
    "    #print(f)\n",
    "    for line in lines:\n",
    "        print(line_num,line,sep=\".\",end=\"\",file=fw)\n",
    "        line_num+=1\n",
    "        \n",
    "    fw.close()           \n",
    "    #print(c)\n",
    "fname='Files/contacts.txt'\n",
    "addlinenumbers(fname)"
   ]
  },
  {
   "cell_type": "code",
   "execution_count": 121,
   "metadata": {},
   "outputs": [],
   "source": [
    "#function to modify / update the contacts\n",
    "def modifycontacts(fname,key):\n",
    "    f=open(fname,'r')\n",
    "    re=searchwithreturn(fname,key)\n",
    "    if re!=-1:\n",
    "        for i in range(len(f)):\n",
    "            res= f[i][0][re]\n",
    "            print(res)\n",
    "            \n",
    "\n",
    "fname='Files/contacts.txt'\n",
    "modifycontacts(fname,\"lavanya\")"
   ]
  },
  {
   "cell_type": "code",
   "execution_count": 97,
   "metadata": {},
   "outputs": [
    {
     "name": "stdout",
     "output_type": "stream",
     "text": [
      "22\n"
     ]
    }
   ],
   "source": [
    "# function to char count\n",
    "def countchar(fname):\n",
    "    c=0\n",
    "    f=open(fname,'r')\n",
    "    for line in f:\n",
    "        for i in line:\n",
    "            if i.isalpha():\n",
    "                c+=1\n",
    "    print(c)\n",
    "            \n",
    "fname='Files/contacts.txt'\n",
    "countchar(fname)"
   ]
  },
  {
   "cell_type": "code",
   "execution_count": 35,
   "metadata": {},
   "outputs": [
    {
     "name": "stdout",
     "output_type": "stream",
     "text": [
      "9\n"
     ]
    }
   ],
   "source": [
    "# function to count word\n",
    "def countword(fname):\n",
    "    c=0\n",
    "    f=open(fname,'r')\n",
    "    for line in f:\n",
    "        for i in line.split(sep=\" \"):\n",
    "            #print(i)\n",
    "            c+=1\n",
    "    print(c)\n",
    "            \n",
    "fname='Files/contacts.txt'\n",
    "countword(fname)"
   ]
  },
  {
   "cell_type": "code",
   "execution_count": 102,
   "metadata": {},
   "outputs": [
    {
     "name": "stdout",
     "output_type": "stream",
     "text": [
      "\n",
      " 5\n"
     ]
    }
   ],
   "source": [
    "\n",
    "# function to line count\n",
    "def countline(fname):\n",
    "    c=0\n",
    "    f=open(fname,'r')\n",
    "    for line in f:\n",
    "        #for i in line.split(sep=\"\\n\"):\n",
    "            #print(i,end='')\n",
    "            c+=1\n",
    "    print(\"\\n\",c)\n",
    "            \n",
    "fname='Files/contacts.txt'\n",
    "countline(fname)"
   ]
  },
  {
   "cell_type": "code",
   "execution_count": 114,
   "metadata": {},
   "outputs": [
    {
     "name": "stdout",
     "output_type": "stream",
     "text": [
      "helloooo\n",
      "iiit\n",
      "hello\n",
      "hello\n",
      "hello\n",
      "3\n"
     ]
    }
   ],
   "source": [
    "# function to unique word count\n",
    "def countword(fname):\n",
    "    c=0\n",
    "    d=[]\n",
    "    f=open(fname,'r')\n",
    "    for line in f:\n",
    "        for i in line.split(sep=\" \"):\n",
    "            print(i)\n",
    "            if i not in d:\n",
    "                d.append(i)  \n",
    "            #if \n",
    "            #c+=1\n",
    "    print(len(d))\n",
    "            \n",
    "fname='Files/data.txt'\n",
    "countword(fname)"
   ]
  },
  {
   "cell_type": "code",
   "execution_count": 113,
   "metadata": {},
   "outputs": [
    {
     "name": "stdout",
     "output_type": "stream",
     "text": [
      "3\n"
     ]
    }
   ],
   "source": [
    "# function to unique word count\n",
    "def countword(fname):\n",
    "    c=0\n",
    "    d=[]\n",
    "    f=open(fname,'r')\n",
    "    for line in f:\n",
    "        for i in line.split(sep=\" \"):\n",
    "            if i not in d:\n",
    "                d.append(i)\n",
    "    print(len(d))\n",
    "            \n",
    "fname='Files/data.txt'\n",
    "countword(fname)"
   ]
  },
  {
   "cell_type": "code",
   "execution_count": 27,
   "metadata": {},
   "outputs": [
    {
     "name": "stdout",
     "output_type": "stream",
     "text": [
      "6\n"
     ]
    }
   ],
   "source": [
    "# function to File size\n",
    "def countchar(fname):\n",
    "    c=0\n",
    "    total=1\n",
    "    f=open(fname,'r')\n",
    "    for line in f:\n",
    "        for i in line:\n",
    "            if i.isalpha():\n",
    "                total*=8\n",
    "            elif i.isdigit():\n",
    "                total*32\n",
    "        if total>1024:\n",
    "            c+=1\n",
    "            \n",
    "    print(c)\n",
    "            \n",
    "fname='Files/contacts.txt'\n",
    "countchar(fname)"
   ]
  },
  {
   "cell_type": "code",
   "execution_count": 1,
   "metadata": {},
   "outputs": [
    {
     "data": {
      "text/plain": [
       "[2, 3, 4, 5, 5]"
      ]
     },
     "execution_count": 1,
     "metadata": {},
     "output_type": "execute_result"
    }
   ],
   "source": [
    "l=[2,3,4,5,5]\n",
    "l"
   ]
  },
  {
   "cell_type": "code",
   "execution_count": 43,
   "metadata": {},
   "outputs": [
    {
     "name": "stdout",
     "output_type": "stream",
     "text": [
      "4\n",
      "5\n",
      "6\n",
      "9\n"
     ]
    }
   ],
   "source": [
    "sum=0\n",
    "l=[1,3,2,4,5]\n",
    "for i in range(0,len(l)-1):\n",
    "    sum=l[i]+l[i+1]\n",
    "    print(sum)\n",
    "    \n",
    "\n",
    "    #m=l[i]+l[i+1]\n",
    "    #print(m)"
   ]
  },
  {
   "cell_type": "markdown",
   "metadata": {},
   "source": [
    "### * function to read lines in a List from file @ 2 Methods"
   ]
  },
  {
   "cell_type": "code",
   "execution_count": 39,
   "metadata": {},
   "outputs": [
    {
     "name": "stdout",
     "output_type": "stream",
     "text": [
      "['1.puppy: 7615379  ', '2.mer: 87594635', '3.lavs: 451679658', '4.mercy: 3247657868', '5.mercy: 321476', '6.mercy: 321656']\n"
     ]
    }
   ],
   "source": [
    "\n",
    "\n",
    "def readlinesss(file):\n",
    "    li=[]\n",
    "    with open(file,'r') as f:\n",
    "        \"\"\"for l in f:\n",
    "            li.append(l)\n",
    "        print(li)\"\"\"\n",
    "        filedata=f.read()\n",
    "        lines=filedata.split(\"\\n\")\n",
    "        print(lines)\n",
    "\n",
    "\n",
    "file='Files/contacts.txt'\n",
    "readlinesss(file)"
   ]
  },
  {
   "cell_type": "code",
   "execution_count": null,
   "metadata": {},
   "outputs": [],
   "source": []
  }
 ],
 "metadata": {
  "kernelspec": {
   "display_name": "Python 3",
   "language": "python",
   "name": "python3"
  },
  "language_info": {
   "codemirror_mode": {
    "name": "ipython",
    "version": 3
   },
   "file_extension": ".py",
   "mimetype": "text/x-python",
   "name": "python",
   "nbconvert_exporter": "python",
   "pygments_lexer": "ipython3",
   "version": "3.7.3"
  }
 },
 "nbformat": 4,
 "nbformat_minor": 2
}
