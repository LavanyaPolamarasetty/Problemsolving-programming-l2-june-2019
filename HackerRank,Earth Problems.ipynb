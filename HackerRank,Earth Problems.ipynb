{
 "cells": [
  {
   "cell_type": "code",
   "execution_count": 2,
   "metadata": {},
   "outputs": [
    {
     "name": "stdout",
     "output_type": "stream",
     "text": [
      "1\n",
      "55 55 -55 55\n",
      "-55\n"
     ]
    }
   ],
   "source": [
    "n = int(input())\n",
    "arr = list(map(int, input().split()))\n",
    "res=list(set(arr))\n",
    "re=sorted(res)\n",
    "print(re[-2])"
   ]
  },
  {
   "cell_type": "code",
   "execution_count": 9,
   "metadata": {},
   "outputs": [
    {
     "name": "stdout",
     "output_type": "stream",
     "text": [
      "3\n",
      "hackerearth\n",
      "same\n"
     ]
    }
   ],
   "source": [
    "n=int(input())\n",
    "d7={'h': 2, 'a': 2, 'c': 1, 'k': 1, 'e': 2, 'r': 2, 't': 1}\n",
    "\n",
    "s=input()\n",
    "d={}\n",
    "for i in s:\n",
    "    if i not in d:\n",
    "        d[i]=1\n",
    "    else:\n",
    "        d[i]+=1\n",
    "    \n"
   ]
  },
  {
   "cell_type": "code",
   "execution_count": 27,
   "metadata": {},
   "outputs": [
    {
     "name": "stdout",
     "output_type": "stream",
     "text": [
      "1 2 3 4\n",
      "[2, 3, 4]\n",
      "[9]\n",
      "[2, 4]\n",
      "[9, 6]\n"
     ]
    },
    {
     "ename": "IndexError",
     "evalue": "pop index out of range",
     "output_type": "error",
     "traceback": [
      "\u001b[1;31m---------------------------------------------------------------------------\u001b[0m",
      "\u001b[1;31mIndexError\u001b[0m                                Traceback (most recent call last)",
      "\u001b[1;32m<ipython-input-27-7cfc85d450e2>\u001b[0m in \u001b[0;36m<module>\u001b[1;34m\u001b[0m\n\u001b[0;32m      6\u001b[0m \u001b[1;31m#print(ncopy)\u001b[0m\u001b[1;33m\u001b[0m\u001b[1;33m\u001b[0m\u001b[1;33m\u001b[0m\u001b[0m\n\u001b[0;32m      7\u001b[0m \u001b[1;32mfor\u001b[0m \u001b[0mi\u001b[0m \u001b[1;32min\u001b[0m \u001b[0mrange\u001b[0m\u001b[1;33m(\u001b[0m\u001b[0mlen\u001b[0m\u001b[1;33m(\u001b[0m\u001b[0mnum\u001b[0m\u001b[1;33m)\u001b[0m\u001b[1;33m-\u001b[0m\u001b[1;36m1\u001b[0m\u001b[1;33m)\u001b[0m\u001b[1;33m:\u001b[0m\u001b[1;33m\u001b[0m\u001b[1;33m\u001b[0m\u001b[0m\n\u001b[1;32m----> 8\u001b[1;33m     \u001b[0mnum\u001b[0m\u001b[1;33m.\u001b[0m\u001b[0mpop\u001b[0m\u001b[1;33m(\u001b[0m\u001b[0mi\u001b[0m\u001b[1;33m)\u001b[0m\u001b[1;33m\u001b[0m\u001b[1;33m\u001b[0m\u001b[0m\n\u001b[0m\u001b[0;32m      9\u001b[0m     \u001b[0mprint\u001b[0m\u001b[1;33m(\u001b[0m\u001b[0mnum\u001b[0m\u001b[1;33m)\u001b[0m\u001b[1;33m\u001b[0m\u001b[1;33m\u001b[0m\u001b[0m\n\u001b[0;32m     10\u001b[0m     \u001b[0mp\u001b[0m\u001b[1;33m.\u001b[0m\u001b[0mappend\u001b[0m\u001b[1;33m(\u001b[0m\u001b[0msum\u001b[0m\u001b[1;33m(\u001b[0m\u001b[0mnum\u001b[0m\u001b[1;33m)\u001b[0m\u001b[1;33m)\u001b[0m\u001b[1;33m\u001b[0m\u001b[1;33m\u001b[0m\u001b[0m\n",
      "\u001b[1;31mIndexError\u001b[0m: pop index out of range"
     ]
    }
   ],
   "source": [
    "num=list(map(int,input().split()))\n",
    "#print(num)\n",
    "ncopy=[]\n",
    "ncopy=num[:]\n",
    "p=[]\n",
    "#print(ncopy)\n",
    "for i in range(len(num)-1):\n",
    "    num.pop(i)\n",
    "    print(num)\n",
    "    p.append(sum(num))\n",
    "    print(p)\n",
    "    "
   ]
  },
  {
   "cell_type": "code",
   "execution_count": 12,
   "metadata": {},
   "outputs": [
    {
     "name": "stdout",
     "output_type": "stream",
     "text": [
      "AZ\n",
      "4\n",
      "ED"
     ]
    }
   ],
   "source": [
    "s=input()\n",
    "k=int(input())\n",
    "digit=0\n",
    "for i in s:\n",
    "    if i.isalpha():\n",
    "            div=k%26\n",
    "            r=div+ord(i)\n",
    "            if i.islower():\n",
    "                if r<=122:\n",
    "                    print(chr(r),end='')\n",
    "                else:\n",
    "                    print(chr(r-26),end='')\n",
    "            if i.isupper():\n",
    "                if r<=90:\n",
    "                    print(chr(r),end='')\n",
    "                else:\n",
    "                    ch=chr(r-26)\n",
    "                    print(ch,end='')\n",
    "                   \n",
    "    elif i.isdigit():\n",
    "        r = (int(i)+k) % 10\n",
    "        print(r,end='')\n",
    "        #print(ii-9,end='')\n",
    "    else:\n",
    "        print(i,end='')"
   ]
  },
  {
   "cell_type": "code",
   "execution_count": 27,
   "metadata": {},
   "outputs": [
    {
     "name": "stdout",
     "output_type": "stream",
     "text": [
      "12X345-67\n",
      "['1', '2', '3', '4', '5', '6', '7']\n",
      "28\n",
      "valid\n"
     ]
    }
   ],
   "source": [
    "d=list(input())\n",
    "ch=d[2]\n",
    "sp=d[6]\n",
    "d.pop(2)\n",
    "d.pop(5)\n",
    "print(d)\n",
    "sum=0\n",
    "for i in range(len(d)):\n",
    "    sum+=int(d[i])\n",
    "print(sum)\n",
    "if sum%2==0:\n",
    "    #print(sum)\n",
    "    if ch!='A' and ch!='E' and ch!='I' and ch!='o' and ch!='U' and ch!='Y':\n",
    "        print(\"valid\")\n",
    "else:\n",
    "    print(\"invalid\")"
   ]
  },
  {
   "cell_type": "code",
   "execution_count": 11,
   "metadata": {},
   "outputs": [
    {
     "name": "stdout",
     "output_type": "stream",
     "text": [
      "9\n",
      "9\n"
     ]
    }
   ],
   "source": [
    "\n",
    "def PerfectSqrt(n):\n",
    "    for i in range(1,n):\n",
    "        if n%i==0:\n",
    "            print(n)\n",
    "\n",
    "PerfectSqrt(9)\n",
    "    \n"
   ]
  },
  {
   "cell_type": "code",
   "execution_count": 4,
   "metadata": {},
   "outputs": [
    {
     "name": "stdout",
     "output_type": "stream",
     "text": [
      "4\n",
      "9\n",
      "16\n",
      "25\n",
      "36\n",
      "49\n",
      "64\n",
      "81\n"
     ]
    },
    {
     "data": {
      "text/plain": [
       "8"
      ]
     },
     "execution_count": 4,
     "metadata": {},
     "output_type": "execute_result"
    }
   ],
   "source": [
    "def fact(n):\n",
    "    k=0\n",
    "    for i in range(1,n):\n",
    "        if n%i==0:\n",
    "            if (i*i)==n:\n",
    "                k=i\n",
    "    return k\n",
    "def perfectnum(num):\n",
    "    l=[]\n",
    "    p=0\n",
    "    c=0\n",
    "    for i in range(num):\n",
    "        if fact(i)>0:\n",
    "            p=fact(i)\n",
    "            print(p**2)\n",
    "            c+=1\n",
    "    return c        \n",
    "perfectnum(100)\n",
    "\n"
   ]
  },
  {
   "cell_type": "code",
   "execution_count": 24,
   "metadata": {},
   "outputs": [
    {
     "name": "stdout",
     "output_type": "stream",
     "text": [
      "3\n",
      "xzcjhj.com\n",
      "jdfh.in\n",
      "dghc.com\n",
      "{'com': 2, 'in': 1}\n",
      "com\n"
     ]
    }
   ],
   "source": [
    "n=int(input())\n",
    "l=[]\n",
    "le=0\n",
    "d={}\n",
    "f={}\n",
    "m=0\n",
    "for i in range(n):\n",
    "    u=input().split(\".\")\n",
    "    l.append(u[1])\n",
    "for i in range(len(l)):\n",
    "    if l[i] not in d:\n",
    "        d[l[i]]=1\n",
    "    else:\n",
    "        d[l[i]]+=1\n",
    "print(d)\n",
    "\"\"\"for val in d.items():\n",
    "    f[val[1]]=val[0]\n",
    "print(f)\n",
    "a=sorted(f.keys(),reverse=True)    \n",
    "print(f[max(a)] )\n",
    "d1=dict(list((keys,values) for key,val in d.items()))\"\"\"\n",
    "\n",
    "m=max(list(d.values()))\n",
    "for key,value in d.items():\n",
    "    if value==m:\n",
    "        print(key)\n",
    "\n"
   ]
  },
  {
   "cell_type": "code",
   "execution_count": 25,
   "metadata": {},
   "outputs": [
    {
     "name": "stdout",
     "output_type": "stream",
     "text": [
      "yes\n"
     ]
    }
   ],
   "source": [
    "ch='\\'njm\n",
    "if ch == \"\\\\\" :\n",
    "    print(\"yes\")"
   ]
  },
  {
   "cell_type": "code",
   "execution_count": 8,
   "metadata": {},
   "outputs": [
    {
     "name": "stdout",
     "output_type": "stream",
     "text": [
      "1 \n",
      "1 2 \n",
      "1 2 3 \n",
      "1 2 3 4 \n",
      "1 2 3 4 5 \n"
     ]
    }
   ],
   "source": [
    "s=\"12345\"\n",
    "for k in s:\n",
    "    for i in range(int(k)+1,len(s)+1):\n",
    "        for j in range(i):\n",
    "            print(s[j],end=\" \")\n",
    "        print()"
   ]
  },
  {
   "cell_type": "code",
   "execution_count": 69,
   "metadata": {},
   "outputs": [
    {
     "name": "stdout",
     "output_type": "stream",
     "text": [
      "a\n",
      "a c\n",
      "a c e\n",
      "a c e b\n",
      "b\n",
      "b a\n",
      "b a c\n",
      "b a c e\n",
      "b a c e b\n",
      "c\n",
      "c e\n",
      "c e b\n",
      "e\n",
      "e b\n",
      "e\n",
      "17\n"
     ]
    }
   ],
   "source": [
    "s='baceb'\n",
    "s1=sorted(list(set(s)))\n",
    "c=0\n",
    "for char in s1:\n",
    "    op=\"\"\n",
    "    print(char)\n",
    "    if char in \"aeiouAEIOU\":\n",
    "                c+=1\n",
    "    for val in s[s.index(char)+1:]:\n",
    "        #print(val)\n",
    "        op=op+\" \"+val\n",
    "        sch=char+op\n",
    "        print(sch)\n",
    "        for ch in sch:\n",
    "            if ch in \"aeiouAEIOU\":\n",
    "                c+=1\n",
    "print(char)\n",
    "if char in \"aeiouAEIOU\":\n",
    "        c+=1\n",
    "print(c)\n",
    "            "
   ]
  },
  {
   "cell_type": "code",
   "execution_count": 45,
   "metadata": {},
   "outputs": [
    {
     "ename": "ValueError",
     "evalue": "substring not found",
     "output_type": "error",
     "traceback": [
      "\u001b[1;31m---------------------------------------------------------------------------\u001b[0m",
      "\u001b[1;31mValueError\u001b[0m                                Traceback (most recent call last)",
      "\u001b[1;32m<ipython-input-45-b347b16750b4>\u001b[0m in \u001b[0;36m<module>\u001b[1;34m\u001b[0m\n\u001b[1;32m----> 1\u001b[1;33m \u001b[0ms\u001b[0m\u001b[1;33m.\u001b[0m\u001b[0mindex\u001b[0m\u001b[1;33m(\u001b[0m\u001b[1;34m'1'\u001b[0m\u001b[1;33m)\u001b[0m\u001b[1;33m\u001b[0m\u001b[1;33m\u001b[0m\u001b[0m\n\u001b[0m",
      "\u001b[1;31mValueError\u001b[0m: substring not found"
     ]
    }
   ],
   "source": [
    "s.index('1')"
   ]
  },
  {
   "cell_type": "code",
   "execution_count": 10,
   "metadata": {},
   "outputs": [
    {
     "name": "stdout",
     "output_type": "stream",
     "text": [
      "['d', 'j', 'g', 'h', 'j', 's', 'f', 'j', 'j', 'f', 'd', 'g', 'h', 'f', 'h']\n"
     ]
    }
   ],
   "source": [
    "li=[]\n",
    "\n",
    "l=['djgh','jsfj','jfdghfh']\n",
    "for i in range(len(l)):\n",
    "    for k in l[i]:\n",
    "        li.append(k)\n",
    "print(li)\n",
    "    "
   ]
  },
  {
   "cell_type": "code",
   "execution_count": 13,
   "metadata": {},
   "outputs": [
    {
     "data": {
      "text/plain": [
       "['fdksg', 'djfk', 'dhfkj']"
      ]
     },
     "execution_count": 13,
     "metadata": {},
     "output_type": "execute_result"
    }
   ],
   "source": [
    "l3=[]\n",
    "s1=\"fdksg\"\n",
    "s2=\"djfk\"\n",
    "s3=\"dhfkj\"\n",
    "l3.append(s1)\n",
    "l3.append(s2)\n",
    "l3.append(s3)\n",
    "l3"
   ]
  },
  {
   "cell_type": "code",
   "execution_count": null,
   "metadata": {},
   "outputs": [],
   "source": []
  }
 ],
 "metadata": {
  "kernelspec": {
   "display_name": "Python 3",
   "language": "python",
   "name": "python3"
  },
  "language_info": {
   "codemirror_mode": {
    "name": "ipython",
    "version": 3
   },
   "file_extension": ".py",
   "mimetype": "text/x-python",
   "name": "python",
   "nbconvert_exporter": "python",
   "pygments_lexer": "ipython3",
   "version": "3.7.3"
  }
 },
 "nbformat": 4,
 "nbformat_minor": 2
}
