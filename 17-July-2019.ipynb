{
 "cells": [
  {
   "cell_type": "code",
   "execution_count": 1,
   "metadata": {},
   "outputs": [
    {
     "name": "stdout",
     "output_type": "stream",
     "text": [
      "2\n",
      "9 6\n",
      "10\n",
      "1 1\n",
      "1 0\n",
      "1 0\n",
      "1 1\n",
      "1 0\n",
      "0 1\n",
      "1 0\n",
      "0 1\n",
      "0 0\n",
      "0 1\n",
      "84\n",
      "1 9\n",
      "10\n",
      "1 0\n",
      "0 1\n",
      "1 0\n",
      "0 1\n",
      "0 1\n",
      "1 0\n",
      "1 1\n",
      "0 0\n",
      "1 0\n",
      "0 1\n",
      "50\n"
     ]
    }
   ],
   "source": [
    "# Cost of balloons\n",
    "t=int(input())\n",
    "for i in range(1,t+1):\n",
    "    if i%2==0:\n",
    "        cost = input().split()\n",
    "        case=int(input())\n",
    "        sumG=0\n",
    "        sumP=0\n",
    "        for k in range(case):\n",
    "            n=list(map(int,input().split()))\n",
    "            sumG+=n[0]\n",
    "            sumP+=n[1]\n",
    "        print((sumG*int(cost[1]))+(sumP*int(cost[0])))\n",
    "    else:\n",
    "        cost = input().split()\n",
    "        case=int(input())\n",
    "        sumG=0\n",
    "        sumP=0\n",
    "        for k in range(case):\n",
    "            n=list(map(int,input().split()))\n",
    "            sumG+=n[0]\n",
    "            sumP+=n[1]\n",
    "        print((sumG*int(cost[0]))+(sumP*int(cost[1])))"
   ]
  },
  {
   "cell_type": "code",
   "execution_count": null,
   "metadata": {},
   "outputs": [],
   "source": []
  }
 ],
 "metadata": {
  "kernelspec": {
   "display_name": "Python 3",
   "language": "python",
   "name": "python3"
  },
  "language_info": {
   "codemirror_mode": {
    "name": "ipython",
    "version": 3
   },
   "file_extension": ".py",
   "mimetype": "text/x-python",
   "name": "python",
   "nbconvert_exporter": "python",
   "pygments_lexer": "ipython3",
   "version": "3.7.3"
  }
 },
 "nbformat": 4,
 "nbformat_minor": 2
}
