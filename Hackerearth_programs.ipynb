{
 "cells": [
  {
   "cell_type": "markdown",
   "metadata": {},
   "source": [
    "# Day Objectives\n",
    " ### Basic Problem Set on Hacker earth ( Basic I / O category)\n",
    " \n",
    "        Count Divisors \n",
    "        Factorial\n",
    "        Toggle String\n",
    "        Palindrome\n",
    "        Prime Numbers\n",
    "        Two Strings\n",
    "        Duration\n",
    "        Char Sum\n",
    "        Play with Numbers\n",
    "        e-maze-in\n",
    "        Hello"
   ]
  },
  {
   "cell_type": "code",
   "execution_count": 2,
   "metadata": {},
   "outputs": [
    {
     "name": "stdout",
     "output_type": "stream",
     "text": [
      "1 10 1\n",
      "10\n"
     ]
    }
   ],
   "source": [
    "# Count Divisors\n",
    "\n",
    "def countdivinrange(l,r,k):\n",
    "    count=0\n",
    "    for i in range (l,r+1):\n",
    "        if i%k==0:\n",
    "            count+=1\n",
    "    return count\n",
    "s = input().split() \n",
    "l=int(s[0])\n",
    "r=int(s[1])\n",
    "k=int(s[2])\n",
    "print(countdivinrange(l,r,k))"
   ]
  },
  {
   "cell_type": "code",
   "execution_count": 3,
   "metadata": {},
   "outputs": [
    {
     "name": "stdout",
     "output_type": "stream",
     "text": [
      "4\n",
      "24\n"
     ]
    }
   ],
   "source": [
    "# Factorial\n",
    "def fact(n):\n",
    "    t=0\n",
    "    for i in range(1,n):\n",
    "        n=n*i\n",
    "    return n\n",
    "\n",
    "N=input()\n",
    "N=int(N)\n",
    "print(fact(N))"
   ]
  },
  {
   "cell_type": "code",
   "execution_count": 7,
   "metadata": {},
   "outputs": [
    {
     "name": "stdout",
     "output_type": "stream",
     "text": [
      "merCY\n",
      "MERcy\n"
     ]
    }
   ],
   "source": [
    "# Toggle String\n",
    "#process1:\n",
    "def swap_case(S):\n",
    "    r= S.swapcase()\n",
    "    return r\n",
    "S=input()\n",
    "p=swap_case(S)\n",
    "print(p)"
   ]
  },
  {
   "cell_type": "code",
   "execution_count": 39,
   "metadata": {},
   "outputs": [
    {
     "ename": "TypeError",
     "evalue": "'str' object does not support item assignment",
     "output_type": "error",
     "traceback": [
      "\u001b[1;31m---------------------------------------------------------------------------\u001b[0m",
      "\u001b[1;31mTypeError\u001b[0m                                 Traceback (most recent call last)",
      "\u001b[1;32m<ipython-input-39-cc4d67d2a253>\u001b[0m in \u001b[0;36m<module>\u001b[1;34m\u001b[0m\n\u001b[0;32m      9\u001b[0m         \u001b[0mprint\u001b[0m\u001b[1;33m(\u001b[0m\u001b[0ms\u001b[0m\u001b[1;33m)\u001b[0m\u001b[1;33m\u001b[0m\u001b[1;33m\u001b[0m\u001b[0m\n\u001b[0;32m     10\u001b[0m \u001b[1;33m\u001b[0m\u001b[0m\n\u001b[1;32m---> 11\u001b[1;33m \u001b[0mtogglestring\u001b[0m\u001b[1;33m(\u001b[0m\u001b[1;34m\"MeRcY\"\u001b[0m\u001b[1;33m)\u001b[0m\u001b[1;33m\u001b[0m\u001b[1;33m\u001b[0m\u001b[0m\n\u001b[0m",
      "\u001b[1;32m<ipython-input-39-cc4d67d2a253>\u001b[0m in \u001b[0;36mtogglestring\u001b[1;34m(s)\u001b[0m\n\u001b[0;32m      6\u001b[0m             \u001b[0ms\u001b[0m\u001b[1;33m[\u001b[0m\u001b[0mi\u001b[0m\u001b[1;33m]\u001b[0m\u001b[1;33m=\u001b[0m\u001b[0ms\u001b[0m\u001b[1;33m[\u001b[0m\u001b[0mi\u001b[0m\u001b[1;33m]\u001b[0m\u001b[1;33m.\u001b[0m\u001b[0mupper\u001b[0m\u001b[1;33m(\u001b[0m\u001b[1;33m)\u001b[0m\u001b[1;33m\u001b[0m\u001b[1;33m\u001b[0m\u001b[0m\n\u001b[0;32m      7\u001b[0m         \u001b[1;32melif\u001b[0m \u001b[0ms\u001b[0m\u001b[1;33m[\u001b[0m\u001b[0mi\u001b[0m\u001b[1;33m]\u001b[0m\u001b[1;33m.\u001b[0m\u001b[0misupper\u001b[0m\u001b[1;33m(\u001b[0m\u001b[1;33m)\u001b[0m\u001b[1;33m:\u001b[0m\u001b[1;33m\u001b[0m\u001b[1;33m\u001b[0m\u001b[0m\n\u001b[1;32m----> 8\u001b[1;33m             \u001b[0ms\u001b[0m\u001b[1;33m[\u001b[0m\u001b[0mi\u001b[0m\u001b[1;33m]\u001b[0m\u001b[1;33m=\u001b[0m\u001b[0ms\u001b[0m\u001b[1;33m[\u001b[0m\u001b[0mi\u001b[0m\u001b[1;33m]\u001b[0m\u001b[1;33m.\u001b[0m\u001b[0mlower\u001b[0m\u001b[1;33m(\u001b[0m\u001b[1;33m)\u001b[0m\u001b[1;33m\u001b[0m\u001b[1;33m\u001b[0m\u001b[0m\n\u001b[0m\u001b[0;32m      9\u001b[0m         \u001b[0mprint\u001b[0m\u001b[1;33m(\u001b[0m\u001b[0ms\u001b[0m\u001b[1;33m)\u001b[0m\u001b[1;33m\u001b[0m\u001b[1;33m\u001b[0m\u001b[0m\n\u001b[0;32m     10\u001b[0m \u001b[1;33m\u001b[0m\u001b[0m\n",
      "\u001b[1;31mTypeError\u001b[0m: 'str' object does not support item assignment"
     ]
    }
   ],
   "source": [
    "# process2:\n",
    "def togglestring(s):\n",
    "    for i in range(len(s)):\n",
    "        #print(i)\n",
    "        if s[i].islower():\n",
    "            s[i]=s[i].upper()\n",
    "        elif s[i].isupper():\n",
    "            s[i]=s[i].lower()\n",
    "        print(s)\n",
    "    \n",
    "togglestring(\"MeRcY\")"
   ]
  },
  {
   "cell_type": "code",
   "execution_count": 21,
   "metadata": {},
   "outputs": [
    {
     "data": {
      "text/plain": [
       "'kdsn'"
      ]
     },
     "execution_count": 21,
     "metadata": {},
     "output_type": "execute_result"
    }
   ],
   "source": [
    "s=\"kdsn\"\n",
    "\" \".join(s)\n",
    "s"
   ]
  },
  {
   "cell_type": "code",
   "execution_count": 11,
   "metadata": {},
   "outputs": [
    {
     "name": "stdout",
     "output_type": "stream",
     "text": [
      "meeem\n",
      "YES\n"
     ]
    }
   ],
   "source": [
    "# Palindromic String\n",
    "def pelindrome(S):\n",
    "    p=S[::-1]\n",
    "    if S==p:\n",
    "        print(\"YES\")\n",
    "    else:\n",
    "        print(\"NO\")\n",
    "    \n",
    "S=str(input())\n",
    "pelindrome(S)\n",
    "\n"
   ]
  },
  {
   "cell_type": "code",
   "execution_count": 12,
   "metadata": {},
   "outputs": [
    {
     "name": "stdout",
     "output_type": "stream",
     "text": [
      "7\n",
      "2 3 5 7 "
     ]
    }
   ],
   "source": [
    "# Prime Numbers\n",
    "def prime(n):\n",
    "    for i in range(1,n+1):\n",
    "        c=0\n",
    "        for j in range (1,i+1):\n",
    "            if i%j==0:\n",
    "                c+=1\n",
    "        if c==2:\n",
    "            print(j,end=' ')\n",
    "    return\n",
    "            \n",
    "N=input()\n",
    "N=int(N)\n",
    "prime(N)"
   ]
  },
  {
   "cell_type": "code",
   "execution_count": null,
   "metadata": {},
   "outputs": [],
   "source": [
    "# Two Strings\n",
    "\"\"\"n=int(input())\n",
    "for i in range(n):\n",
    "    p=list(input().split())\n",
    "    c=0\n",
    "    s1=p[0]\n",
    "    s2=p[1]\n",
    "    if len(s1)==len(s2):\n",
    "        for i in range(0,len(s1)):\n",
    "            for j in range(0,len(s2)):\n",
    "                if s2[i]==s1[j]:\n",
    "                    c+=1\n",
    "        if c==len(s1):\n",
    "            print(\"YES\")\n",
    "        else:\n",
    "            print(\"NO\")\"\"\"\n",
    "n=int(input())\n",
    "for i in range(n):\n",
    "    p=list(input().split(' '))\n",
    "    if sorted(p[0])==sorted(p[1]):\n",
    "        print(\"YES\")\n",
    "    else:\n",
    "        print(\"NO\")\n"
   ]
  },
  {
   "cell_type": "code",
   "execution_count": 41,
   "metadata": {},
   "outputs": [
    {
     "name": "stdout",
     "output_type": "stream",
     "text": [
      "1\n",
      "2 42 8 23\n",
      "5 41\n"
     ]
    }
   ],
   "source": [
    "# Duration\n",
    "n=int(input())\n",
    "for i in range(n):\n",
    "    s=list(input().split(' '))\n",
    "    sh=int(s[0])\n",
    "    sm=int(s[1])\n",
    "    eh=int(s[2])\n",
    "    em=int(s[3])\n",
    "    #h1=24-sh\n",
    "    m1=60-sm\n",
    "    #h2=24-eh\n",
    "    m2=em\n",
    "    h=eh-sh-1\n",
    "    m=m1+m2\n",
    "    if m>=60:\n",
    "        h+=1\n",
    "        #m=m-60\n",
    "    print(h,end=' ')\n",
    "    print(m)"
   ]
  },
  {
   "cell_type": "code",
   "execution_count": 2,
   "metadata": {},
   "outputs": [
    {
     "name": "stdout",
     "output_type": "stream",
     "text": [
      "Mercy\n",
      "32\n"
     ]
    }
   ],
   "source": [
    "# Char Sum\n",
    "sum=0\n",
    "li=input()\n",
    "for i in li:\n",
    "    #print(i)\n",
    "    u=ord(i)-96\n",
    "    #print(u)\n",
    "    sum=sum+u\n",
    "print(sum)"
   ]
  },
  {
   "cell_type": "code",
   "execution_count": 3,
   "metadata": {},
   "outputs": [
    {
     "name": "stdout",
     "output_type": "stream",
     "text": [
      "5 3\n",
      "1 2 3 4 5\n",
      "1 3\n",
      "2 2 5\n",
      "6 "
     ]
    }
   ],
   "source": [
    "# Play with Numbers\n",
    "array=[]\n",
    "lb=0\n",
    "ub=0\n",
    "sum=0\n",
    "c=0\n",
    "s=list(input().split())\n",
    "size_arr=int(s[0])\n",
    "itaration=int(s[1])\n",
    "li=list(input().split())\n",
    "#print(li)\n",
    "for i in li:\n",
    "    array.append(int(i))\n",
    "#print(array)\n",
    "for j in range(1,itaration):\n",
    "    l=list(input().split())\n",
    "    lb=int(l[0])\n",
    "    ub=int(l[1])\n",
    "    #print(lb)\n",
    "    #print(ub)\n",
    "    #length=ub-lb\n",
    "    #d=array[lb-1:ub+1]\n",
    "    for k in array[lb-1:ub+1]:\n",
    "        sum=sum+k\n",
    "    avg=sum//len(array[lb-1:ub+1])\n",
    "    print(avg,end=' ')"
   ]
  },
  {
   "cell_type": "markdown",
   "metadata": {},
   "source": [
    "### Play with numbers\n",
    "     line1: array size( ), no os queries(q)y elements\n",
    "     line2: n array elements\n",
    "     next q lines : query - sub array of the origin\n",
    "\n",
    "     5 3\n",
    "     1 2 3 4 5\n",
    "     1 3\n",
    "     2 5\n",
    "     2 4\n",
    " "
   ]
  },
  {
   "cell_type": "code",
   "execution_count": null,
   "metadata": {},
   "outputs": [],
   "source": []
  },
  {
   "cell_type": "code",
   "execution_count": 4,
   "metadata": {},
   "outputs": [
    {
     "name": "stdout",
     "output_type": "stream",
     "text": [
      "LLDRU\n",
      "-1 0\n"
     ]
    }
   ],
   "source": [
    "# e-maze-in\n",
    "x=0\n",
    "y=0\n",
    "direction=input()\n",
    "for i in direction:\n",
    "    #print(i)\n",
    "    if i=='L':\n",
    "        x=x-1\n",
    "    elif i=='R':\n",
    "        x=x+1\n",
    "    elif i=='U':\n",
    "        y=y+1\n",
    "    elif i=='D':\n",
    "        y=y-1\n",
    "\n",
    "print(x,y)"
   ]
  },
  {
   "cell_type": "code",
   "execution_count": 42,
   "metadata": {},
   "outputs": [
    {
     "name": "stdout",
     "output_type": "stream",
     "text": [
      "Hello Kirti\n"
     ]
    }
   ],
   "source": [
    "# Hello\n",
    "print(\"Hello Kirti\")"
   ]
  },
  {
   "cell_type": "code",
   "execution_count": 47,
   "metadata": {},
   "outputs": [
    {
     "name": "stdout",
     "output_type": "stream",
     "text": [
      "1\n",
      "2\n",
      "3\n",
      "4\n",
      "5\n",
      "120\n"
     ]
    }
   ],
   "source": [
    "def productnum(n):\n",
    "    k=1\n",
    "    for i in range(1,n+1):\n",
    "        print(i)\n",
    "        k=k*i\n",
    "    print(k)\n",
    "productnum(5)"
   ]
  },
  {
   "cell_type": "code",
   "execution_count": 1,
   "metadata": {},
   "outputs": [
    {
     "name": "stdout",
     "output_type": "stream",
     "text": [
      "2\n",
      "1 3 1\n"
     ]
    },
    {
     "ename": "NameError",
     "evalue": "name 'prob' is not defined",
     "output_type": "error",
     "traceback": [
      "\u001b[1;31m---------------------------------------------------------------------------\u001b[0m",
      "\u001b[1;31mNameError\u001b[0m                                 Traceback (most recent call last)",
      "\u001b[1;32m<ipython-input-1-1b8c7b5d246c>\u001b[0m in \u001b[0;36m<module>\u001b[1;34m\u001b[0m\n\u001b[0;32m     10\u001b[0m \u001b[0msize\u001b[0m\u001b[1;33m=\u001b[0m\u001b[0mint\u001b[0m\u001b[1;33m(\u001b[0m\u001b[0minput\u001b[0m\u001b[1;33m(\u001b[0m\u001b[1;33m)\u001b[0m\u001b[1;33m)\u001b[0m\u001b[1;33m\u001b[0m\u001b[1;33m\u001b[0m\u001b[0m\n\u001b[0;32m     11\u001b[0m \u001b[0mn\u001b[0m\u001b[1;33m=\u001b[0m\u001b[0minput\u001b[0m\u001b[1;33m(\u001b[0m\u001b[1;33m)\u001b[0m\u001b[1;33m.\u001b[0m\u001b[0msplit\u001b[0m\u001b[1;33m(\u001b[0m\u001b[1;33m)\u001b[0m\u001b[1;33m\u001b[0m\u001b[1;33m\u001b[0m\u001b[0m\n\u001b[1;32m---> 12\u001b[1;33m \u001b[0mproductnum\u001b[0m\u001b[1;33m(\u001b[0m\u001b[0mn\u001b[0m\u001b[1;33m)\u001b[0m\u001b[1;33m\u001b[0m\u001b[1;33m\u001b[0m\u001b[0m\n\u001b[0m",
      "\u001b[1;32m<ipython-input-1-1b8c7b5d246c>\u001b[0m in \u001b[0;36mproductnum\u001b[1;34m(n)\u001b[0m\n\u001b[0;32m      4\u001b[0m     \u001b[1;32mfor\u001b[0m \u001b[0mi\u001b[0m \u001b[1;32min\u001b[0m \u001b[0mrange\u001b[0m\u001b[1;33m(\u001b[0m\u001b[0mlen\u001b[0m\u001b[1;33m(\u001b[0m\u001b[0mn\u001b[0m\u001b[1;33m)\u001b[0m\u001b[1;33m)\u001b[0m\u001b[1;33m:\u001b[0m\u001b[1;33m\u001b[0m\u001b[1;33m\u001b[0m\u001b[0m\n\u001b[0;32m      5\u001b[0m         \u001b[1;31m#print(i)\u001b[0m\u001b[1;33m\u001b[0m\u001b[1;33m\u001b[0m\u001b[1;33m\u001b[0m\u001b[0m\n\u001b[1;32m----> 6\u001b[1;33m         \u001b[0mprd\u001b[0m\u001b[1;33m=\u001b[0m\u001b[0mint\u001b[0m\u001b[1;33m(\u001b[0m\u001b[0mn\u001b[0m\u001b[1;33m[\u001b[0m\u001b[0mi\u001b[0m\u001b[1;33m]\u001b[0m\u001b[1;33m)\u001b[0m\u001b[1;33m*\u001b[0m\u001b[0mprob\u001b[0m\u001b[1;33m\u001b[0m\u001b[1;33m\u001b[0m\u001b[0m\n\u001b[0m\u001b[0;32m      7\u001b[0m     \u001b[0mprint\u001b[0m\u001b[1;33m(\u001b[0m\u001b[0mprd\u001b[0m\u001b[1;33m)\u001b[0m\u001b[1;33m\u001b[0m\u001b[1;33m\u001b[0m\u001b[0m\n\u001b[0;32m      8\u001b[0m \u001b[1;33m\u001b[0m\u001b[0m\n",
      "\u001b[1;31mNameError\u001b[0m: name 'prob' is not defined"
     ]
    }
   ],
   "source": [
    "#process2\n",
    "def productnum(n):\n",
    "    prd=1\n",
    "    for i in n:\n",
    "        #print(i)\n",
    "        prd=n*prob\n",
    "    print(prd)\n",
    "    \n",
    "size=int(input())\n",
    "n=input().split()\n",
    "productnum(n)"
   ]
  },
  {
   "cell_type": "code",
   "execution_count": 2,
   "metadata": {},
   "outputs": [
    {
     "name": "stdout",
     "output_type": "stream",
     "text": [
      "1\n",
      "2 3 1 2\n",
      "2\n"
     ]
    }
   ],
   "source": [
    "#process3:\n",
    "\n",
    "def productnum(n1):\n",
    "    prd=1\n",
    "    for i in n1:\n",
    "        #print(i)\n",
    "        prd=((prd*i)%((10**9)+7))\n",
    "    print(prd)\n",
    "  \n",
    "    \n",
    "size=int(input())\n",
    "n=input().split()\n",
    "n1=[]\n",
    "for i in range(size):\n",
    "    n1.append(int(n[i]))\n",
    "productnum(n1)"
   ]
  },
  {
   "cell_type": "code",
   "execution_count": null,
   "metadata": {},
   "outputs": [],
   "source": [
    "# seating arrangment:\n",
    "\n",
    "def seatingarrangment(s):\n",
    "    for j in range()\n",
    "\n",
    "\n",
    "s=int(input())\n",
    "seat=[]\n",
    "for i in range(s):\n",
    "    seat=input().split()\n",
    "    seat[i]=int(seat[i])\n",
    "seatingarrangment(s)"
   ]
  }
 ],
 "metadata": {
  "kernelspec": {
   "display_name": "Python 3",
   "language": "python",
   "name": "python3"
  },
  "language_info": {
   "codemirror_mode": {
    "name": "ipython",
    "version": 3
   },
   "file_extension": ".py",
   "mimetype": "text/x-python",
   "name": "python",
   "nbconvert_exporter": "python",
   "pygments_lexer": "ipython3",
   "version": "3.7.3"
  }
 },
 "nbformat": 4,
 "nbformat_minor": 2
}
